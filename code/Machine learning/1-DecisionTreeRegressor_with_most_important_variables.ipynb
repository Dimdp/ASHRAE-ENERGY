{
  "nbformat": 4,
  "nbformat_minor": 0,
  "metadata": {
    "colab": {
      "name": "1-DecisionTreeRegressor_with_most_important_variables.ipynb",
      "provenance": [],
      "collapsed_sections": []
    },
    "kernelspec": {
      "name": "python3",
      "display_name": "Python 3"
    },
    "language_info": {
      "name": "python"
    }
  },
  "cells": [
    {
      "cell_type": "code",
      "metadata": {
        "colab": {
          "base_uri": "https://localhost:8080/"
        },
        "id": "9ekS7vKqmT-m",
        "outputId": "362d4e9b-8da6-48e8-a34c-9cd2ad89a565"
      },
      "source": [
        "!pip install meteocalc"
      ],
      "execution_count": 1,
      "outputs": [
        {
          "output_type": "stream",
          "text": [
            "Requirement already satisfied: meteocalc in /usr/local/lib/python3.7/dist-packages (1.1.0)\n"
          ],
          "name": "stdout"
        }
      ]
    },
    {
      "cell_type": "code",
      "metadata": {
        "id": "U3FPBdgQmVfT"
      },
      "source": [
        "#from google.colab import drive\n",
        "#drive.mount('/content/drive')\n",
        "#!cp /content/drive/MyDrive/ashrae.zip ashrae.zip\n",
        "#!unzip -q ashrae.zip"
      ],
      "execution_count": 2,
      "outputs": []
    },
    {
      "cell_type": "code",
      "metadata": {
        "colab": {
          "base_uri": "https://localhost:8080/",
          "height": 17
        },
        "id": "8mquHJ0BmYFk",
        "outputId": "8e63761f-113c-434e-9246-3227d76b59a5"
      },
      "source": [
        "import warnings\n",
        "warnings.simplefilter(action='ignore', category=FutureWarning)\n",
        "\n",
        "import gc\n",
        "import pandas as pd\n",
        "import numpy as np\n",
        "import matplotlib.pyplot as plt\n",
        "import seaborn as sns\n",
        "import plotly.graph_objects as go\n",
        "import plotly.figure_factory as ff\n",
        "\n",
        "from IPython.core.pylabtools import figsize\n",
        "from plotly.offline import init_notebook_mode,iplot,plot\n",
        "%matplotlib inline\n",
        "init_notebook_mode(connected=True)\n",
        "plt.style.use(\"ggplot\")\n",
        "\n",
        "from sklearn.metrics import mean_squared_error\n",
        "from sklearn.utils import shuffle\n",
        "from sklearn.preprocessing import  LabelEncoder, StandardScaler\n",
        "from sklearn.model_selection import train_test_split\n",
        "from sklearn.tree import DecisionTreeRegressor\n",
        "\n",
        "# importer les fichiers .py sur le notebook\n",
        "%run utils.py\n",
        "%run feature_enginering.py"
      ],
      "execution_count": 31,
      "outputs": [
        {
          "output_type": "display_data",
          "data": {
            "text/html": [
              "        <script type=\"text/javascript\">\n",
              "        window.PlotlyConfig = {MathJaxConfig: 'local'};\n",
              "        if (window.MathJax) {MathJax.Hub.Config({SVG: {font: \"STIX-Web\"}});}\n",
              "        if (typeof require !== 'undefined') {\n",
              "        require.undef(\"plotly\");\n",
              "        requirejs.config({\n",
              "            paths: {\n",
              "                'plotly': ['https://cdn.plot.ly/plotly-latest.min']\n",
              "            }\n",
              "        });\n",
              "        require(['plotly'], function(Plotly) {\n",
              "            window._Plotly = Plotly;\n",
              "        });\n",
              "        }\n",
              "        </script>\n",
              "        "
            ]
          },
          "metadata": {
            "tags": []
          }
        }
      ]
    },
    {
      "cell_type": "code",
      "metadata": {
        "id": "Bxt_0R7cumno"
      },
      "source": [
        "building = pd.read_csv('/content/building_metadata.csv')\n",
        "weather = pd.read_csv('/content/weather_train.csv')\n",
        "train = pd.read_csv('/content/train.csv')\n",
        "\n",
        "train.loc[(train.meter == 0),'meter_reading'] = train['meter_reading'] * 0.2931 # convertir du kwh vers kbtu"
      ],
      "execution_count": 32,
      "outputs": []
    },
    {
      "cell_type": "code",
      "metadata": {
        "id": "4nm8_iq0uw-A"
      },
      "source": [
        "building = reduce_mem_usage(building)\n",
        "weather  = reduce_mem_usage(weather)\n",
        "train = reduce_mem_usage(train)"
      ],
      "execution_count": 33,
      "outputs": []
    },
    {
      "cell_type": "code",
      "metadata": {
        "id": "qpy8a552u3-A"
      },
      "source": [
        "building = prepare_building_data(building)\n",
        "weather = prepare_weather_data(weather)\n",
        "train  = time_features(train)"
      ],
      "execution_count": 34,
      "outputs": []
    },
    {
      "cell_type": "code",
      "metadata": {
        "colab": {
          "base_uri": "https://localhost:8080/"
        },
        "id": "SWYlePKqvH_A",
        "outputId": "591ffd65-1de4-4601-ac0f-3615bba43376"
      },
      "source": [
        "def join_data(data , weather_data , building_data):\n",
        "\n",
        "    data = data.merge(building_data, on = 'building_id' , how='left')\n",
        "    data = data.merge(weather_data , on = ['site_id','timestamp'], how= 'left')\n",
        "    data = shuffle(data, random_state=0)\n",
        "\n",
        "    return data\n",
        "\n",
        "train = join_data(train , weather , building)\n",
        "\n",
        "train['log_meter_reading'] = np.log(train['meter_reading'] + 1)\n",
        "train['month_group'] = train['month_group'] - 1\n",
        "\n",
        "train = train.drop(['meter_reading'] , axis= 1)\n",
        "\n",
        "del weather, building\n",
        "gc.collect()"
      ],
      "execution_count": 35,
      "outputs": [
        {
          "output_type": "execute_result",
          "data": {
            "text/plain": [
              "156"
            ]
          },
          "metadata": {
            "tags": []
          },
          "execution_count": 35
        }
      ]
    },
    {
      "cell_type": "code",
      "metadata": {
        "id": "r6IpNs-fwnfL"
      },
      "source": [
        "most_important_variables = ['building_id' , 'square_feet' ,\n",
        "                            'meter' , 'feels_like' , 'month_group' , \n",
        "                            'primary_use', 'air_temperature' , 'log_meter_reading']\n",
        "\n",
        "train = train[most_important_variables]\n",
        "train  = reduce_mem_usage(train)"
      ],
      "execution_count": 36,
      "outputs": []
    },
    {
      "cell_type": "code",
      "metadata": {
        "id": "Zc0BHCCDvMLg"
      },
      "source": [
        "cols_to_scale = ['square_feet' , 'air_temperature' , 'feels_like']\n",
        "\n",
        "cols_to_encode = ['primary_use']\n",
        "\n",
        "cols_to_fill_mean = ['air_temperature', 'feels_like']\n",
        "\n",
        "\n",
        "Filler = Data_Filler(cols_to_fill_mean,[])\n",
        "\n",
        "Filler.fit(train)\n",
        "train = Filler.transform(train)\n",
        "\n",
        "ScalerEncoder = Data_Scaler_Encoder(cols_to_scale ,\n",
        "                                    [] , \n",
        "                                    cols_to_encode)\n",
        "ScalerEncoder.fit(train)\n",
        "train = ScalerEncoder.transform(train)"
      ],
      "execution_count": 37,
      "outputs": []
    },
    {
      "cell_type": "code",
      "metadata": {
        "id": "4ZKV9VC0Bm8q"
      },
      "source": [
        "categorical_vars = ['building_id','month_group', 'primary_use']\n",
        "\n",
        "for col in categorical_vars:\n",
        "    train[col] = train[col].astype('category')\n",
        "\n",
        "train  = reduce_mem_usage(train)\n",
        "train_columns = train.columns"
      ],
      "execution_count": 38,
      "outputs": []
    },
    {
      "cell_type": "code",
      "metadata": {
        "colab": {
          "base_uri": "https://localhost:8080/"
        },
        "id": "C5eL8ICXv3C7",
        "outputId": "583efc0c-1028-47bc-93df-3feb59622ce6"
      },
      "source": [
        "y = train['log_meter_reading'].values\n",
        "\n",
        "train = train.drop( ['log_meter_reading'] , axis = 1).values\n",
        "\n",
        "train, valid, y_train, y_valid = train_test_split(train, y, test_size = 0.30, random_state=42)\n",
        "\n",
        "del y\n",
        "gc.collect()"
      ],
      "execution_count": 15,
      "outputs": [
        {
          "output_type": "execute_result",
          "data": {
            "text/plain": [
              "298"
            ]
          },
          "metadata": {
            "tags": []
          },
          "execution_count": 15
        }
      ]
    },
    {
      "cell_type": "code",
      "metadata": {
        "id": "iuB2R9qydTmW"
      },
      "source": [
        "best_params = {}"
      ],
      "execution_count": null,
      "outputs": []
    },
    {
      "cell_type": "code",
      "metadata": {
        "id": "-TilOwpcvPek"
      },
      "source": [
        "max_depths = [5,10,15,20,25]\n",
        "rmses = []\n",
        "\n",
        "for md in max_depths : \n",
        "    tree = DecisionTreeRegressor(max_depth = md )\n",
        "    tree.fit(train , y_train)\n",
        "    y_pred = tree.predict(valid)\n",
        "    rmses.append(mean_squared_error(y_valid, y_pred, squared = False))\n",
        "\n",
        "best_params['max_depth'] = max_depths[rmses.index(min(rmses))]"
      ],
      "execution_count": 12,
      "outputs": []
    },
    {
      "cell_type": "code",
      "metadata": {
        "id": "mA75xwuGyLEv"
      },
      "source": [
        "min_samples_splits = [2,4,6,8,10,12]\n",
        "rmses = []\n",
        "\n",
        "for md in min_samples_splits : \n",
        "    tree = DecisionTreeRegressor(max_depth = best_params['max_depth'] , min_samples_split = md )\n",
        "    tree.fit(train , y_train)\n",
        "    y_pred = tree.predict(valid)\n",
        "    rmses.append(mean_squared_error(y_valid, y_pred, squared = False))\n",
        "\n",
        "best_params['min_samples_split'] = min_samples_splits[rmses.index(min(rmses))]"
      ],
      "execution_count": 13,
      "outputs": []
    },
    {
      "cell_type": "code",
      "metadata": {
        "id": "XLlGNdBty6iO"
      },
      "source": [
        "min_samples_leafs = [1,2,4,6,8,10]\n",
        "rmses = []\n",
        "\n",
        "for md in min_samples_splits : \n",
        "    tree = DecisionTreeRegressor(max_depth = best_params['max_depth'] , \n",
        "                                 min_samples_split = best_params['min_samples_split'],\n",
        "                                 min_samples_leaf = md )\n",
        "    tree.fit(train , y_train)\n",
        "    y_pred = tree.predict(valid)\n",
        "    rmses.append(mean_squared_error(y_valid, y_pred, squared = False))\n",
        "\n",
        "best_params['min_samples_leaf'] = min_samples_leafs[rmses.index(min(rmses))]"
      ],
      "execution_count": 14,
      "outputs": []
    },
    {
      "cell_type": "code",
      "metadata": {
        "id": "PwzlnUeA0c8V"
      },
      "source": [
        "max_leaf_nodes = [None ,2,4,6,8,10]\n",
        "rmses = []\n",
        "\n",
        "for md in max_leaf_nodes : \n",
        "    tree = DecisionTreeRegressor(max_depth = best_params['max_depth'] , \n",
        "                                 min_samples_split = best_params['min_samples_split'],\n",
        "                                 min_samples_leaf = best_params['min_samples_leaf'] ,\n",
        "                                 max_leaf_nodes = md )\n",
        "    tree.fit(train , y_train)\n",
        "    y_pred = tree.predict(valid)\n",
        "    rmses.append(mean_squared_error(y_valid, y_pred, squared = False))\n",
        "\n",
        "best_params['max_leaf_nodes'] = max_leaf_nodes[rmses.index(min(rmses))]"
      ],
      "execution_count": 15,
      "outputs": []
    },
    {
      "cell_type": "code",
      "metadata": {
        "id": "gEhNPHcN0mY_"
      },
      "source": [
        "min_impurity_splits = [0 , 0.05 , 0.1 , 0.15 , 0.20 , 0.25]\n",
        "rmses = []\n",
        "for md in min_impurity_splits : \n",
        "    tree = DecisionTreeRegressor(max_depth = best_params['max_depth'] , \n",
        "                                 min_samples_split = best_params['min_samples_split'],\n",
        "                                 min_samples_leaf = best_params['min_samples_leaf'] ,\n",
        "                                 max_leaf_nodes = best_params['max_leaf_nodes'],\n",
        "                                 min_impurity_split = md)\n",
        "    tree.fit(train , y_train)\n",
        "    y_pred = tree.predict(valid)\n",
        "    rmses.append(mean_squared_error(y_valid, y_pred, squared = False))\n",
        "\n",
        "best_params['min_impurity_split'] = min_impurity_splits[rmses.index(min(rmses))]"
      ],
      "execution_count": 16,
      "outputs": []
    },
    {
      "cell_type": "code",
      "metadata": {
        "colab": {
          "base_uri": "https://localhost:8080/"
        },
        "id": "Qh8OuaIulg1h",
        "outputId": "446525c3-a346-416c-f794-5cf385609972"
      },
      "source": [
        "best_params"
      ],
      "execution_count": 17,
      "outputs": [
        {
          "output_type": "execute_result",
          "data": {
            "text/plain": [
              "{'max_depth': 25,\n",
              " 'max_leaf_nodes': None,\n",
              " 'min_impurity_split': 0,\n",
              " 'min_samples_leaf': 6,\n",
              " 'min_samples_split': 12}"
            ]
          },
          "metadata": {
            "tags": []
          },
          "execution_count": 17
        }
      ]
    },
    {
      "cell_type": "code",
      "metadata": {
        "id": "AmjloxZf-0vI"
      },
      "source": [
        "tree =  DecisionTreeRegressor(max_depth = best_params['max_depth'] , \n",
        "                              min_samples_split = best_params['min_samples_split'] ,\n",
        "                              min_samples_leaf = best_params['min_samples_leaf'] ,\n",
        "                              max_leaf_nodes = best_params['max_leaf_nodes'],\n",
        "                              min_impurity_split = best_params['min_impurity_split'])\n"
      ],
      "execution_count": 18,
      "outputs": []
    },
    {
      "cell_type": "code",
      "metadata": {
        "id": "nSryuoKqZt4J"
      },
      "source": [
        "train = np.concatenate((train , valid) , axis = 0)\n",
        "y_train = np.concatenate((y_train , y_valid) , axis = 0)"
      ],
      "execution_count": 19,
      "outputs": []
    },
    {
      "cell_type": "code",
      "metadata": {
        "colab": {
          "base_uri": "https://localhost:8080/"
        },
        "id": "0LYYXQQLYbO4",
        "outputId": "bd8d3d4d-de6e-4f3d-f67a-2bf744d97c1d"
      },
      "source": [
        "tree.fit(train , y_train)"
      ],
      "execution_count": 20,
      "outputs": [
        {
          "output_type": "execute_result",
          "data": {
            "text/plain": [
              "DecisionTreeRegressor(ccp_alpha=0.0, criterion='mse', max_depth=25,\n",
              "                      max_features=None, max_leaf_nodes=None,\n",
              "                      min_impurity_decrease=0.0, min_impurity_split=0,\n",
              "                      min_samples_leaf=6, min_samples_split=12,\n",
              "                      min_weight_fraction_leaf=0.0, presort='deprecated',\n",
              "                      random_state=None, splitter='best')"
            ]
          },
          "metadata": {
            "tags": []
          },
          "execution_count": 20
        }
      ]
    },
    {
      "cell_type": "code",
      "metadata": {
        "colab": {
          "base_uri": "https://localhost:8080/"
        },
        "id": "Uwax8QSDYnke",
        "outputId": "d2579978-633e-453e-ad73-b6c1bbd1e5fb"
      },
      "source": [
        "del train, y_train\n",
        "gc.collect()"
      ],
      "execution_count": 21,
      "outputs": [
        {
          "output_type": "execute_result",
          "data": {
            "text/plain": [
              "0"
            ]
          },
          "metadata": {
            "tags": []
          },
          "execution_count": 21
        }
      ]
    },
    {
      "cell_type": "code",
      "metadata": {
        "colab": {
          "base_uri": "https://localhost:8080/",
          "height": 331
        },
        "id": "71O5VKkCgSyq",
        "outputId": "2cef7f6f-80e5-4300-e67c-ec69d790d292"
      },
      "source": [
        "importance = tree.feature_importances_\n",
        "plt.figure(figsize = (5 , 5))\n",
        "plt.barh(train_columns[:-1], importance)\n",
        "plt.xticks(rotation = 90)\n",
        "plt.show()"
      ],
      "execution_count": 39,
      "outputs": [
        {
          "output_type": "display_data",
          "data": {
            "image/png": "[encoded data removed]",
            "text/plain": [
              "<Figure size 360x360 with 1 Axes>"
            ]
          },
          "metadata": {
            "tags": []
          }
        }
      ]
    },
    {
      "cell_type": "code",
      "metadata": {
        "id": "wLMN42vqcDhx"
      },
      "source": [
        "test = pd.read_csv('/content/test.csv')\n",
        "weather_test = pd.read_csv('/content/weather_test.csv')\n",
        "building = pd.read_csv('/content/building_metadata.csv')\n",
        "\n",
        "\n",
        "weather_test  = reduce_mem_usage(weather_test)\n",
        "building = reduce_mem_usage(building)\n",
        "test = reduce_mem_usage(test)\n",
        "\n",
        "\n",
        "weather_test = prepare_weather_data(weather_test)\n",
        "building = prepare_building_data(building)\n",
        "test = time_features(test)"
      ],
      "execution_count": 23,
      "outputs": []
    },
    {
      "cell_type": "code",
      "metadata": {
        "colab": {
          "base_uri": "https://localhost:8080/"
        },
        "id": "TpLK6AkDcYTL",
        "outputId": "ffe90aca-d34f-4bc2-924b-4e350f77d169"
      },
      "source": [
        "step_size = 100000\n",
        "nrows = test.shape[0]\n",
        "num_steps = nrows//step_size\n",
        "print('nombre d\\'iterations' , num_steps)\n",
        "\n",
        "row_id = np.array([])\n",
        "meter_values = np.array([])\n",
        "y_pred = np.array([])\n",
        "\n",
        "for j in range(num_steps+1):\n",
        "    start_idx = j*step_size\n",
        "    end_idx = (j+1)*step_size\n",
        "    if j == num_steps : \n",
        "        start_idx = j*step_size\n",
        "        end_idx = nrows\n",
        "      \n",
        "    test_tmp = test.iloc[start_idx:end_idx]\n",
        "    \n",
        "    test_tmp = join_data(test_tmp , weather_test , building)\n",
        "    test_tmp = test_tmp[['row_id'] + most_important_variables[:-1]]\n",
        "    \n",
        "    test_tmp = Filler.transform(test_tmp)\n",
        "    test_tmp = ScalerEncoder.transform(test_tmp)\n",
        "    test_tmp['month_group'] = test_tmp['month_group'] - 1\n",
        "    \n",
        "    for col in categorical_vars:\n",
        "        test_tmp[col] = test_tmp[col].astype('category')\n",
        "\n",
        "    row_id_tmp = test_tmp['row_id'].values\n",
        "    row_id = np.concatenate((row_id,row_id_tmp))\n",
        "\n",
        "    test_tmp = test_tmp.drop(['row_id'] , axis= 1)\n",
        "\n",
        "    meter_values_tmp = test_tmp['meter'].values\n",
        "    meter_values = np.concatenate((meter_values,meter_values_tmp))\n",
        "\n",
        "    predictions = tree.predict(test_tmp)\n",
        "    predictions = predictions.reshape(predictions.shape[0])\n",
        "\n",
        "    y_pred = np.concatenate((y_pred,predictions))\n",
        "    if j%50==0:\n",
        "        print('iteration' , j)"
      ],
      "execution_count": 24,
      "outputs": [
        {
          "output_type": "stream",
          "text": [
            "nombre d'iterations 416\n",
            "iteration 0\n",
            "iteration 50\n",
            "iteration 100\n",
            "iteration 150\n",
            "iteration 200\n",
            "iteration 250\n",
            "iteration 300\n",
            "iteration 350\n",
            "iteration 400\n"
          ],
          "name": "stdout"
        }
      ]
    },
    {
      "cell_type": "code",
      "metadata": {
        "id": "cQVJ0dHpeq13"
      },
      "source": [
        "pred_final = {'row_id': row_id, 'meter' : meter_values , 'meter_reading': y_pred}\n",
        "pred_final = pd.DataFrame(data = pred_final)\n",
        "\n",
        "KWH_TO_KBTU = 0.2931 \n",
        "pred_final['meter_reading'] = np.exp(pred_final['meter_reading']) - 1\n",
        "pred_final.loc[(pred_final.meter == 0),'meter_reading'] = pred_final['meter_reading'] / KWH_TO_KBTU # convertir du kwh vers kbtu\n",
        "\n",
        "pred_final = pred_final.sort_values(by=['row_id'])\n",
        "pred_final = pred_final.drop(['meter'] , axis = 1)\n",
        "pred_final.loc[pred_final.meter_reading < 0 , 'meter_reading'] = 0"
      ],
      "execution_count": 27,
      "outputs": []
    },
    {
      "cell_type": "code",
      "metadata": {
        "colab": {
          "base_uri": "https://localhost:8080/",
          "height": 405
        },
        "id": "xWVN_Ovte6D-",
        "outputId": "d0bcd553-cc69-4fd9-c198-07fab50e7875"
      },
      "source": [
        "pred_final.row_id = pred_final.row_id.astype('int32')\n",
        "pred_final"
      ],
      "execution_count": 28,
      "outputs": [
        {
          "output_type": "execute_result",
          "data": {
            "text/html": [
              "<div>\n",
              "<style scoped>\n",
              "    .dataframe tbody tr th:only-of-type {\n",
              "        vertical-align: middle;\n",
              "    }\n",
              "\n",
              "    .dataframe tbody tr th {\n",
              "        vertical-align: top;\n",
              "    }\n",
              "\n",
              "    .dataframe thead th {\n",
              "        text-align: right;\n",
              "    }\n",
              "</style>\n",
              "<table border=\"1\" class=\"dataframe\">\n",
              "  <thead>\n",
              "    <tr style=\"text-align: right;\">\n",
              "      <th></th>\n",
              "      <th>row_id</th>\n",
              "      <th>meter_reading</th>\n",
              "    </tr>\n",
              "  </thead>\n",
              "  <tbody>\n",
              "    <tr>\n",
              "      <th>52860</th>\n",
              "      <td>0</td>\n",
              "      <td>0.000000</td>\n",
              "    </tr>\n",
              "    <tr>\n",
              "      <th>33031</th>\n",
              "      <td>1</td>\n",
              "      <td>0.162852</td>\n",
              "    </tr>\n",
              "    <tr>\n",
              "      <th>83905</th>\n",
              "      <td>2</td>\n",
              "      <td>0.000000</td>\n",
              "    </tr>\n",
              "    <tr>\n",
              "      <th>15517</th>\n",
              "      <td>3</td>\n",
              "      <td>0.000000</td>\n",
              "    </tr>\n",
              "    <tr>\n",
              "      <th>46516</th>\n",
              "      <td>4</td>\n",
              "      <td>0.000000</td>\n",
              "    </tr>\n",
              "    <tr>\n",
              "      <th>...</th>\n",
              "      <td>...</td>\n",
              "      <td>...</td>\n",
              "    </tr>\n",
              "    <tr>\n",
              "      <th>41640965</th>\n",
              "      <td>41697595</td>\n",
              "      <td>4.676772</td>\n",
              "    </tr>\n",
              "    <tr>\n",
              "      <th>41659597</th>\n",
              "      <td>41697596</td>\n",
              "      <td>4.118312</td>\n",
              "    </tr>\n",
              "    <tr>\n",
              "      <th>41675115</th>\n",
              "      <td>41697597</td>\n",
              "      <td>1.614814</td>\n",
              "    </tr>\n",
              "    <tr>\n",
              "      <th>41629031</th>\n",
              "      <td>41697598</td>\n",
              "      <td>179.529327</td>\n",
              "    </tr>\n",
              "    <tr>\n",
              "      <th>41667493</th>\n",
              "      <td>41697599</td>\n",
              "      <td>3.063036</td>\n",
              "    </tr>\n",
              "  </tbody>\n",
              "</table>\n",
              "<p>41697600 rows × 2 columns</p>\n",
              "</div>"
            ],
            "text/plain": [
              "            row_id  meter_reading\n",
              "52860            0       0.000000\n",
              "33031            1       0.162852\n",
              "83905            2       0.000000\n",
              "15517            3       0.000000\n",
              "46516            4       0.000000\n",
              "...            ...            ...\n",
              "41640965  41697595       4.676772\n",
              "41659597  41697596       4.118312\n",
              "41675115  41697597       1.614814\n",
              "41629031  41697598     179.529327\n",
              "41667493  41697599       3.063036\n",
              "\n",
              "[41697600 rows x 2 columns]"
            ]
          },
          "metadata": {
            "tags": []
          },
          "execution_count": 28
        }
      ]
    },
    {
      "cell_type": "code",
      "metadata": {
        "id": "YhPdr4tFe14v"
      },
      "source": [
        "compression_opts = dict(method='zip',archive_name='out_important_vars.csv')  \n",
        "\n",
        "pred_final.to_csv('out_important_vars.zip', index=False,compression=compression_opts)"
      ],
      "execution_count": 29,
      "outputs": []
    },
    {
      "cell_type": "code",
      "metadata": {
        "id": "1vfsF6Y2fG7p"
      },
      "source": [
        "!cp out_important_vars.zip /content/drive/MyDrive/out_important_vars.zip"
      ],
      "execution_count": 30,
      "outputs": []
    },
    {
      "cell_type": "code",
      "metadata": {
        "id": "7ChVugUmf6NP"
      },
      "source": [
        ""
      ],
      "execution_count": null,
      "outputs": []
    }
  ]
}
