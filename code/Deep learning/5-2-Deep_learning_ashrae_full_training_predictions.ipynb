{
  "nbformat": 4,
  "nbformat_minor": 0,
  "metadata": {
    "colab": {
      "name": "5_2_Deep_learning_ashrae_full_training_predictions.ipynb",
      "provenance": [],
      "collapsed_sections": []
    },
    "kernelspec": {
      "name": "python3",
      "display_name": "Python 3"
    },
    "accelerator": "GPU"
  },
  "cells": [
    {
      "cell_type": "code",
      "metadata": {
        "colab": {
          "base_uri": "https://localhost:8080/"
        },
        "id": "vdJLq0Ih7_cM",
        "outputId": "dff893e4-a2e4-4cac-ddac-8bc663fe21d9"
      },
      "source": [
        "!pip install meteocalc"
      ],
      "execution_count": 1,
      "outputs": [
        {
          "output_type": "stream",
          "text": [
            "Requirement already satisfied: meteocalc in /usr/local/lib/python3.7/dist-packages (1.1.0)\n"
          ],
          "name": "stdout"
        }
      ]
    },
    {
      "cell_type": "code",
      "metadata": {
        "id": "urKdT5nkWxaQ"
      },
      "source": [
        "#from google.colab import drive\n",
        "#drive.mount('/content/drive')\n",
        "#!cp /content/drive/MyDrive/ashrae.zip ashrae.zip\n",
        "#!unzip -q ashrae.zip"
      ],
      "execution_count": 2,
      "outputs": []
    },
    {
      "cell_type": "code",
      "metadata": {
        "colab": {
          "base_uri": "https://localhost:8080/",
          "height": 17
        },
        "id": "i2zx2E54W2eA",
        "outputId": "51926705-f8e6-45bb-cd59-e32db39288f1"
      },
      "source": [
        "import warnings\n",
        "warnings.simplefilter(action='ignore', category=FutureWarning)\n",
        "\n",
        "import gc\n",
        "import pandas as pd\n",
        "import numpy as np\n",
        "import matplotlib.pyplot as plt\n",
        "import seaborn as sns\n",
        "import plotly.graph_objects as go\n",
        "import plotly.figure_factory as ff\n",
        "\n",
        "from IPython.core.pylabtools import figsize\n",
        "from plotly.offline import init_notebook_mode,iplot,plot\n",
        "%matplotlib inline\n",
        "init_notebook_mode(connected=True)\n",
        "plt.style.use(\"ggplot\")\n",
        "from sklearn.utils import shuffle\n",
        "\n",
        "from sklearn.preprocessing import  LabelEncoder, StandardScaler\n",
        "from sklearn.model_selection import train_test_split\n",
        "\n",
        "from keras.models import load_model\n",
        "from keras.models import Model \n",
        "from keras.layers import Input, Dense, Lambda\n",
        "from keras.layers import Embedding, Flatten, Dropout, Add, Activation\n",
        "from keras.optimizers import Adam \n",
        "from keras.callbacks import ModelCheckpoint,EarlyStopping\n",
        "import keras.backend as K\n",
        "\n",
        "# importer les fichiers .py sur le notebook\n",
        "%run utils.py\n",
        "%run feature_enginering.py"
      ],
      "execution_count": 3,
      "outputs": [
        {
          "output_type": "display_data",
          "data": {
            "text/html": [
              "        <script type=\"text/javascript\">\n",
              "        window.PlotlyConfig = {MathJaxConfig: 'local'};\n",
              "        if (window.MathJax) {MathJax.Hub.Config({SVG: {font: \"STIX-Web\"}});}\n",
              "        if (typeof require !== 'undefined') {\n",
              "        require.undef(\"plotly\");\n",
              "        requirejs.config({\n",
              "            paths: {\n",
              "                'plotly': ['https://cdn.plot.ly/plotly-latest.min']\n",
              "            }\n",
              "        });\n",
              "        require(['plotly'], function(Plotly) {\n",
              "            window._Plotly = Plotly;\n",
              "        });\n",
              "        }\n",
              "        </script>\n",
              "        "
            ]
          },
          "metadata": {
            "tags": []
          }
        }
      ]
    },
    {
      "cell_type": "code",
      "metadata": {
        "id": "XP1Ms_WdW8VR"
      },
      "source": [
        "building = pd.read_csv('/content/building_metadata.csv')\n",
        "weather = pd.read_csv('/content/weather_train.csv')\n",
        "train = pd.read_csv('/content/train.csv')\n",
        "\n",
        "train.loc[(train.meter == 0),'meter_reading'] = train['meter_reading'] * 0.2931 # convertir du kwh vers kbtu"
      ],
      "execution_count": 4,
      "outputs": []
    },
    {
      "cell_type": "code",
      "metadata": {
        "id": "Jc7z3jkrB5ex"
      },
      "source": [
        "building = reduce_mem_usage(building)\n",
        "weather  = reduce_mem_usage(weather)\n",
        "train = reduce_mem_usage(train)"
      ],
      "execution_count": 5,
      "outputs": []
    },
    {
      "cell_type": "code",
      "metadata": {
        "id": "KwbcY8FGCA6Z"
      },
      "source": [
        "building = prepare_building_data(building)\n",
        "weather = prepare_weather_data(weather)\n",
        "train  = time_features(train)"
      ],
      "execution_count": 6,
      "outputs": []
    },
    {
      "cell_type": "code",
      "metadata": {
        "id": "4sAM2Cv1uFKC"
      },
      "source": [
        "def join_data(data , weather_data , building_data):\n",
        "\n",
        "    data = data.merge(building_data, on = 'building_id' , how='left')\n",
        "    data = data.merge(weather_data , on = ['site_id','timestamp'], how= 'left')\n",
        "    data = shuffle(data, random_state=0)\n",
        "\n",
        "    return data"
      ],
      "execution_count": 7,
      "outputs": []
    },
    {
      "cell_type": "code",
      "metadata": {
        "id": "On0jd7ppXFUg",
        "colab": {
          "base_uri": "https://localhost:8080/"
        },
        "outputId": "c40b0a7e-dc46-4fa4-c2b9-f204b25c33d2"
      },
      "source": [
        "train = join_data(train , weather , building)\n",
        "\n",
        "train['log_meter_reading'] = np.log(train['meter_reading'] + 1)\n",
        "train['month_group'] = train['month_group'] - 1\n",
        "\n",
        "train = train.drop(['meter_reading'] , axis= 1)\n",
        "\n",
        "train  = reduce_mem_usage(train)\n",
        "del weather, building\n",
        "gc.collect()"
      ],
      "execution_count": 8,
      "outputs": [
        {
          "output_type": "execute_result",
          "data": {
            "text/plain": [
              "26"
            ]
          },
          "metadata": {
            "tags": []
          },
          "execution_count": 8
        }
      ]
    },
    {
      "cell_type": "code",
      "metadata": {
        "id": "HQOjAEbl-pqc",
        "colab": {
          "base_uri": "https://localhost:8080/"
        },
        "outputId": "f1093c32-640e-480b-820c-3505b644cfd4"
      },
      "source": [
        "print(len(train.columns))\n",
        "print(train.columns)\n",
        "print(train.shape)"
      ],
      "execution_count": 9,
      "outputs": [
        {
          "output_type": "stream",
          "text": [
            "24\n",
            "Index(['building_id', 'meter', 'timestamp', 'hour', 'dayofweek', 'month_group',\n",
            "       'site_id', 'primary_use', 'square_feet', 'year_built', 'floor_count',\n",
            "       'air_temperature', 'cloud_coverage', 'dew_temperature',\n",
            "       'precip_depth_1_hr', 'sea_level_pressure', 'wind_direction',\n",
            "       'wind_speed', 'relative_humidity', 'feels_like', 'city', 'country',\n",
            "       'is_holiday', 'log_meter_reading'],\n",
            "      dtype='object')\n",
            "(20216100, 24)\n"
          ],
          "name": "stdout"
        }
      ]
    },
    {
      "cell_type": "code",
      "metadata": {
        "colab": {
          "base_uri": "https://localhost:8080/"
        },
        "id": "Q0LfiAYztqY_",
        "outputId": "a5202efd-8398-4ab4-f5ec-9ccca723e688"
      },
      "source": [
        "for col in train.columns:\n",
        "  if train[col].isnull().values.any():\n",
        "    print(col , 'il y a', train[col].isnull().values.sum() , ' Nan ')"
      ],
      "execution_count": 10,
      "outputs": [
        {
          "output_type": "stream",
          "text": [
            "air_temperature il y a 90495  Nan \n",
            "cloud_coverage il y a 90495  Nan \n",
            "dew_temperature il y a 90495  Nan \n",
            "precip_depth_1_hr il y a 90495  Nan \n",
            "sea_level_pressure il y a 90495  Nan \n",
            "wind_direction il y a 90495  Nan \n",
            "wind_speed il y a 90495  Nan \n",
            "relative_humidity il y a 90495  Nan \n",
            "feels_like il y a 90495  Nan \n",
            "city il y a 90495  Nan \n",
            "country il y a 90495  Nan \n",
            "is_holiday il y a 90495  Nan \n"
          ],
          "name": "stdout"
        }
      ]
    },
    {
      "cell_type": "code",
      "metadata": {
        "id": "Sy29N7vCYVft"
      },
      "source": [
        "cols_to_drop = ['year_built' , 'floor_count' , 'timestamp']\n",
        "\n",
        "cols_to_scale = ['square_feet' , 'air_temperature' , 'dew_temperature' ,\n",
        "                 'wind_speed', 'cloud_coverage', 'sea_level_pressure', 'wind_direction',\n",
        "                 'relative_humidity', 'feels_like']\n",
        "\n",
        "cols_to_encode = ['primary_use' , 'city' , 'country']\n",
        "\n",
        "cols_to_fill_mean = ['air_temperature', 'cloud_coverage', 'dew_temperature', 'precip_depth_1_hr',\n",
        "                       'sea_level_pressure','wind_direction' , 'wind_speed', 'relative_humidity' ,\n",
        "                       'feels_like']\n",
        "\n",
        "cols_to_fill_categ = ['city' , 'country' , 'is_holiday']\n",
        "\n",
        "\n",
        "Filler = Data_Filler(cols_to_fill_mean,\n",
        "                     cols_to_fill_categ)\n",
        "\n",
        "Filler.fit(train)\n",
        "train = Filler.transform(train)\n",
        "\n",
        "ScalerEncoder = Data_Scaler_Encoder(cols_to_scale ,\n",
        "                                    cols_to_drop , \n",
        "                                    cols_to_encode)\n",
        "ScalerEncoder.fit(train)\n",
        "train = ScalerEncoder.transform(train)"
      ],
      "execution_count": 11,
      "outputs": []
    },
    {
      "cell_type": "code",
      "metadata": {
        "colab": {
          "base_uri": "https://localhost:8080/",
          "height": 680
        },
        "id": "x0sq970MZ_d5",
        "outputId": "6f9f96c1-b010-4547-d67b-67e1416746de"
      },
      "source": [
        "plt.figure(figsize = (10 , 10))\n",
        "sns.heatmap(train[cols_to_scale + ['log_meter_reading']].corr(), annot=True)\n",
        "plt.show()"
      ],
      "execution_count": 12,
      "outputs": [
        {
          "output_type": "display_data",
          "data": {
            "image/png": "[encoded data removed]",
            "text/plain": [
              "<Figure size 720x720 with 2 Axes>"
            ]
          },
          "metadata": {
            "tags": []
          }
        }
      ]
    },
    {
      "cell_type": "markdown",
      "metadata": {
        "id": "B0N5Wb8kb1IR"
      },
      "source": [
        "* air_temperature et dew_temperature sont correlees, on enleve une. (air_temperature)\n",
        "\n",
        "* wind_direction et wind_speed sont correlees, on enleve une. (wind_direction)\n",
        "\n"
      ]
    },
    {
      "cell_type": "code",
      "metadata": {
        "id": "enPoSsTcvkMA"
      },
      "source": [
        "def residual_block(input_x, nodes):\n",
        "    d1 = Dense(nodes,activation='relu')(input_x)\n",
        "    d1 = Dropout(0.1)(d1)\n",
        "    d2 = Dense(nodes,activation='relu')(d1)\n",
        "    d2 = Dropout(0.1)(d2)\n",
        "    \n",
        "    projected_x = Dense(nodes,activation='relu')(input_x)\n",
        "\n",
        "    add = Add()([projected_x , d2])\n",
        "    return add\n",
        "\n",
        "def create_model(data , categorical_vars , numerical_vars):\n",
        "    categ_inputs = []\n",
        "    embed_layers = []  \n",
        "    for col in categorical_vars:\n",
        "        num_classes = len(np.unique(data[col]))\n",
        "\n",
        "        input_x = Input(shape = [1] , name = col)\n",
        "        categ_inputs.append(input_x)\n",
        "\n",
        "        embed_x = Embedding(num_classes, 3)(input_x)\n",
        "        embed_layers.append(embed_x)\n",
        "\n",
        "    num_inputs = []\n",
        "    for col in numerical_vars:\n",
        "        num_inputs.append(Input(shape=[1] , name = col))\n",
        "\n",
        "    concat_emb = K.concatenate([Flatten()(emb_layer) for emb_layer in embed_layers])\n",
        "\n",
        "    d1 = residual_block(concat_emb , 512) # 512\n",
        "    main = K.concatenate(num_inputs + [d1])\n",
        "\n",
        "    d2 = residual_block(main , 512) # 512\n",
        "    \n",
        "    d2 = residual_block(d2 , 256)\n",
        "    \n",
        "    d2 = residual_block(d2 , 8)\n",
        "\n",
        "    df = Dense(3 , name = 'second_to_last_layer')(d2)\n",
        "\n",
        "    output = Dense(1)(df)\n",
        "    model  = Model(categ_inputs + num_inputs, output)\n",
        "\n",
        "    return model \n",
        "\n",
        "def rmse(y_true, y_pred):\n",
        "    \"\"\" root_mean_squared_error \"\"\"\n",
        "    return K.sqrt(K.mean(K.square(y_pred - y_true)))"
      ],
      "execution_count": 13,
      "outputs": []
    },
    {
      "cell_type": "code",
      "metadata": {
        "id": "3tAXlGeOBEIG",
        "colab": {
          "base_uri": "https://localhost:8080/",
          "height": 217
        },
        "outputId": "4b804845-8fa3-4996-da1c-cb7afbb43fce"
      },
      "source": [
        "train.head()"
      ],
      "execution_count": 14,
      "outputs": [
        {
          "output_type": "execute_result",
          "data": {
            "text/html": [
              "<div>\n",
              "<style scoped>\n",
              "    .dataframe tbody tr th:only-of-type {\n",
              "        vertical-align: middle;\n",
              "    }\n",
              "\n",
              "    .dataframe tbody tr th {\n",
              "        vertical-align: top;\n",
              "    }\n",
              "\n",
              "    .dataframe thead th {\n",
              "        text-align: right;\n",
              "    }\n",
              "</style>\n",
              "<table border=\"1\" class=\"dataframe\">\n",
              "  <thead>\n",
              "    <tr style=\"text-align: right;\">\n",
              "      <th></th>\n",
              "      <th>building_id</th>\n",
              "      <th>meter</th>\n",
              "      <th>hour</th>\n",
              "      <th>dayofweek</th>\n",
              "      <th>month_group</th>\n",
              "      <th>site_id</th>\n",
              "      <th>primary_use</th>\n",
              "      <th>square_feet</th>\n",
              "      <th>air_temperature</th>\n",
              "      <th>cloud_coverage</th>\n",
              "      <th>dew_temperature</th>\n",
              "      <th>precip_depth_1_hr</th>\n",
              "      <th>sea_level_pressure</th>\n",
              "      <th>wind_direction</th>\n",
              "      <th>wind_speed</th>\n",
              "      <th>relative_humidity</th>\n",
              "      <th>feels_like</th>\n",
              "      <th>city</th>\n",
              "      <th>country</th>\n",
              "      <th>is_holiday</th>\n",
              "      <th>log_meter_reading</th>\n",
              "    </tr>\n",
              "  </thead>\n",
              "  <tbody>\n",
              "    <tr>\n",
              "      <th>11990877</th>\n",
              "      <td>774</td>\n",
              "      <td>1</td>\n",
              "      <td>8</td>\n",
              "      <td>6</td>\n",
              "      <td>2</td>\n",
              "      <td>6</td>\n",
              "      <td>4</td>\n",
              "      <td>-0.121928</td>\n",
              "      <td>0.622309</td>\n",
              "      <td>-0.493968</td>\n",
              "      <td>1.335863</td>\n",
              "      <td>0.000000</td>\n",
              "      <td>0.971994</td>\n",
              "      <td>-1.508241</td>\n",
              "      <td>-1.586555</td>\n",
              "      <td>1.220804</td>\n",
              "      <td>0.625725</td>\n",
              "      <td>12</td>\n",
              "      <td>3</td>\n",
              "      <td>0.0</td>\n",
              "      <td>3.614396</td>\n",
              "    </tr>\n",
              "    <tr>\n",
              "      <th>15256244</th>\n",
              "      <td>206</td>\n",
              "      <td>0</td>\n",
              "      <td>14</td>\n",
              "      <td>1</td>\n",
              "      <td>2</td>\n",
              "      <td>2</td>\n",
              "      <td>9</td>\n",
              "      <td>2.032176</td>\n",
              "      <td>-0.004326</td>\n",
              "      <td>-0.902715</td>\n",
              "      <td>-0.443634</td>\n",
              "      <td>0.000000</td>\n",
              "      <td>0.950487</td>\n",
              "      <td>-0.693963</td>\n",
              "      <td>-0.905198</td>\n",
              "      <td>-0.907559</td>\n",
              "      <td>0.046760</td>\n",
              "      <td>11</td>\n",
              "      <td>3</td>\n",
              "      <td>0.0</td>\n",
              "      <td>4.209454</td>\n",
              "    </tr>\n",
              "    <tr>\n",
              "      <th>18401495</th>\n",
              "      <td>1269</td>\n",
              "      <td>0</td>\n",
              "      <td>10</td>\n",
              "      <td>1</td>\n",
              "      <td>2</td>\n",
              "      <td>14</td>\n",
              "      <td>3</td>\n",
              "      <td>-0.438739</td>\n",
              "      <td>-0.733841</td>\n",
              "      <td>-0.902715</td>\n",
              "      <td>-0.273682</td>\n",
              "      <td>0.000000</td>\n",
              "      <td>1.015009</td>\n",
              "      <td>-0.603487</td>\n",
              "      <td>-0.405537</td>\n",
              "      <td>0.755967</td>\n",
              "      <td>-0.627258</td>\n",
              "      <td>7</td>\n",
              "      <td>3</td>\n",
              "      <td>0.0</td>\n",
              "      <td>2.241073</td>\n",
              "    </tr>\n",
              "    <tr>\n",
              "      <th>15573710</th>\n",
              "      <td>951</td>\n",
              "      <td>0</td>\n",
              "      <td>4</td>\n",
              "      <td>0</td>\n",
              "      <td>2</td>\n",
              "      <td>9</td>\n",
              "      <td>6</td>\n",
              "      <td>-0.032943</td>\n",
              "      <td>0.098554</td>\n",
              "      <td>-0.902715</td>\n",
              "      <td>-0.213699</td>\n",
              "      <td>0.000000</td>\n",
              "      <td>1.066786</td>\n",
              "      <td>-1.508241</td>\n",
              "      <td>-1.586555</td>\n",
              "      <td>-0.727844</td>\n",
              "      <td>0.141815</td>\n",
              "      <td>0</td>\n",
              "      <td>3</td>\n",
              "      <td>1.0</td>\n",
              "      <td>3.529892</td>\n",
              "    </tr>\n",
              "    <tr>\n",
              "      <th>6515439</th>\n",
              "      <td>656</td>\n",
              "      <td>0</td>\n",
              "      <td>21</td>\n",
              "      <td>6</td>\n",
              "      <td>1</td>\n",
              "      <td>5</td>\n",
              "      <td>7</td>\n",
              "      <td>-0.870854</td>\n",
              "      <td>-0.481317</td>\n",
              "      <td>-0.902715</td>\n",
              "      <td>0.226177</td>\n",
              "      <td>-0.041667</td>\n",
              "      <td>0.990017</td>\n",
              "      <td>1.206021</td>\n",
              "      <td>-0.405537</td>\n",
              "      <td>1.372431</td>\n",
              "      <td>-0.393944</td>\n",
              "      <td>10</td>\n",
              "      <td>2</td>\n",
              "      <td>0.0</td>\n",
              "      <td>2.359378</td>\n",
              "    </tr>\n",
              "  </tbody>\n",
              "</table>\n",
              "</div>"
            ],
            "text/plain": [
              "          building_id  meter  hour  ...  country  is_holiday  log_meter_reading\n",
              "11990877          774      1     8  ...        3         0.0           3.614396\n",
              "15256244          206      0    14  ...        3         0.0           4.209454\n",
              "18401495         1269      0    10  ...        3         0.0           2.241073\n",
              "15573710          951      0     4  ...        3         1.0           3.529892\n",
              "6515439           656      0    21  ...        2         0.0           2.359378\n",
              "\n",
              "[5 rows x 21 columns]"
            ]
          },
          "metadata": {
            "tags": []
          },
          "execution_count": 14
        }
      ]
    },
    {
      "cell_type": "code",
      "metadata": {
        "id": "-OkyaC4140Nh"
      },
      "source": [
        "categorical_vars = ['building_id' , 'meter', 'hour', 'dayofweek' ,\n",
        "                    'month_group', 'site_id' , \n",
        "                    'primary_use', 'city', 'country', 'is_holiday']\n",
        "                    \n",
        "numerical_vars = ['square_feet', 'cloud_coverage', 'dew_temperature',\n",
        "                  'precip_depth_1_hr', 'sea_level_pressure', 'wind_speed', \n",
        "                  'relative_humidity' , 'feels_like']\n",
        "\n",
        "target_var = 'log_meter_reading'\n",
        "\n",
        "model = create_model(train, categorical_vars, numerical_vars)"
      ],
      "execution_count": 15,
      "outputs": []
    },
    {
      "cell_type": "code",
      "metadata": {
        "id": "FcwHeSZxMIFj"
      },
      "source": [
        "y = train[target_var].values\n",
        "y = y.reshape((len(y) , 1))\n",
        "\n",
        "train = train.drop( [target_var] , axis = 1)\n",
        "\n",
        "co_vars = categorical_vars + numerical_vars\n",
        "train = train[co_vars].values\n",
        "\n",
        "train = [ train[:,i].flatten() for i in range(len(train[0,:])) ]"
      ],
      "execution_count": 16,
      "outputs": []
    },
    {
      "cell_type": "code",
      "metadata": {
        "id": "M_SVDntbrxK6",
        "colab": {
          "base_uri": "https://localhost:8080/"
        },
        "outputId": "4032a134-5292-4f82-9439-29ac59e92925"
      },
      "source": [
        "checkpoint = ModelCheckpoint( '/content/drive/MyDrive/model_ann_regression.h5', \n",
        "                                monitor = 'rmse', \n",
        "                                verbose = 1, \n",
        "                                save_best_only = True, \n",
        "                                mode = 'min')\n",
        "\n",
        "early_stopping = EarlyStopping(patience = 5 ,monitor = \"rmse\")\n",
        "callbacks_list = [checkpoint , early_stopping]\n",
        "\n",
        "model.compile(optimizer = Adam(lr = 1e-3), loss = 'mse',  metrics = [rmse])\n",
        "history = model.fit(train, y, \n",
        "                    epochs = 80,\n",
        "                    batch_size = 1024, \n",
        "                    callbacks = callbacks_list)"
      ],
      "execution_count": 17,
      "outputs": [
        {
          "output_type": "stream",
          "text": [
            "Epoch 1/80\n",
            "19743/19743 [==============================] - 182s 9ms/step - loss: 0.9326 - rmse: 0.9359\n",
            "\n",
            "Epoch 00001: rmse improved from inf to 0.83326, saving model to /content/drive/MyDrive/model_ann_regression.h5\n",
            "Epoch 2/80\n",
            "19743/19743 [==============================] - 178s 9ms/step - loss: 0.5475 - rmse: 0.7375\n",
            "\n",
            "Epoch 00002: rmse improved from 0.83326 to 0.72579, saving model to /content/drive/MyDrive/model_ann_regression.h5\n",
            "Epoch 3/80\n",
            "19743/19743 [==============================] - 178s 9ms/step - loss: 0.4888 - rmse: 0.6967\n",
            "\n",
            "Epoch 00003: rmse improved from 0.72579 to 0.69124, saving model to /content/drive/MyDrive/model_ann_regression.h5\n",
            "Epoch 4/80\n",
            "19743/19743 [==============================] - 178s 9ms/step - loss: 0.4559 - rmse: 0.6728\n",
            "\n",
            "Epoch 00004: rmse improved from 0.69124 to 0.67053, saving model to /content/drive/MyDrive/model_ann_regression.h5\n",
            "Epoch 5/80\n",
            "19743/19743 [==============================] - 180s 9ms/step - loss: 0.4364 - rmse: 0.6581\n",
            "\n",
            "Epoch 00005: rmse improved from 0.67053 to 0.65589, saving model to /content/drive/MyDrive/model_ann_regression.h5\n",
            "Epoch 6/80\n",
            "19743/19743 [==============================] - 180s 9ms/step - loss: 0.4201 - rmse: 0.6457\n",
            "\n",
            "Epoch 00006: rmse improved from 0.65589 to 0.64403, saving model to /content/drive/MyDrive/model_ann_regression.h5\n",
            "Epoch 7/80\n",
            "19743/19743 [==============================] - 177s 9ms/step - loss: 0.4068 - rmse: 0.6354\n",
            "\n",
            "Epoch 00007: rmse improved from 0.64403 to 0.63452, saving model to /content/drive/MyDrive/model_ann_regression.h5\n",
            "Epoch 8/80\n",
            "19743/19743 [==============================] - 176s 9ms/step - loss: 0.3956 - rmse: 0.6265\n",
            "\n",
            "Epoch 00008: rmse improved from 0.63452 to 0.62649, saving model to /content/drive/MyDrive/model_ann_regression.h5\n",
            "Epoch 9/80\n",
            "19743/19743 [==============================] - 176s 9ms/step - loss: 0.3875 - rmse: 0.6200\n",
            "\n",
            "Epoch 00009: rmse improved from 0.62649 to 0.61978, saving model to /content/drive/MyDrive/model_ann_regression.h5\n",
            "Epoch 10/80\n",
            "19743/19743 [==============================] - 176s 9ms/step - loss: 0.3790 - rmse: 0.6131\n",
            "\n",
            "Epoch 00010: rmse improved from 0.61978 to 0.61363, saving model to /content/drive/MyDrive/model_ann_regression.h5\n",
            "Epoch 11/80\n",
            "19743/19743 [==============================] - 176s 9ms/step - loss: 0.3730 - rmse: 0.6081\n",
            "\n",
            "Epoch 00011: rmse improved from 0.61363 to 0.60827, saving model to /content/drive/MyDrive/model_ann_regression.h5\n",
            "Epoch 12/80\n",
            "19743/19743 [==============================] - 176s 9ms/step - loss: 0.3658 - rmse: 0.6023\n",
            "\n",
            "Epoch 00012: rmse improved from 0.60827 to 0.60342, saving model to /content/drive/MyDrive/model_ann_regression.h5\n",
            "Epoch 13/80\n",
            "19743/19743 [==============================] - 175s 9ms/step - loss: 0.3607 - rmse: 0.5981\n",
            "\n",
            "Epoch 00013: rmse improved from 0.60342 to 0.59859, saving model to /content/drive/MyDrive/model_ann_regression.h5\n",
            "Epoch 14/80\n",
            "19743/19743 [==============================] - 175s 9ms/step - loss: 0.3558 - rmse: 0.5939\n",
            "\n",
            "Epoch 00014: rmse improved from 0.59859 to 0.59439, saving model to /content/drive/MyDrive/model_ann_regression.h5\n",
            "Epoch 15/80\n",
            "19743/19743 [==============================] - 175s 9ms/step - loss: 0.3509 - rmse: 0.5898\n",
            "\n",
            "Epoch 00015: rmse improved from 0.59439 to 0.59054, saving model to /content/drive/MyDrive/model_ann_regression.h5\n",
            "Epoch 16/80\n",
            "19743/19743 [==============================] - 175s 9ms/step - loss: 0.3465 - rmse: 0.5861\n",
            "\n",
            "Epoch 00016: rmse improved from 0.59054 to 0.58740, saving model to /content/drive/MyDrive/model_ann_regression.h5\n",
            "Epoch 17/80\n",
            "19743/19743 [==============================] - 172s 9ms/step - loss: 0.3426 - rmse: 0.5827\n",
            "\n",
            "Epoch 00017: rmse improved from 0.58740 to 0.58386, saving model to /content/drive/MyDrive/model_ann_regression.h5\n",
            "Epoch 18/80\n",
            "19743/19743 [==============================] - 180s 9ms/step - loss: 0.3388 - rmse: 0.5794\n",
            "\n",
            "Epoch 00018: rmse improved from 0.58386 to 0.58059, saving model to /content/drive/MyDrive/model_ann_regression.h5\n",
            "Epoch 19/80\n",
            "19743/19743 [==============================] - 179s 9ms/step - loss: 0.3363 - rmse: 0.5774\n",
            "\n",
            "Epoch 00019: rmse improved from 0.58059 to 0.57790, saving model to /content/drive/MyDrive/model_ann_regression.h5\n",
            "Epoch 20/80\n",
            "19743/19743 [==============================] - 174s 9ms/step - loss: 0.3327 - rmse: 0.5743\n",
            "\n",
            "Epoch 00020: rmse improved from 0.57790 to 0.57550, saving model to /content/drive/MyDrive/model_ann_regression.h5\n",
            "Epoch 21/80\n",
            "19743/19743 [==============================] - 171s 9ms/step - loss: 0.3291 - rmse: 0.5711\n",
            "\n",
            "Epoch 00021: rmse improved from 0.57550 to 0.57246, saving model to /content/drive/MyDrive/model_ann_regression.h5\n",
            "Epoch 22/80\n",
            "19743/19743 [==============================] - 171s 9ms/step - loss: 0.3269 - rmse: 0.5691\n",
            "\n",
            "Epoch 00022: rmse improved from 0.57246 to 0.57013, saving model to /content/drive/MyDrive/model_ann_regression.h5\n",
            "Epoch 23/80\n",
            "19743/19743 [==============================] - 171s 9ms/step - loss: 0.3243 - rmse: 0.5668\n",
            "\n",
            "Epoch 00023: rmse improved from 0.57013 to 0.56832, saving model to /content/drive/MyDrive/model_ann_regression.h5\n",
            "Epoch 24/80\n",
            "19743/19743 [==============================] - 169s 9ms/step - loss: 0.3216 - rmse: 0.5645\n",
            "\n",
            "Epoch 00024: rmse improved from 0.56832 to 0.56621, saving model to /content/drive/MyDrive/model_ann_regression.h5\n",
            "Epoch 25/80\n",
            "19743/19743 [==============================] - 171s 9ms/step - loss: 0.3190 - rmse: 0.5622\n",
            "\n",
            "Epoch 00025: rmse improved from 0.56621 to 0.56366, saving model to /content/drive/MyDrive/model_ann_regression.h5\n",
            "Epoch 26/80\n",
            "19743/19743 [==============================] - 171s 9ms/step - loss: 0.3170 - rmse: 0.5605\n",
            "\n",
            "Epoch 00026: rmse improved from 0.56366 to 0.56168, saving model to /content/drive/MyDrive/model_ann_regression.h5\n",
            "Epoch 27/80\n",
            "19743/19743 [==============================] - 170s 9ms/step - loss: 0.3147 - rmse: 0.5584\n",
            "\n",
            "Epoch 00027: rmse improved from 0.56168 to 0.55963, saving model to /content/drive/MyDrive/model_ann_regression.h5\n",
            "Epoch 28/80\n",
            "19743/19743 [==============================] - 170s 9ms/step - loss: 0.3116 - rmse: 0.5556\n",
            "\n",
            "Epoch 00028: rmse improved from 0.55963 to 0.55772, saving model to /content/drive/MyDrive/model_ann_regression.h5\n",
            "Epoch 29/80\n",
            "19743/19743 [==============================] - 170s 9ms/step - loss: 0.3101 - rmse: 0.5543\n",
            "\n",
            "Epoch 00029: rmse improved from 0.55772 to 0.55663, saving model to /content/drive/MyDrive/model_ann_regression.h5\n",
            "Epoch 30/80\n",
            "19743/19743 [==============================] - 170s 9ms/step - loss: 0.3086 - rmse: 0.5529\n",
            "\n",
            "Epoch 00030: rmse improved from 0.55663 to 0.55476, saving model to /content/drive/MyDrive/model_ann_regression.h5\n",
            "Epoch 31/80\n",
            "19743/19743 [==============================] - 170s 9ms/step - loss: 0.3071 - rmse: 0.5516\n",
            "\n",
            "Epoch 00031: rmse improved from 0.55476 to 0.55310, saving model to /content/drive/MyDrive/model_ann_regression.h5\n",
            "Epoch 32/80\n",
            "19743/19743 [==============================] - 170s 9ms/step - loss: 0.3057 - rmse: 0.5503\n",
            "\n",
            "Epoch 00032: rmse improved from 0.55310 to 0.55161, saving model to /content/drive/MyDrive/model_ann_regression.h5\n",
            "Epoch 33/80\n",
            "19743/19743 [==============================] - 170s 9ms/step - loss: 0.3036 - rmse: 0.5485\n",
            "\n",
            "Epoch 00033: rmse improved from 0.55161 to 0.55014, saving model to /content/drive/MyDrive/model_ann_regression.h5\n",
            "Epoch 34/80\n",
            "19743/19743 [==============================] - 170s 9ms/step - loss: 0.3021 - rmse: 0.5471\n",
            "\n",
            "Epoch 00034: rmse improved from 0.55014 to 0.54881, saving model to /content/drive/MyDrive/model_ann_regression.h5\n",
            "Epoch 35/80\n",
            "19743/19743 [==============================] - 170s 9ms/step - loss: 0.3009 - rmse: 0.5459\n",
            "\n",
            "Epoch 00035: rmse improved from 0.54881 to 0.54757, saving model to /content/drive/MyDrive/model_ann_regression.h5\n",
            "Epoch 36/80\n",
            "19743/19743 [==============================] - 170s 9ms/step - loss: 0.2995 - rmse: 0.5446\n",
            "\n",
            "Epoch 00036: rmse improved from 0.54757 to 0.54617, saving model to /content/drive/MyDrive/model_ann_regression.h5\n",
            "Epoch 37/80\n",
            "19743/19743 [==============================] - 171s 9ms/step - loss: 0.2970 - rmse: 0.5424\n",
            "\n",
            "Epoch 00037: rmse improved from 0.54617 to 0.54455, saving model to /content/drive/MyDrive/model_ann_regression.h5\n",
            "Epoch 38/80\n",
            "19743/19743 [==============================] - 171s 9ms/step - loss: 0.2970 - rmse: 0.5424\n",
            "\n",
            "Epoch 00038: rmse improved from 0.54455 to 0.54335, saving model to /content/drive/MyDrive/model_ann_regression.h5\n",
            "Epoch 39/80\n",
            "19743/19743 [==============================] - 171s 9ms/step - loss: 0.2950 - rmse: 0.5405\n",
            "\n",
            "Epoch 00039: rmse improved from 0.54335 to 0.54237, saving model to /content/drive/MyDrive/model_ann_regression.h5\n",
            "Epoch 40/80\n",
            "19743/19743 [==============================] - 170s 9ms/step - loss: 0.2936 - rmse: 0.5393\n",
            "\n",
            "Epoch 00040: rmse improved from 0.54237 to 0.54111, saving model to /content/drive/MyDrive/model_ann_regression.h5\n",
            "Epoch 41/80\n",
            "19743/19743 [==============================] - 170s 9ms/step - loss: 0.2919 - rmse: 0.5377\n",
            "\n",
            "Epoch 00041: rmse improved from 0.54111 to 0.54030, saving model to /content/drive/MyDrive/model_ann_regression.h5\n",
            "Epoch 42/80\n",
            "19743/19743 [==============================] - 170s 9ms/step - loss: 0.2912 - rmse: 0.5371\n",
            "\n",
            "Epoch 00042: rmse improved from 0.54030 to 0.53878, saving model to /content/drive/MyDrive/model_ann_regression.h5\n",
            "Epoch 43/80\n",
            "19743/19743 [==============================] - 170s 9ms/step - loss: 0.2897 - rmse: 0.5356\n",
            "\n",
            "Epoch 00043: rmse improved from 0.53878 to 0.53767, saving model to /content/drive/MyDrive/model_ann_regression.h5\n",
            "Epoch 44/80\n",
            "19743/19743 [==============================] - 173s 9ms/step - loss: 0.2884 - rmse: 0.5344\n",
            "\n",
            "Epoch 00044: rmse improved from 0.53767 to 0.53666, saving model to /content/drive/MyDrive/model_ann_regression.h5\n",
            "Epoch 45/80\n",
            "19743/19743 [==============================] - 176s 9ms/step - loss: 0.2883 - rmse: 0.5343\n",
            "\n",
            "Epoch 00045: rmse improved from 0.53666 to 0.53599, saving model to /content/drive/MyDrive/model_ann_regression.h5\n",
            "Epoch 46/80\n",
            "19743/19743 [==============================] - 175s 9ms/step - loss: 0.2870 - rmse: 0.5331\n",
            "\n",
            "Epoch 00046: rmse improved from 0.53599 to 0.53480, saving model to /content/drive/MyDrive/model_ann_regression.h5\n",
            "Epoch 47/80\n",
            "19743/19743 [==============================] - 174s 9ms/step - loss: 0.2857 - rmse: 0.5319\n",
            "\n",
            "Epoch 00047: rmse improved from 0.53480 to 0.53364, saving model to /content/drive/MyDrive/model_ann_regression.h5\n",
            "Epoch 48/80\n",
            "19743/19743 [==============================] - 174s 9ms/step - loss: 0.2854 - rmse: 0.5316\n",
            "\n",
            "Epoch 00048: rmse improved from 0.53364 to 0.53308, saving model to /content/drive/MyDrive/model_ann_regression.h5\n",
            "Epoch 49/80\n",
            "19743/19743 [==============================] - 176s 9ms/step - loss: 0.2836 - rmse: 0.5299\n",
            "\n",
            "Epoch 00049: rmse improved from 0.53308 to 0.53211, saving model to /content/drive/MyDrive/model_ann_regression.h5\n",
            "Epoch 50/80\n",
            "19743/19743 [==============================] - 177s 9ms/step - loss: 0.2838 - rmse: 0.5302\n",
            "\n",
            "Epoch 00050: rmse improved from 0.53211 to 0.53153, saving model to /content/drive/MyDrive/model_ann_regression.h5\n",
            "Epoch 51/80\n",
            "19743/19743 [==============================] - 176s 9ms/step - loss: 0.2825 - rmse: 0.5289\n",
            "\n",
            "Epoch 00051: rmse improved from 0.53153 to 0.53043, saving model to /content/drive/MyDrive/model_ann_regression.h5\n",
            "Epoch 52/80\n",
            "19743/19743 [==============================] - 175s 9ms/step - loss: 0.2812 - rmse: 0.5276\n",
            "\n",
            "Epoch 00052: rmse improved from 0.53043 to 0.52945, saving model to /content/drive/MyDrive/model_ann_regression.h5\n",
            "Epoch 53/80\n",
            "19743/19743 [==============================] - 175s 9ms/step - loss: 0.2805 - rmse: 0.5270\n",
            "\n",
            "Epoch 00053: rmse improved from 0.52945 to 0.52896, saving model to /content/drive/MyDrive/model_ann_regression.h5\n",
            "Epoch 54/80\n",
            "19743/19743 [==============================] - 176s 9ms/step - loss: 0.2794 - rmse: 0.5260\n",
            "\n",
            "Epoch 00054: rmse improved from 0.52896 to 0.52763, saving model to /content/drive/MyDrive/model_ann_regression.h5\n",
            "Epoch 55/80\n",
            "19743/19743 [==============================] - 177s 9ms/step - loss: 0.2794 - rmse: 0.5260\n",
            "\n",
            "Epoch 00055: rmse improved from 0.52763 to 0.52737, saving model to /content/drive/MyDrive/model_ann_regression.h5\n",
            "Epoch 56/80\n",
            "19743/19743 [==============================] - 176s 9ms/step - loss: 0.2785 - rmse: 0.5250\n",
            "\n",
            "Epoch 00056: rmse improved from 0.52737 to 0.52656, saving model to /content/drive/MyDrive/model_ann_regression.h5\n",
            "Epoch 57/80\n",
            "19743/19743 [==============================] - 177s 9ms/step - loss: 0.2766 - rmse: 0.5233\n",
            "\n",
            "Epoch 00057: rmse improved from 0.52656 to 0.52585, saving model to /content/drive/MyDrive/model_ann_regression.h5\n",
            "Epoch 58/80\n",
            "19743/19743 [==============================] - 180s 9ms/step - loss: 0.2764 - rmse: 0.5232\n",
            "\n",
            "Epoch 00058: rmse improved from 0.52585 to 0.52496, saving model to /content/drive/MyDrive/model_ann_regression.h5\n",
            "Epoch 59/80\n",
            "19743/19743 [==============================] - 177s 9ms/step - loss: 0.2754 - rmse: 0.5221\n",
            "\n",
            "Epoch 00059: rmse improved from 0.52496 to 0.52399, saving model to /content/drive/MyDrive/model_ann_regression.h5\n",
            "Epoch 60/80\n",
            "19743/19743 [==============================] - 176s 9ms/step - loss: 0.2744 - rmse: 0.5212\n",
            "\n",
            "Epoch 00060: rmse improved from 0.52399 to 0.52347, saving model to /content/drive/MyDrive/model_ann_regression.h5\n",
            "Epoch 61/80\n",
            "19743/19743 [==============================] - 178s 9ms/step - loss: 0.2740 - rmse: 0.5208\n",
            "\n",
            "Epoch 00061: rmse improved from 0.52347 to 0.52272, saving model to /content/drive/MyDrive/model_ann_regression.h5\n",
            "Epoch 62/80\n",
            "19743/19743 [==============================] - 176s 9ms/step - loss: 0.2748 - rmse: 0.5216\n",
            "\n",
            "Epoch 00062: rmse improved from 0.52272 to 0.52234, saving model to /content/drive/MyDrive/model_ann_regression.h5\n",
            "Epoch 63/80\n",
            "19743/19743 [==============================] - 177s 9ms/step - loss: 0.2732 - rmse: 0.5201\n",
            "\n",
            "Epoch 00063: rmse improved from 0.52234 to 0.52146, saving model to /content/drive/MyDrive/model_ann_regression.h5\n",
            "Epoch 64/80\n",
            "19743/19743 [==============================] - 184s 9ms/step - loss: 0.2709 - rmse: 0.5178\n",
            "\n",
            "Epoch 00064: rmse improved from 0.52146 to 0.52097, saving model to /content/drive/MyDrive/model_ann_regression.h5\n",
            "Epoch 65/80\n",
            "19743/19743 [==============================] - 179s 9ms/step - loss: 0.2711 - rmse: 0.5180\n",
            "\n",
            "Epoch 00065: rmse improved from 0.52097 to 0.52022, saving model to /content/drive/MyDrive/model_ann_regression.h5\n",
            "Epoch 66/80\n",
            "19743/19743 [==============================] - 175s 9ms/step - loss: 0.2709 - rmse: 0.5179\n",
            "\n",
            "Epoch 00066: rmse improved from 0.52022 to 0.51955, saving model to /content/drive/MyDrive/model_ann_regression.h5\n",
            "Epoch 67/80\n",
            "19743/19743 [==============================] - 175s 9ms/step - loss: 0.2697 - rmse: 0.5167\n",
            "\n",
            "Epoch 00067: rmse improved from 0.51955 to 0.51925, saving model to /content/drive/MyDrive/model_ann_regression.h5\n",
            "Epoch 68/80\n",
            "19743/19743 [==============================] - 173s 9ms/step - loss: 0.2695 - rmse: 0.5165\n",
            "\n",
            "Epoch 00068: rmse improved from 0.51925 to 0.51842, saving model to /content/drive/MyDrive/model_ann_regression.h5\n",
            "Epoch 69/80\n",
            "19743/19743 [==============================] - 174s 9ms/step - loss: 0.2693 - rmse: 0.5163\n",
            "\n",
            "Epoch 00069: rmse improved from 0.51842 to 0.51782, saving model to /content/drive/MyDrive/model_ann_regression.h5\n",
            "Epoch 70/80\n",
            "19743/19743 [==============================] - 176s 9ms/step - loss: 0.2683 - rmse: 0.5155\n",
            "\n",
            "Epoch 00070: rmse improved from 0.51782 to 0.51725, saving model to /content/drive/MyDrive/model_ann_regression.h5\n",
            "Epoch 71/80\n",
            "19743/19743 [==============================] - 176s 9ms/step - loss: 0.2680 - rmse: 0.5151\n",
            "\n",
            "Epoch 00071: rmse improved from 0.51725 to 0.51683, saving model to /content/drive/MyDrive/model_ann_regression.h5\n",
            "Epoch 72/80\n",
            "19743/19743 [==============================] - 175s 9ms/step - loss: 0.2671 - rmse: 0.5142\n",
            "\n",
            "Epoch 00072: rmse improved from 0.51683 to 0.51615, saving model to /content/drive/MyDrive/model_ann_regression.h5\n",
            "Epoch 73/80\n",
            "19743/19743 [==============================] - 175s 9ms/step - loss: 0.2661 - rmse: 0.5132\n",
            "\n",
            "Epoch 00073: rmse improved from 0.51615 to 0.51555, saving model to /content/drive/MyDrive/model_ann_regression.h5\n",
            "Epoch 74/80\n",
            "19743/19743 [==============================] - 175s 9ms/step - loss: 0.2669 - rmse: 0.5140\n",
            "\n",
            "Epoch 00074: rmse improved from 0.51555 to 0.51518, saving model to /content/drive/MyDrive/model_ann_regression.h5\n",
            "Epoch 75/80\n",
            "19743/19743 [==============================] - 176s 9ms/step - loss: 0.2659 - rmse: 0.5130\n",
            "\n",
            "Epoch 00075: rmse improved from 0.51518 to 0.51464, saving model to /content/drive/MyDrive/model_ann_regression.h5\n",
            "Epoch 76/80\n",
            "19743/19743 [==============================] - 176s 9ms/step - loss: 0.2655 - rmse: 0.5126\n",
            "\n",
            "Epoch 00076: rmse improved from 0.51464 to 0.51396, saving model to /content/drive/MyDrive/model_ann_regression.h5\n",
            "Epoch 77/80\n",
            "19743/19743 [==============================] - 176s 9ms/step - loss: 0.2646 - rmse: 0.5118\n",
            "\n",
            "Epoch 00077: rmse improved from 0.51396 to 0.51357, saving model to /content/drive/MyDrive/model_ann_regression.h5\n",
            "Epoch 78/80\n",
            "19743/19743 [==============================] - 176s 9ms/step - loss: 0.2637 - rmse: 0.5109\n",
            "\n",
            "Epoch 00078: rmse improved from 0.51357 to 0.51260, saving model to /content/drive/MyDrive/model_ann_regression.h5\n",
            "Epoch 79/80\n",
            "19743/19743 [==============================] - 176s 9ms/step - loss: 0.2633 - rmse: 0.5105\n",
            "\n",
            "Epoch 00079: rmse improved from 0.51260 to 0.51245, saving model to /content/drive/MyDrive/model_ann_regression.h5\n",
            "Epoch 80/80\n",
            "19743/19743 [==============================] - 176s 9ms/step - loss: 0.2633 - rmse: 0.5105\n",
            "\n",
            "Epoch 00080: rmse improved from 0.51245 to 0.51226, saving model to /content/drive/MyDrive/model_ann_regression.h5\n"
          ],
          "name": "stdout"
        }
      ]
    },
    {
      "cell_type": "code",
      "metadata": {
        "id": "fgkq6z3uZfN9",
        "colab": {
          "base_uri": "https://localhost:8080/",
          "height": 412
        },
        "outputId": "70d51d78-3865-4329-e2f4-dcb84b8b595a"
      },
      "source": [
        "plt.rcParams[\"font.weight\"] = \"bold\"\n",
        "plt.rcParams[\"axes.labelweight\"] = \"bold\"\n",
        "\n",
        "fig, ax1 = plt.subplots(1, 1 , figsize = (10,6))\n",
        "\n",
        "ax1.plot(history.history['rmse'])\n",
        "ax1.plot(history.history['loss'])\n",
        "ax1.set_title('RMSE')\n",
        "ax1.set_ylabel('RMSE or MSE')\n",
        "ax1.set_xlabel('epoch')\n",
        "ax1.legend(['RMSE', 'MSE'], loc='upper right' , prop={'size': 15})\n",
        "ax1.tick_params(axis ='both', labelsize = 15)\n",
        "\n",
        "plt.show()"
      ],
      "execution_count": 19,
      "outputs": [
        {
          "output_type": "display_data",
          "data": {
            "image/png": "[encoded data removed]",
            "text/plain": [
              "<Figure size 720x432 with 1 Axes>"
            ]
          },
          "metadata": {
            "tags": []
          }
        }
      ]
    },
    {
      "cell_type": "code",
      "metadata": {
        "colab": {
          "base_uri": "https://localhost:8080/"
        },
        "id": "LKeK3dvuZkOq",
        "outputId": "c9ee3384-ddd4-4026-872f-de3df719548d"
      },
      "source": [
        "del train, y\n",
        "gc.collect()"
      ],
      "execution_count": 20,
      "outputs": [
        {
          "output_type": "execute_result",
          "data": {
            "text/plain": [
              "13955"
            ]
          },
          "metadata": {
            "tags": []
          },
          "execution_count": 20
        }
      ]
    },
    {
      "cell_type": "code",
      "metadata": {
        "id": "bMbSyEnnCWBJ"
      },
      "source": [
        "test = pd.read_csv('/content/test.csv')\n",
        "weather_test = pd.read_csv('/content/weather_test.csv')\n",
        "building = pd.read_csv('/content/building_metadata.csv')\n",
        "\n",
        "weather_test = prepare_weather_data(weather_test)\n",
        "building = prepare_building_data(building)\n",
        "test = time_features(test)\n",
        "\n",
        "weather_test  = reduce_mem_usage(weather_test)\n",
        "building = reduce_mem_usage(building)\n",
        "test = reduce_mem_usage(test)"
      ],
      "execution_count": 21,
      "outputs": []
    },
    {
      "cell_type": "code",
      "metadata": {
        "colab": {
          "base_uri": "https://localhost:8080/"
        },
        "id": "5kY6uWv2ZaLj",
        "outputId": "51d71db2-745c-429e-a44c-1afaf5ee5f09"
      },
      "source": [
        "co_vars = categorical_vars + numerical_vars\n",
        "\n",
        "step_size = 500000\n",
        "nrows = test.shape[0]\n",
        "num_steps = nrows//step_size\n",
        "print('nombre d\\'iterations' , num_steps)\n",
        "\n",
        "row_id = np.array([])\n",
        "meter_values = np.array([])\n",
        "y_pred = np.array([])\n",
        "\n",
        "for j in range(num_steps+1):\n",
        "    start_idx = j*step_size\n",
        "    end_idx = (j+1)*step_size\n",
        "    if j == num_steps : \n",
        "        start_idx = j*step_size\n",
        "        end_idx = nrows\n",
        "      \n",
        "    test_tmp = test.iloc[start_idx:end_idx]\n",
        "    \n",
        "    test_tmp = join_data(test_tmp , weather_test , building)\n",
        "    test_tmp = Filler.transform(test_tmp)\n",
        "    test_tmp = ScalerEncoder.transform(test_tmp)\n",
        "    test_tmp['month_group'] = test_tmp['month_group'] - 1\n",
        "    \n",
        "    row_id_tmp = test_tmp['row_id'].values\n",
        "    row_id = np.concatenate((row_id,row_id_tmp))\n",
        "\n",
        "    test_tmp = test_tmp.drop(['row_id'] , axis= 1)\n",
        "\n",
        "    meter_values_tmp = test_tmp['meter'].values\n",
        "    meter_values = np.concatenate((meter_values,meter_values_tmp))\n",
        "\n",
        "    test_tmp = test_tmp[co_vars].values\n",
        "    test_tmp = [ test_tmp[:,i].flatten() for i in range(len(test_tmp[0,:])) ]\n",
        "    \n",
        "    predictions = model.predict(test_tmp)\n",
        "    predictions = predictions.reshape(predictions.shape[0])\n",
        "\n",
        "    y_pred = np.concatenate((y_pred,predictions))\n",
        "    if j%10==0:\n",
        "        print('iteration' , j)"
      ],
      "execution_count": 22,
      "outputs": [
        {
          "output_type": "stream",
          "text": [
            "nombre d'iterations 83\n",
            "iteration 0\n",
            "iteration 10\n",
            "iteration 20\n",
            "iteration 30\n",
            "iteration 40\n",
            "iteration 50\n",
            "iteration 60\n",
            "iteration 70\n",
            "iteration 80\n"
          ],
          "name": "stdout"
        }
      ]
    },
    {
      "cell_type": "code",
      "metadata": {
        "colab": {
          "base_uri": "https://localhost:8080/"
        },
        "id": "aGNG39OYZ6nb",
        "outputId": "cb779a09-2fd0-4b0c-81b7-469271da0abd"
      },
      "source": [
        "del building, weather_test,test, model\n",
        "gc.collect()"
      ],
      "execution_count": 23,
      "outputs": [
        {
          "output_type": "execute_result",
          "data": {
            "text/plain": [
              "10442"
            ]
          },
          "metadata": {
            "tags": []
          },
          "execution_count": 23
        }
      ]
    },
    {
      "cell_type": "code",
      "metadata": {
        "id": "o6xMXim2Z7mS",
        "colab": {
          "base_uri": "https://localhost:8080/"
        },
        "outputId": "20a07d8e-a4f8-44af-b3f8-ab6bef0d170d"
      },
      "source": [
        "pred_final = {'row_id': row_id, 'meter' : meter_values , 'meter_reading': y_pred}\n",
        "pred_final = pd.DataFrame(data = pred_final)\n",
        "pred_final.row_id = pred_final.row_id.astype('int32')\n",
        "pred_final['meter_reading'] = np.exp(pred_final['meter_reading']) - 1\n",
        "\n",
        "KWH_TO_KBTU = 0.2931\n",
        "pred_final.loc[(pred_final.meter == 0),'meter_reading'] = pred_final['meter_reading'] / KWH_TO_KBTU \n",
        "\n",
        "pred_final = pred_final.sort_values(by=['row_id'])\n",
        "pred_final = pred_final.drop(['meter'] , axis = 1)\n",
        "\n",
        "pred_final.loc[pred_final.meter_reading < 0 , 'meter_reading'] = 0\n",
        "\n",
        "pred_final.row_id.unique().shape"
      ],
      "execution_count": 24,
      "outputs": [
        {
          "output_type": "execute_result",
          "data": {
            "text/plain": [
              "(41697600,)"
            ]
          },
          "metadata": {
            "tags": []
          },
          "execution_count": 24
        }
      ]
    },
    {
      "cell_type": "code",
      "metadata": {
        "id": "n8LNHAHtCahI"
      },
      "source": [
        "compression_opts = dict(method='zip',archive_name='deep_learning_out.csv')  \n",
        "pred_final.to_csv('deep_learning_out.zip', index=False,compression=compression_opts)\n",
        "\n",
        "!cp deep_learning_out.zip /content/drive/MyDrive/deep_learning_out.zip"
      ],
      "execution_count": 25,
      "outputs": []
    },
    {
      "cell_type": "code",
      "metadata": {
        "id": "hXFYS6hTPdAG"
      },
      "source": [
        ""
      ],
      "execution_count": null,
      "outputs": []
    }
  ]
}