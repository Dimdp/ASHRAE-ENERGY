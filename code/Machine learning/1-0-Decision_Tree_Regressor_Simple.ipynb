{
  "nbformat": 4,
  "nbformat_minor": 0,
  "metadata": {
    "colab": {
      "name": "1-0-Decision_Tree_Regressor_Simple.ipynb",
      "provenance": [],
      "collapsed_sections": []
    },
    "kernelspec": {
      "name": "python3",
      "display_name": "Python 3"
    }
  },
  "cells": [
    {
      "cell_type": "markdown",
      "metadata": {
        "id": "VPIDqWDclVhE"
      },
      "source": [
        "Importations des données."
      ]
    },
    {
      "cell_type": "code",
      "metadata": {
        "id": "rZ8PueSdPCIY",
        "colab": {
          "base_uri": "https://localhost:8080/"
        },
        "outputId": "38a86b70-f08d-4626-afba-90be8e9b5e4d"
      },
      "source": [
        "!pip install meteocalc"
      ],
      "execution_count": 1,
      "outputs": [
        {
          "output_type": "stream",
          "text": [
            "Requirement already satisfied: meteocalc in /usr/local/lib/python3.7/dist-packages (1.1.0)\n"
          ],
          "name": "stdout"
        }
      ]
    },
    {
      "cell_type": "code",
      "metadata": {
        "id": "9XnyuMiNwAiW"
      },
      "source": [
        "#from google.colab import drive\n",
        "#drive.mount('/content/drive')\n",
        "#!cp /content/drive/MyDrive/ashrae.zip ashrae.zip\n",
        "#!unzip -q ashrae.zip"
      ],
      "execution_count": 2,
      "outputs": []
    },
    {
      "cell_type": "markdown",
      "metadata": {
        "id": "3RsKyOCylfg7"
      },
      "source": [
        "Importations des librairies necessaires."
      ]
    },
    {
      "cell_type": "code",
      "metadata": {
        "id": "excU9M2fwn3K",
        "colab": {
          "base_uri": "https://localhost:8080/",
          "height": 17
        },
        "outputId": "0be5fa6c-f247-4da7-c237-31141e5ee3d6"
      },
      "source": [
        "import warnings\n",
        "warnings.simplefilter(action='ignore', category=FutureWarning)\n",
        "\n",
        "import gc\n",
        "import pandas as pd\n",
        "import numpy as np\n",
        "import matplotlib.pyplot as plt\n",
        "import seaborn as sns\n",
        "import plotly.graph_objects as go\n",
        "import plotly.figure_factory as ff\n",
        "\n",
        "%matplotlib inline\n",
        "\n",
        "plt.style.use(\"ggplot\")\n",
        "from IPython.core.pylabtools import figsize\n",
        "from plotly.offline import init_notebook_mode,iplot,plot\n",
        "%matplotlib inline\n",
        "init_notebook_mode(connected=True)\n",
        "plt.style.use(\"ggplot\")\n",
        "\n",
        "from sklearn.preprocessing import  LabelEncoder\n",
        "from sklearn.model_selection import train_test_split\n",
        "\n",
        "%run utils.py\n",
        "%run feature_enginering.py"
      ],
      "execution_count": 3,
      "outputs": [
        {
          "output_type": "display_data",
          "data": {
            "text/html": [
              "        <script type=\"text/javascript\">\n",
              "        window.PlotlyConfig = {MathJaxConfig: 'local'};\n",
              "        if (window.MathJax) {MathJax.Hub.Config({SVG: {font: \"STIX-Web\"}});}\n",
              "        if (typeof require !== 'undefined') {\n",
              "        require.undef(\"plotly\");\n",
              "        requirejs.config({\n",
              "            paths: {\n",
              "                'plotly': ['https://cdn.plot.ly/plotly-latest.min']\n",
              "            }\n",
              "        });\n",
              "        require(['plotly'], function(Plotly) {\n",
              "            window._Plotly = Plotly;\n",
              "        });\n",
              "        }\n",
              "        </script>\n",
              "        "
            ]
          },
          "metadata": {
            "tags": []
          }
        }
      ]
    },
    {
      "cell_type": "code",
      "metadata": {
        "id": "ThSEgS74yGds"
      },
      "source": [
        "building = pd.read_csv('/content/building_metadata.csv')\n",
        "weather_train = pd.read_csv('/content/weather_train.csv')\n",
        "train = pd.read_csv('/content/train.csv')\n",
        "\n",
        "# convertir du kwh vers kbtu\n",
        "train.loc[(train.meter == 0),'meter_reading'] = train['meter_reading'] * 0.2931"
      ],
      "execution_count": 4,
      "outputs": []
    },
    {
      "cell_type": "code",
      "metadata": {
        "id": "PRv0pHIO-EOi"
      },
      "source": [
        "def join_data(data , weather_data , building_data):\n",
        "    building_data = reduce_mem_usage(building_data)\n",
        "    weather_data  = reduce_mem_usage(weather_data)\n",
        "    data = reduce_mem_usage(data)\n",
        "\n",
        "    data = (data.merge(building_data, on='building_id', how='left')) #on joint les données ci-dessus a partir des clés\n",
        "    data = data.merge(weather_data, how='left', on = ['site_id', 'timestamp'], validate='many_to_one')\n",
        "\n",
        "    return data"
      ],
      "execution_count": 5,
      "outputs": []
    },
    {
      "cell_type": "markdown",
      "metadata": {
        "id": "eVXEaN_HLfxR"
      },
      "source": [
        "##apperçues de nos données"
      ]
    },
    {
      "cell_type": "code",
      "metadata": {
        "id": "aOQQbfX4fvI2",
        "colab": {
          "base_uri": "https://localhost:8080/"
        },
        "outputId": "08c99465-7623-4a0d-cf4c-1aea0d8dc103"
      },
      "source": [
        "print(train.shape)"
      ],
      "execution_count": 6,
      "outputs": [
        {
          "output_type": "stream",
          "text": [
            "(20216100, 4)\n"
          ],
          "name": "stdout"
        }
      ]
    },
    {
      "cell_type": "code",
      "metadata": {
        "id": "ZUToM5OH-Vqb",
        "colab": {
          "base_uri": "https://localhost:8080/"
        },
        "outputId": "6ba8ffc0-ca75-4c2d-c01d-20856c5608dd"
      },
      "source": [
        "train = join_data(train , weather_train , building)\n",
        "train['log_meter_reading'] = np.log(train['meter_reading'] + 1)\n",
        "train = train.drop(['meter_reading'] , axis = 1)\n",
        "del weather_train\n",
        "gc.collect()"
      ],
      "execution_count": 7,
      "outputs": [
        {
          "output_type": "execute_result",
          "data": {
            "text/plain": [
              "34"
            ]
          },
          "metadata": {
            "tags": []
          },
          "execution_count": 7
        }
      ]
    },
    {
      "cell_type": "code",
      "metadata": {
        "id": "VK6BQ5RfPs5y",
        "colab": {
          "base_uri": "https://localhost:8080/"
        },
        "outputId": "14a59ff8-8dff-4704-f447-1f5daba18654"
      },
      "source": [
        "for col in  train.columns:\n",
        "    print(col , ' - ',train[col].isnull().values.sum() )"
      ],
      "execution_count": 9,
      "outputs": [
        {
          "output_type": "stream",
          "text": [
            "building_id  -  0\n",
            "meter  -  0\n",
            "timestamp  -  0\n",
            "site_id  -  0\n",
            "primary_use  -  0\n",
            "square_feet  -  0\n",
            "year_built  -  12127645\n",
            "floor_count  -  16709167\n",
            "air_temperature  -  96658\n",
            "cloud_coverage  -  8825365\n",
            "dew_temperature  -  100140\n",
            "precip_depth_1_hr  -  3749023\n",
            "sea_level_pressure  -  1231669\n",
            "wind_direction  -  1449048\n",
            "wind_speed  -  143676\n",
            "log_meter_reading  -  0\n"
          ],
          "name": "stdout"
        }
      ]
    },
    {
      "cell_type": "code",
      "metadata": {
        "id": "6TwKVLWW-eUj"
      },
      "source": [
        "cols_to_drop = ['year_built' , 'floor_count' ,\n",
        "                'cloud_coverage' , 'precip_depth_1_hr' , \n",
        "                'wind_direction' , 'sea_level_pressure']\n",
        "\n",
        "cols_to_scale = ['square_feet' , 'air_temperature' \n",
        "                 , 'dew_temperature' , 'wind_speed']\n",
        "\n",
        "cols_to_encode = ['primary_use']\n",
        "\n",
        "\n",
        "cols_to_fill_mean = ['air_temperature', 'dew_temperature'  , 'wind_speed' ]\n",
        "\n",
        "Filler = Data_Filler(cols_to_fill_mean,[])\n",
        "\n",
        "Filler.fit(train)\n",
        "train = Filler.transform(train)\n",
        "\n",
        "ScalerEncoder = Data_Scaler_Encoder(cols_to_scale ,\n",
        "                                    cols_to_drop , \n",
        "                                    cols_to_encode)\n",
        "ScalerEncoder.fit(train)\n",
        "train = ScalerEncoder.transform(train)"
      ],
      "execution_count": 10,
      "outputs": []
    },
    {
      "cell_type": "code",
      "metadata": {
        "id": "Xjs7SfEPtQr9",
        "colab": {
          "base_uri": "https://localhost:8080/"
        },
        "outputId": "dfd72a81-1825-4844-8521-a0d24069e189"
      },
      "source": [
        "for col in  train.columns:\n",
        "    print(col , ' - ',train[col].isnull().values.sum() )"
      ],
      "execution_count": 11,
      "outputs": [
        {
          "output_type": "stream",
          "text": [
            "building_id  -  0\n",
            "meter  -  0\n",
            "timestamp  -  0\n",
            "site_id  -  0\n",
            "primary_use  -  0\n",
            "square_feet  -  0\n",
            "air_temperature  -  0\n",
            "dew_temperature  -  0\n",
            "wind_speed  -  0\n",
            "log_meter_reading  -  0\n"
          ],
          "name": "stdout"
        }
      ]
    },
    {
      "cell_type": "code",
      "metadata": {
        "id": "xza3Q2LKPJX4"
      },
      "source": [
        "def time_features(df) :\n",
        "  df[\"timestamp\"] = pd.to_datetime(df[\"timestamp\"],format=\"%Y-%m-%d %H:%M:%S\")\n",
        "  \n",
        "  df[\"hour\"] = df[\"timestamp\"].dt.hour\n",
        "  df[\"dayofweek\"] = df[\"timestamp\"].dt.weekday\n",
        "  df['month'] = df['timestamp'].dt.month \n",
        "\n",
        "  df =  df.drop(['timestamp'] , axis= 1)\n",
        "  return df\n",
        "\n",
        "train = time_features(train)"
      ],
      "execution_count": 12,
      "outputs": []
    },
    {
      "cell_type": "code",
      "metadata": {
        "id": "koF5G8ux5CMV",
        "colab": {
          "base_uri": "https://localhost:8080/",
          "height": 217
        },
        "outputId": "780a4b5c-e360-43d8-a312-bed5c34414a7"
      },
      "source": [
        "train.head()"
      ],
      "execution_count": 13,
      "outputs": [
        {
          "output_type": "execute_result",
          "data": {
            "text/html": [
              "<div>\n",
              "<style scoped>\n",
              "    .dataframe tbody tr th:only-of-type {\n",
              "        vertical-align: middle;\n",
              "    }\n",
              "\n",
              "    .dataframe tbody tr th {\n",
              "        vertical-align: top;\n",
              "    }\n",
              "\n",
              "    .dataframe thead th {\n",
              "        text-align: right;\n",
              "    }\n",
              "</style>\n",
              "<table border=\"1\" class=\"dataframe\">\n",
              "  <thead>\n",
              "    <tr style=\"text-align: right;\">\n",
              "      <th></th>\n",
              "      <th>building_id</th>\n",
              "      <th>meter</th>\n",
              "      <th>site_id</th>\n",
              "      <th>primary_use</th>\n",
              "      <th>square_feet</th>\n",
              "      <th>air_temperature</th>\n",
              "      <th>dew_temperature</th>\n",
              "      <th>wind_speed</th>\n",
              "      <th>log_meter_reading</th>\n",
              "      <th>hour</th>\n",
              "      <th>dayofweek</th>\n",
              "      <th>month</th>\n",
              "    </tr>\n",
              "  </thead>\n",
              "  <tbody>\n",
              "    <tr>\n",
              "      <th>0</th>\n",
              "      <td>0</td>\n",
              "      <td>0</td>\n",
              "      <td>0</td>\n",
              "      <td>0</td>\n",
              "      <td>-0.856658</td>\n",
              "      <td>0.857421</td>\n",
              "      <td>1.225247</td>\n",
              "      <td>-1.554017</td>\n",
              "      <td>0.0</td>\n",
              "      <td>0</td>\n",
              "      <td>4</td>\n",
              "      <td>1</td>\n",
              "    </tr>\n",
              "    <tr>\n",
              "      <th>1</th>\n",
              "      <td>1</td>\n",
              "      <td>0</td>\n",
              "      <td>0</td>\n",
              "      <td>0</td>\n",
              "      <td>-0.896882</td>\n",
              "      <td>0.857421</td>\n",
              "      <td>1.225247</td>\n",
              "      <td>-1.554017</td>\n",
              "      <td>0.0</td>\n",
              "      <td>0</td>\n",
              "      <td>4</td>\n",
              "      <td>1</td>\n",
              "    </tr>\n",
              "    <tr>\n",
              "      <th>2</th>\n",
              "      <td>2</td>\n",
              "      <td>0</td>\n",
              "      <td>0</td>\n",
              "      <td>0</td>\n",
              "      <td>-0.874209</td>\n",
              "      <td>0.857421</td>\n",
              "      <td>1.225247</td>\n",
              "      <td>-1.554017</td>\n",
              "      <td>0.0</td>\n",
              "      <td>0</td>\n",
              "      <td>4</td>\n",
              "      <td>1</td>\n",
              "    </tr>\n",
              "    <tr>\n",
              "      <th>3</th>\n",
              "      <td>3</td>\n",
              "      <td>0</td>\n",
              "      <td>0</td>\n",
              "      <td>0</td>\n",
              "      <td>-0.717912</td>\n",
              "      <td>0.857421</td>\n",
              "      <td>1.225247</td>\n",
              "      <td>-1.554017</td>\n",
              "      <td>0.0</td>\n",
              "      <td>0</td>\n",
              "      <td>4</td>\n",
              "      <td>1</td>\n",
              "    </tr>\n",
              "    <tr>\n",
              "      <th>4</th>\n",
              "      <td>4</td>\n",
              "      <td>0</td>\n",
              "      <td>0</td>\n",
              "      <td>0</td>\n",
              "      <td>0.075327</td>\n",
              "      <td>0.857421</td>\n",
              "      <td>1.225247</td>\n",
              "      <td>-1.554017</td>\n",
              "      <td>0.0</td>\n",
              "      <td>0</td>\n",
              "      <td>4</td>\n",
              "      <td>1</td>\n",
              "    </tr>\n",
              "  </tbody>\n",
              "</table>\n",
              "</div>"
            ],
            "text/plain": [
              "   building_id  meter  site_id  ...  hour  dayofweek  month\n",
              "0            0      0        0  ...     0          4      1\n",
              "1            1      0        0  ...     0          4      1\n",
              "2            2      0        0  ...     0          4      1\n",
              "3            3      0        0  ...     0          4      1\n",
              "4            4      0        0  ...     0          4      1\n",
              "\n",
              "[5 rows x 12 columns]"
            ]
          },
          "metadata": {
            "tags": []
          },
          "execution_count": 13
        }
      ]
    },
    {
      "cell_type": "code",
      "metadata": {
        "id": "vYw8ecDBcsaZ"
      },
      "source": [
        "train = reduce_mem_usage(train)\n",
        "\n",
        "y = train['log_meter_reading'].values\n",
        "train = train.drop(['log_meter_reading'],axis=1).values"
      ],
      "execution_count": 14,
      "outputs": []
    },
    {
      "cell_type": "code",
      "metadata": {
        "id": "huTXK9ZWcsSj"
      },
      "source": [
        "from sklearn.tree import DecisionTreeRegressor\n",
        "\n",
        "dT_model = DecisionTreeRegressor()\n",
        "dT_model = dT_model.fit(train, y)"
      ],
      "execution_count": 15,
      "outputs": []
    },
    {
      "cell_type": "code",
      "metadata": {
        "id": "fBEqK8yPXF70",
        "colab": {
          "base_uri": "https://localhost:8080/"
        },
        "outputId": "410fed4a-4141-476c-c49d-f61c5b344d3f"
      },
      "source": [
        "del train,y\n",
        "gc.collect()"
      ],
      "execution_count": 16,
      "outputs": [
        {
          "output_type": "execute_result",
          "data": {
            "text/plain": [
              "0"
            ]
          },
          "metadata": {
            "tags": []
          },
          "execution_count": 16
        }
      ]
    },
    {
      "cell_type": "markdown",
      "metadata": {
        "id": "SmHhj5Oz_nOL"
      },
      "source": [
        "### Prediction"
      ]
    },
    {
      "cell_type": "code",
      "metadata": {
        "id": "jCoCExVIRo9m"
      },
      "source": [
        "weather_test = pd.read_csv('/content/weather_test.csv')\n",
        "x_test = pd.read_csv('/content/test.csv')\n",
        "building = pd.read_csv('/content/building_metadata.csv')\n",
        "\n",
        "x_test = join_data(x_test , weather_test , building)\n",
        "\n",
        "del weather_test , building\n",
        "x_test = Filler.transform(x_test)\n",
        "x_test = ScalerEncoder.transform(x_test)\n",
        "x_test = time_features(x_test)"
      ],
      "execution_count": 17,
      "outputs": []
    },
    {
      "cell_type": "code",
      "metadata": {
        "id": "tG45QuEqTEgR",
        "colab": {
          "base_uri": "https://localhost:8080/"
        },
        "outputId": "dc5b8c07-c3f1-432e-b5bb-1edf6dec5f81"
      },
      "source": [
        "for col in  x_test.columns:\n",
        "    print(col , ' - ',x_test[col].isnull().values.sum() )"
      ],
      "execution_count": 18,
      "outputs": [
        {
          "output_type": "stream",
          "text": [
            "row_id  -  0\n",
            "building_id  -  0\n",
            "meter  -  0\n",
            "site_id  -  0\n",
            "primary_use  -  0\n",
            "square_feet  -  0\n",
            "air_temperature  -  0\n",
            "dew_temperature  -  0\n",
            "wind_speed  -  0\n",
            "hour  -  0\n",
            "dayofweek  -  0\n",
            "month  -  0\n"
          ],
          "name": "stdout"
        }
      ]
    },
    {
      "cell_type": "code",
      "metadata": {
        "id": "MaqaGumRYtRj"
      },
      "source": [
        "row_id = x_test.row_id.values\n",
        "x_test = x_test.drop(['row_id'] , axis= 1)\n",
        "x_test = reduce_mem_usage(x_test)"
      ],
      "execution_count": 19,
      "outputs": []
    },
    {
      "cell_type": "code",
      "metadata": {
        "id": "JwEv4yOzmbHL"
      },
      "source": [
        "y_pred = np.empty(len(x_test))\n",
        "y_pred[0:int(len(x_test)/3)] = np.exp(dT_model.predict(x_test.iloc[0:int(len(x_test)/3)]))-1\n",
        "y_pred[int(len(x_test)/3):2*int(len(x_test)/3)] = np.exp(dT_model.predict(x_test.iloc[int(len(x_test)/3):2*int(len(x_test)/3)]))-1\n",
        "y_pred[2*int(len(x_test)/3):] = np.exp(dT_model.predict(x_test.iloc[2*int(len(x_test)/3):]))-1\n",
        "y_pred[x_test.meter==0] = y_pred[x_test.meter==0] / 0.2931"
      ],
      "execution_count": 20,
      "outputs": []
    },
    {
      "cell_type": "code",
      "metadata": {
        "id": "Xv_0eLMv1op0"
      },
      "source": [
        "pred_final = pd.DataFrame({'row_id': row_id, 'meter_reading': y_pred})"
      ],
      "execution_count": 21,
      "outputs": []
    },
    {
      "cell_type": "code",
      "metadata": {
        "id": "U_KlK-WvFBcw",
        "colab": {
          "base_uri": "https://localhost:8080/",
          "height": 405
        },
        "outputId": "aed748a8-7cee-414b-efc1-5bc263163aed"
      },
      "source": [
        "pred_final"
      ],
      "execution_count": 22,
      "outputs": [
        {
          "output_type": "execute_result",
          "data": {
            "text/html": [
              "<div>\n",
              "<style scoped>\n",
              "    .dataframe tbody tr th:only-of-type {\n",
              "        vertical-align: middle;\n",
              "    }\n",
              "\n",
              "    .dataframe tbody tr th {\n",
              "        vertical-align: top;\n",
              "    }\n",
              "\n",
              "    .dataframe thead th {\n",
              "        text-align: right;\n",
              "    }\n",
              "</style>\n",
              "<table border=\"1\" class=\"dataframe\">\n",
              "  <thead>\n",
              "    <tr style=\"text-align: right;\">\n",
              "      <th></th>\n",
              "      <th>row_id</th>\n",
              "      <th>meter_reading</th>\n",
              "    </tr>\n",
              "  </thead>\n",
              "  <tbody>\n",
              "    <tr>\n",
              "      <th>0</th>\n",
              "      <td>0</td>\n",
              "      <td>0.000000</td>\n",
              "    </tr>\n",
              "    <tr>\n",
              "      <th>1</th>\n",
              "      <td>1</td>\n",
              "      <td>0.000000</td>\n",
              "    </tr>\n",
              "    <tr>\n",
              "      <th>2</th>\n",
              "      <td>2</td>\n",
              "      <td>0.000000</td>\n",
              "    </tr>\n",
              "    <tr>\n",
              "      <th>3</th>\n",
              "      <td>3</td>\n",
              "      <td>0.000000</td>\n",
              "    </tr>\n",
              "    <tr>\n",
              "      <th>4</th>\n",
              "      <td>4</td>\n",
              "      <td>0.000000</td>\n",
              "    </tr>\n",
              "    <tr>\n",
              "      <th>...</th>\n",
              "      <td>...</td>\n",
              "      <td>...</td>\n",
              "    </tr>\n",
              "    <tr>\n",
              "      <th>41697595</th>\n",
              "      <td>41697595</td>\n",
              "      <td>4.550000</td>\n",
              "    </tr>\n",
              "    <tr>\n",
              "      <th>41697596</th>\n",
              "      <td>41697596</td>\n",
              "      <td>6.050000</td>\n",
              "    </tr>\n",
              "    <tr>\n",
              "      <th>41697597</th>\n",
              "      <td>41697597</td>\n",
              "      <td>0.000000</td>\n",
              "    </tr>\n",
              "    <tr>\n",
              "      <th>41697598</th>\n",
              "      <td>41697598</td>\n",
              "      <td>185.625021</td>\n",
              "    </tr>\n",
              "    <tr>\n",
              "      <th>41697599</th>\n",
              "      <td>41697599</td>\n",
              "      <td>4.025000</td>\n",
              "    </tr>\n",
              "  </tbody>\n",
              "</table>\n",
              "<p>41697600 rows × 2 columns</p>\n",
              "</div>"
            ],
            "text/plain": [
              "            row_id  meter_reading\n",
              "0                0       0.000000\n",
              "1                1       0.000000\n",
              "2                2       0.000000\n",
              "3                3       0.000000\n",
              "4                4       0.000000\n",
              "...            ...            ...\n",
              "41697595  41697595       4.550000\n",
              "41697596  41697596       6.050000\n",
              "41697597  41697597       0.000000\n",
              "41697598  41697598     185.625021\n",
              "41697599  41697599       4.025000\n",
              "\n",
              "[41697600 rows x 2 columns]"
            ]
          },
          "metadata": {
            "tags": []
          },
          "execution_count": 22
        }
      ]
    },
    {
      "cell_type": "code",
      "metadata": {
        "id": "GrkeMR1iLhCz"
      },
      "source": [
        "compression_opts = dict(method='zip',archive_name='out.csv')  \n",
        "\n",
        "pred_final.to_csv('out.zip', index=False,compression=compression_opts)"
      ],
      "execution_count": 23,
      "outputs": []
    },
    {
      "cell_type": "code",
      "metadata": {
        "id": "7dnQPiGcLg_S"
      },
      "source": [
        "!cp out.zip /content/drive/MyDrive/out.zip"
      ],
      "execution_count": 24,
      "outputs": []
    }
  ]
}