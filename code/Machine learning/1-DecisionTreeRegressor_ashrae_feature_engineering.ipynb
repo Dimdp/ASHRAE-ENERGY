{
  "nbformat": 4,
  "nbformat_minor": 0,
  "metadata": {
    "colab": {
      "name": "1-DecisionTreeRegressor_ashrae_parameters_prediction.ipynb",
      "provenance": [],
      "collapsed_sections": []
    },
    "kernelspec": {
      "name": "python3",
      "display_name": "Python 3"
    },
    "language_info": {
      "name": "python"
    }
  },
  "cells": [
    {
      "cell_type": "code",
      "metadata": {
        "colab": {
          "base_uri": "https://localhost:8080/"
        },
        "id": "9ekS7vKqmT-m",
        "outputId": "5e9ca30e-1477-4b0e-e49b-e507777d9e2b"
      },
      "source": [
        "!pip install meteocalc"
      ],
      "execution_count": 1,
      "outputs": [
        {
          "output_type": "stream",
          "text": [
            "Requirement already satisfied: meteocalc in /usr/local/lib/python3.7/dist-packages (1.1.0)\n"
          ],
          "name": "stdout"
        }
      ]
    },
    {
      "cell_type": "code",
      "metadata": {
        "id": "U3FPBdgQmVfT"
      },
      "source": [
        "#from google.colab import drive\n",
        "#drive.mount('/content/drive')\n",
        "#!cp /content/drive/MyDrive/ashrae.zip ashrae.zip\n",
        "#!unzip -q ashrae.zip"
      ],
      "execution_count": 2,
      "outputs": []
    },
    {
      "cell_type": "code",
      "metadata": {
        "colab": {
          "base_uri": "https://localhost:8080/",
          "height": 17
        },
        "id": "8mquHJ0BmYFk",
        "outputId": "cf8c8c7d-e1d6-4c1c-f703-520bd8d5e48f"
      },
      "source": [
        "import warnings\n",
        "warnings.simplefilter(action='ignore', category=FutureWarning)\n",
        "\n",
        "import gc\n",
        "import pandas as pd\n",
        "import numpy as np\n",
        "import matplotlib.pyplot as plt\n",
        "import seaborn as sns\n",
        "import plotly.graph_objects as go\n",
        "import plotly.figure_factory as ff\n",
        "\n",
        "from IPython.core.pylabtools import figsize\n",
        "from plotly.offline import init_notebook_mode,iplot,plot\n",
        "%matplotlib inline\n",
        "init_notebook_mode(connected=True)\n",
        "plt.style.use(\"ggplot\")\n",
        "\n",
        "from sklearn.metrics import mean_squared_error\n",
        "from sklearn.utils import shuffle\n",
        "from sklearn.preprocessing import  LabelEncoder, StandardScaler\n",
        "from sklearn.model_selection import train_test_split\n",
        "from sklearn.tree import DecisionTreeRegressor\n",
        "\n",
        "# importer les fichiers .py sur le notebook\n",
        "%run utils.py\n",
        "%run feature_enginering.py"
      ],
      "execution_count": 3,
      "outputs": [
        {
          "output_type": "display_data",
          "data": {
            "text/html": [
              "        <script type=\"text/javascript\">\n",
              "        window.PlotlyConfig = {MathJaxConfig: 'local'};\n",
              "        if (window.MathJax) {MathJax.Hub.Config({SVG: {font: \"STIX-Web\"}});}\n",
              "        if (typeof require !== 'undefined') {\n",
              "        require.undef(\"plotly\");\n",
              "        requirejs.config({\n",
              "            paths: {\n",
              "                'plotly': ['https://cdn.plot.ly/plotly-latest.min']\n",
              "            }\n",
              "        });\n",
              "        require(['plotly'], function(Plotly) {\n",
              "            window._Plotly = Plotly;\n",
              "        });\n",
              "        }\n",
              "        </script>\n",
              "        "
            ]
          },
          "metadata": {
            "tags": []
          }
        }
      ]
    },
    {
      "cell_type": "code",
      "metadata": {
        "id": "Bxt_0R7cumno"
      },
      "source": [
        "building = pd.read_csv('/content/building_metadata.csv')\n",
        "weather = pd.read_csv('/content/weather_train.csv')\n",
        "train = pd.read_csv('/content/train.csv')\n",
        "\n",
        "train.loc[(train.meter == 0),'meter_reading'] = train['meter_reading'] * 0.2931 # convertir du kwh vers kbtu"
      ],
      "execution_count": 33,
      "outputs": []
    },
    {
      "cell_type": "code",
      "metadata": {
        "id": "4nm8_iq0uw-A"
      },
      "source": [
        "building = reduce_mem_usage(building)\n",
        "weather  = reduce_mem_usage(weather)\n",
        "train = reduce_mem_usage(train)"
      ],
      "execution_count": 34,
      "outputs": []
    },
    {
      "cell_type": "code",
      "metadata": {
        "id": "qpy8a552u3-A"
      },
      "source": [
        "building = prepare_building_data(building)\n",
        "weather = prepare_weather_data(weather)\n",
        "train  = time_features(train)"
      ],
      "execution_count": 35,
      "outputs": []
    },
    {
      "cell_type": "code",
      "metadata": {
        "colab": {
          "base_uri": "https://localhost:8080/"
        },
        "id": "SWYlePKqvH_A",
        "outputId": "471dbfcc-3e7c-45f1-d522-270fe4241466"
      },
      "source": [
        "def join_data(data , weather_data , building_data):\n",
        "\n",
        "    data = data.merge(building_data, on = 'building_id' , how='left')\n",
        "    data = data.merge(weather_data , on = ['site_id','timestamp'], how= 'left')\n",
        "    data = shuffle(data, random_state=0)\n",
        "\n",
        "    return data\n",
        "\n",
        "train = join_data(train , weather , building)\n",
        "\n",
        "train['log_meter_reading'] = np.log(train['meter_reading'] + 1)\n",
        "train['month_group'] = train['month_group'] - 1\n",
        "\n",
        "train = train.drop(['meter_reading'] , axis= 1)\n",
        "\n",
        "train  = reduce_mem_usage(train)\n",
        "del weather, building\n",
        "gc.collect()"
      ],
      "execution_count": 36,
      "outputs": [
        {
          "output_type": "execute_result",
          "data": {
            "text/plain": [
              "106"
            ]
          },
          "metadata": {
            "tags": []
          },
          "execution_count": 36
        }
      ]
    },
    {
      "cell_type": "code",
      "metadata": {
        "id": "Zc0BHCCDvMLg"
      },
      "source": [
        "cols_to_drop = ['year_built' , 'floor_count' , 'timestamp']\n",
        "\n",
        "cols_to_scale = ['square_feet' , 'air_temperature' , 'dew_temperature' ,\n",
        "                 'wind_speed', 'cloud_coverage', 'sea_level_pressure', 'wind_direction',\n",
        "                 'relative_humidity', 'feels_like']\n",
        "\n",
        "cols_to_encode = ['primary_use' , 'city' , 'country']\n",
        "\n",
        "cols_to_fill_median = ['air_temperature', 'cloud_coverage', 'dew_temperature', 'precip_depth_1_hr',\n",
        "                       'sea_level_pressure','wind_direction' , 'wind_speed', 'relative_humidity' ,\n",
        "                       'feels_like']\n",
        "\n",
        "cols_to_fill_categ = ['city' , 'country' , 'is_holiday']\n",
        "\n",
        "\n",
        "Filler = Data_Filler(cols_to_fill_median,\n",
        "                     cols_to_fill_categ)\n",
        "\n",
        "Filler.fit(train)\n",
        "train = Filler.transform(train)\n",
        "\n",
        "ScalerEncoder = Data_Scaler_Encoder(cols_to_scale ,\n",
        "                                    cols_to_drop , \n",
        "                                    cols_to_encode)\n",
        "ScalerEncoder.fit(train)\n",
        "train = ScalerEncoder.transform(train)"
      ],
      "execution_count": 37,
      "outputs": []
    },
    {
      "cell_type": "code",
      "metadata": {
        "id": "4ZKV9VC0Bm8q"
      },
      "source": [
        "categorical_vars = ['building_id' , 'meter', 'hour', 'dayofweek' , 'month_group', 'site_id' , \n",
        "                    'primary_use', 'city', 'country', 'is_holiday']\n",
        "\n",
        "for col in categorical_vars:\n",
        "    train[col] = train[col].astype('category')\n",
        "\n",
        "train_columns = train.columns"
      ],
      "execution_count": 39,
      "outputs": []
    },
    {
      "cell_type": "code",
      "metadata": {
        "colab": {
          "base_uri": "https://localhost:8080/"
        },
        "id": "C5eL8ICXv3C7",
        "outputId": "8018df7a-ec46-4c51-aaef-c62e6b8ce3d7"
      },
      "source": [
        "y = train['log_meter_reading'].values\n",
        "\n",
        "train = train.drop( ['log_meter_reading'] , axis = 1).values\n",
        "\n",
        "train, valid, y_train, y_valid = train_test_split(train, y, test_size = 0.30, random_state=42)\n",
        "\n",
        "del y\n",
        "gc.collect()"
      ],
      "execution_count": 10,
      "outputs": [
        {
          "output_type": "execute_result",
          "data": {
            "text/plain": [
              "178"
            ]
          },
          "metadata": {
            "tags": []
          },
          "execution_count": 10
        }
      ]
    },
    {
      "cell_type": "code",
      "metadata": {
        "id": "iuB2R9qydTmW"
      },
      "source": [
        "best_params = {}"
      ],
      "execution_count": 11,
      "outputs": []
    },
    {
      "cell_type": "code",
      "metadata": {
        "id": "-TilOwpcvPek"
      },
      "source": [
        "max_depths = [5,10,15,20,25]\n",
        "rmses = []\n",
        "\n",
        "for md in max_depths : \n",
        "    tree = DecisionTreeRegressor(max_depth = md )\n",
        "    tree.fit(train , y_train)\n",
        "    y_pred = tree.predict(valid)\n",
        "    rmses.append(mean_squared_error(y_valid, y_pred, squared = False))\n",
        "\n",
        "best_params['max_depth'] = max_depths[rmses.index(min(rmses))]"
      ],
      "execution_count": 12,
      "outputs": []
    },
    {
      "cell_type": "code",
      "metadata": {
        "id": "mA75xwuGyLEv"
      },
      "source": [
        "min_samples_splits = [2,4,6,8,10,12]\n",
        "rmses = []\n",
        "\n",
        "for md in min_samples_splits : \n",
        "    tree = DecisionTreeRegressor(max_depth = best_params['max_depth'] , min_samples_split = md )\n",
        "    tree.fit(train , y_train)\n",
        "    y_pred = tree.predict(valid)\n",
        "    rmses.append(mean_squared_error(y_valid, y_pred, squared = False))\n",
        "\n",
        "best_params['min_samples_split'] = min_samples_splits[rmses.index(min(rmses))]"
      ],
      "execution_count": 13,
      "outputs": []
    },
    {
      "cell_type": "code",
      "metadata": {
        "id": "XLlGNdBty6iO"
      },
      "source": [
        "min_samples_leafs = [1,2,4,6,8,10]\n",
        "rmses = []\n",
        "\n",
        "for md in min_samples_splits : \n",
        "    tree = DecisionTreeRegressor(max_depth = best_params['max_depth'] , \n",
        "                                 min_samples_split = best_params['min_samples_split'],\n",
        "                                 min_samples_leaf = md )\n",
        "    tree.fit(train , y_train)\n",
        "    y_pred = tree.predict(valid)\n",
        "    rmses.append(mean_squared_error(y_valid, y_pred, squared = False))\n",
        "\n",
        "best_params['min_samples_leaf'] = min_samples_leafs[rmses.index(min(rmses))]"
      ],
      "execution_count": 14,
      "outputs": []
    },
    {
      "cell_type": "code",
      "metadata": {
        "id": "PwzlnUeA0c8V"
      },
      "source": [
        "max_leaf_nodes = [None ,2,4,6,8,10]\n",
        "rmses = []\n",
        "\n",
        "for md in max_leaf_nodes : \n",
        "    tree = DecisionTreeRegressor(max_depth = best_params['max_depth'] , \n",
        "                                 min_samples_split = best_params['min_samples_split'],\n",
        "                                 min_samples_leaf = best_params['min_samples_leaf'] ,\n",
        "                                 max_leaf_nodes = md )\n",
        "    tree.fit(train , y_train)\n",
        "    y_pred = tree.predict(valid)\n",
        "    rmses.append(mean_squared_error(y_valid, y_pred, squared = False))\n",
        "\n",
        "best_params['max_leaf_nodes'] = max_leaf_nodes[rmses.index(min(rmses))]"
      ],
      "execution_count": 15,
      "outputs": []
    },
    {
      "cell_type": "code",
      "metadata": {
        "id": "gEhNPHcN0mY_"
      },
      "source": [
        "min_impurity_splits = [0 , 0.05 , 0.1 , 0.15 , 0.20 , 0.25]\n",
        "rmses = []\n",
        "for md in min_impurity_splits : \n",
        "    tree = DecisionTreeRegressor(max_depth = best_params['max_depth'] , \n",
        "                                 min_samples_split = best_params['min_samples_split'],\n",
        "                                 min_samples_leaf = best_params['min_samples_leaf'] ,\n",
        "                                 max_leaf_nodes = best_params['max_leaf_nodes'],\n",
        "                                 min_impurity_split = md)\n",
        "    tree.fit(train , y_train)\n",
        "    y_pred = tree.predict(valid)\n",
        "    rmses.append(mean_squared_error(y_valid, y_pred, squared = False))\n",
        "\n",
        "best_params['min_impurity_split'] = min_impurity_splits[rmses.index(min(rmses))]"
      ],
      "execution_count": 16,
      "outputs": []
    },
    {
      "cell_type": "code",
      "metadata": {
        "colab": {
          "base_uri": "https://localhost:8080/"
        },
        "id": "Qh8OuaIulg1h",
        "outputId": "82fcac76-6e32-48ed-e39a-b2a4a43186a3"
      },
      "source": [
        "best_params"
      ],
      "execution_count": 19,
      "outputs": [
        {
          "output_type": "execute_result",
          "data": {
            "text/plain": [
              "{'max_depth': 25,\n",
              " 'max_leaf_nodes': None,\n",
              " 'min_impurity_split': 0,\n",
              " 'min_samples_leaf': 6,\n",
              " 'min_samples_split': 12}"
            ]
          },
          "metadata": {
            "tags": []
          },
          "execution_count": 19
        }
      ]
    },
    {
      "cell_type": "code",
      "metadata": {
        "id": "AmjloxZf-0vI"
      },
      "source": [
        "tree =  DecisionTreeRegressor(max_depth = best_params['max_depth'] , \n",
        "                              min_samples_split = best_params['min_samples_split'] ,\n",
        "                              min_samples_leaf = best_params['min_samples_leaf'] ,\n",
        "                              max_leaf_nodes = best_params['max_leaf_nodes'],\n",
        "                              min_impurity_split = best_params['min_impurity_split'])\n"
      ],
      "execution_count": 18,
      "outputs": []
    },
    {
      "cell_type": "code",
      "metadata": {
        "id": "nSryuoKqZt4J"
      },
      "source": [
        "train = np.concatenate((train , valid) , axis = 0)\n",
        "y_train = np.concatenate((y_train , y_valid) , axis = 0)"
      ],
      "execution_count": 22,
      "outputs": []
    },
    {
      "cell_type": "code",
      "metadata": {
        "colab": {
          "base_uri": "https://localhost:8080/"
        },
        "id": "0LYYXQQLYbO4",
        "outputId": "c726bf13-ec0d-4fc9-921f-4370e0ef4748"
      },
      "source": [
        "tree.fit(train , y_train)"
      ],
      "execution_count": 23,
      "outputs": [
        {
          "output_type": "execute_result",
          "data": {
            "text/plain": [
              "DecisionTreeRegressor(ccp_alpha=0.0, criterion='mse', max_depth=25,\n",
              "                      max_features=None, max_leaf_nodes=None,\n",
              "                      min_impurity_decrease=0.0, min_impurity_split=0,\n",
              "                      min_samples_leaf=6, min_samples_split=12,\n",
              "                      min_weight_fraction_leaf=0.0, presort='deprecated',\n",
              "                      random_state=None, splitter='best')"
            ]
          },
          "metadata": {
            "tags": []
          },
          "execution_count": 23
        }
      ]
    },
    {
      "cell_type": "code",
      "metadata": {
        "colab": {
          "base_uri": "https://localhost:8080/"
        },
        "id": "Uwax8QSDYnke",
        "outputId": "a0ff1615-e6ae-4ccb-a70d-3d7a1a2e2f64"
      },
      "source": [
        "del train, y_train\n",
        "gc.collect()"
      ],
      "execution_count": 24,
      "outputs": [
        {
          "output_type": "execute_result",
          "data": {
            "text/plain": [
              "287"
            ]
          },
          "metadata": {
            "tags": []
          },
          "execution_count": 24
        }
      ]
    },
    {
      "cell_type": "code",
      "metadata": {
        "colab": {
          "base_uri": "https://localhost:8080/"
        },
        "id": "vTbKCepUuzqE",
        "outputId": "7643794f-f7e5-4ec4-9468-ab4ecc59d25c"
      },
      "source": [
        "train_columns"
      ],
      "execution_count": 41,
      "outputs": [
        {
          "output_type": "execute_result",
          "data": {
            "text/plain": [
              "Index(['building_id', 'meter', 'hour', 'dayofweek', 'month_group', 'site_id',\n",
              "       'primary_use', 'square_feet', 'air_temperature', 'cloud_coverage',\n",
              "       'dew_temperature', 'precip_depth_1_hr', 'sea_level_pressure',\n",
              "       'wind_direction', 'wind_speed', 'relative_humidity', 'feels_like',\n",
              "       'city', 'country', 'is_holiday', 'log_meter_reading'],\n",
              "      dtype='object')"
            ]
          },
          "metadata": {
            "tags": []
          },
          "execution_count": 41
        }
      ]
    },
    {
      "cell_type": "code",
      "metadata": {
        "colab": {
          "base_uri": "https://localhost:8080/",
          "height": 331
        },
        "id": "71O5VKkCgSyq",
        "outputId": "4a26cb03-2854-4d42-a0b6-0a0ddc973f8c"
      },
      "source": [
        "importance = tree.feature_importances_\n",
        "plt.figure(figsize = (5 , 5))\n",
        "plt.barh(train_columns[:-1], importance)\n",
        "plt.xticks(rotation = 90)\n",
        "plt.show()"
      ],
      "execution_count": 48,
      "outputs": [
        {
          "output_type": "display_data",
          "data": {
            "image/png": "[encoded data removed]",
            "text/plain": [
              "<Figure size 360x360 with 1 Axes>"
            ]
          },
          "metadata": {
            "tags": []
          }
        }
      ]
    },
    {
      "cell_type": "markdown",
      "metadata": {
        "id": "68hxxiunvK9e"
      },
      "source": [
        "\n",
        "* square_feet est la variable la plus importante.\n",
        "* meter et building_id et feels_like , month_group, primary_use , air_temperature est considéré comme important.\n",
        "* le reste peut être considéré qu'ils n'a pas d'effets sur la prédiction.\n",
        "* Un autre modèle est fait seulement avec les variables les plus importantes."
      ]
    },
    {
      "cell_type": "code",
      "metadata": {
        "id": "wLMN42vqcDhx"
      },
      "source": [
        "test = pd.read_csv('/content/test.csv')\n",
        "weather_test = pd.read_csv('/content/weather_test.csv')\n",
        "building = pd.read_csv('/content/building_metadata.csv')\n",
        "\n",
        "\n",
        "weather_test  = reduce_mem_usage(weather_test)\n",
        "building = reduce_mem_usage(building)\n",
        "test = reduce_mem_usage(test)\n",
        "\n",
        "\n",
        "weather_test = prepare_weather_data(weather_test)\n",
        "building = prepare_building_data(building)\n",
        "test = time_features(test)"
      ],
      "execution_count": 25,
      "outputs": []
    },
    {
      "cell_type": "code",
      "metadata": {
        "colab": {
          "base_uri": "https://localhost:8080/"
        },
        "id": "TpLK6AkDcYTL",
        "outputId": "daf44df3-a947-43aa-88b5-360b98f2efb5"
      },
      "source": [
        "step_size = 100000\n",
        "nrows = test.shape[0]\n",
        "num_steps = nrows//step_size\n",
        "print('nombre d\\'iterations' , num_steps)\n",
        "\n",
        "row_id = np.array([])\n",
        "meter_values = np.array([])\n",
        "y_pred = np.array([])\n",
        "\n",
        "for j in range(num_steps+1):\n",
        "    start_idx = j*step_size\n",
        "    end_idx = (j+1)*step_size\n",
        "    if j == num_steps : \n",
        "        start_idx = j*step_size\n",
        "        end_idx = nrows\n",
        "      \n",
        "    test_tmp = test.iloc[start_idx:end_idx]\n",
        "    \n",
        "    test_tmp = join_data(test_tmp , weather_test , building)\n",
        "    test_tmp = Filler.transform(test_tmp)\n",
        "    test_tmp = ScalerEncoder.transform(test_tmp)\n",
        "    test_tmp['month_group'] = test_tmp['month_group'] - 1\n",
        "    \n",
        "    for col in categorical_vars:\n",
        "        test_tmp[col] = test_tmp[col].astype('category')\n",
        "\n",
        "    row_id_tmp = test_tmp['row_id'].values\n",
        "    row_id = np.concatenate((row_id,row_id_tmp))\n",
        "\n",
        "    test_tmp = test_tmp.drop(['row_id'] , axis= 1)\n",
        "\n",
        "    meter_values_tmp = test_tmp['meter'].values\n",
        "    meter_values = np.concatenate((meter_values,meter_values_tmp))\n",
        "\n",
        "    predictions = tree.predict(test_tmp)\n",
        "    predictions = predictions.reshape(predictions.shape[0])\n",
        "\n",
        "    y_pred = np.concatenate((y_pred,predictions))\n",
        "    if j%50==0:\n",
        "        print('iteration' , j)"
      ],
      "execution_count": 26,
      "outputs": [
        {
          "output_type": "stream",
          "text": [
            "nombre d'iterations 416\n",
            "iteration 0\n",
            "iteration 50\n",
            "iteration 100\n",
            "iteration 150\n",
            "iteration 200\n",
            "iteration 250\n",
            "iteration 300\n",
            "iteration 350\n",
            "iteration 400\n"
          ],
          "name": "stdout"
        }
      ]
    },
    {
      "cell_type": "code",
      "metadata": {
        "colab": {
          "base_uri": "https://localhost:8080/"
        },
        "id": "EfjW7zkhd4Et",
        "outputId": "f0dd4998-60b6-45f9-db1f-6b3fcec39c2b"
      },
      "source": [
        "del building, weather_test,test\n",
        "gc.collect()"
      ],
      "execution_count": 27,
      "outputs": [
        {
          "output_type": "execute_result",
          "data": {
            "text/plain": [
              "281"
            ]
          },
          "metadata": {
            "tags": []
          },
          "execution_count": 27
        }
      ]
    },
    {
      "cell_type": "code",
      "metadata": {
        "id": "cQVJ0dHpeq13"
      },
      "source": [
        "pred_final = {'row_id': row_id, 'meter' : meter_values , 'meter_reading': y_pred}\n",
        "pred_final = pd.DataFrame(data = pred_final)\n",
        "\n",
        "KWH_TO_KBTU = 0.2931 \n",
        "pred_final['meter_reading'] = np.exp(pred_final['meter_reading']) - 1\n",
        "pred_final.loc[(pred_final.meter == 0),'meter_reading'] = pred_final['meter_reading'] / KWH_TO_KBTU # convertir du kwh vers kbtu\n",
        "\n",
        "pred_final = pred_final.sort_values(by=['row_id'])\n",
        "pred_final = pred_final.drop(['meter'] , axis = 1)\n",
        "pred_final.loc[pred_final.meter_reading < 0] = 0"
      ],
      "execution_count": 28,
      "outputs": []
    },
    {
      "cell_type": "code",
      "metadata": {
        "colab": {
          "base_uri": "https://localhost:8080/",
          "height": 405
        },
        "id": "xWVN_Ovte6D-",
        "outputId": "e9d5ba77-57eb-492f-ea5a-9994a50d6710"
      },
      "source": [
        "pred_final.row_id = pred_final.row_id.astype('int32')\n",
        "pred_final"
      ],
      "execution_count": 29,
      "outputs": [
        {
          "output_type": "execute_result",
          "data": {
            "text/html": [
              "<div>\n",
              "<style scoped>\n",
              "    .dataframe tbody tr th:only-of-type {\n",
              "        vertical-align: middle;\n",
              "    }\n",
              "\n",
              "    .dataframe tbody tr th {\n",
              "        vertical-align: top;\n",
              "    }\n",
              "\n",
              "    .dataframe thead th {\n",
              "        text-align: right;\n",
              "    }\n",
              "</style>\n",
              "<table border=\"1\" class=\"dataframe\">\n",
              "  <thead>\n",
              "    <tr style=\"text-align: right;\">\n",
              "      <th></th>\n",
              "      <th>row_id</th>\n",
              "      <th>meter_reading</th>\n",
              "    </tr>\n",
              "  </thead>\n",
              "  <tbody>\n",
              "    <tr>\n",
              "      <th>52860</th>\n",
              "      <td>0</td>\n",
              "      <td>0.000000</td>\n",
              "    </tr>\n",
              "    <tr>\n",
              "      <th>33031</th>\n",
              "      <td>1</td>\n",
              "      <td>0.882091</td>\n",
              "    </tr>\n",
              "    <tr>\n",
              "      <th>83905</th>\n",
              "      <td>2</td>\n",
              "      <td>0.000000</td>\n",
              "    </tr>\n",
              "    <tr>\n",
              "      <th>15517</th>\n",
              "      <td>3</td>\n",
              "      <td>0.000000</td>\n",
              "    </tr>\n",
              "    <tr>\n",
              "      <th>46516</th>\n",
              "      <td>4</td>\n",
              "      <td>0.000000</td>\n",
              "    </tr>\n",
              "    <tr>\n",
              "      <th>...</th>\n",
              "      <td>...</td>\n",
              "      <td>...</td>\n",
              "    </tr>\n",
              "    <tr>\n",
              "      <th>41640965</th>\n",
              "      <td>41697595</td>\n",
              "      <td>3.431800</td>\n",
              "    </tr>\n",
              "    <tr>\n",
              "      <th>41659597</th>\n",
              "      <td>41697596</td>\n",
              "      <td>4.471238</td>\n",
              "    </tr>\n",
              "    <tr>\n",
              "      <th>41675115</th>\n",
              "      <td>41697597</td>\n",
              "      <td>9.737288</td>\n",
              "    </tr>\n",
              "    <tr>\n",
              "      <th>41629031</th>\n",
              "      <td>41697598</td>\n",
              "      <td>156.735849</td>\n",
              "    </tr>\n",
              "    <tr>\n",
              "      <th>41667493</th>\n",
              "      <td>41697599</td>\n",
              "      <td>4.664610</td>\n",
              "    </tr>\n",
              "  </tbody>\n",
              "</table>\n",
              "<p>41697600 rows × 2 columns</p>\n",
              "</div>"
            ],
            "text/plain": [
              "            row_id  meter_reading\n",
              "52860            0       0.000000\n",
              "33031            1       0.882091\n",
              "83905            2       0.000000\n",
              "15517            3       0.000000\n",
              "46516            4       0.000000\n",
              "...            ...            ...\n",
              "41640965  41697595       3.431800\n",
              "41659597  41697596       4.471238\n",
              "41675115  41697597       9.737288\n",
              "41629031  41697598     156.735849\n",
              "41667493  41697599       4.664610\n",
              "\n",
              "[41697600 rows x 2 columns]"
            ]
          },
          "metadata": {
            "tags": []
          },
          "execution_count": 29
        }
      ]
    },
    {
      "cell_type": "code",
      "metadata": {
        "id": "YhPdr4tFe14v"
      },
      "source": [
        "compression_opts = dict(method='zip',archive_name='out_tree.csv')  \n",
        "\n",
        "pred_final.to_csv('out_tree.zip', index=False,compression=compression_opts)"
      ],
      "execution_count": 30,
      "outputs": []
    },
    {
      "cell_type": "code",
      "metadata": {
        "id": "1vfsF6Y2fG7p"
      },
      "source": [
        "!cp out_tree.zip /content/drive/MyDrive/out_tree.zip"
      ],
      "execution_count": 31,
      "outputs": []
    },
    {
      "cell_type": "code",
      "metadata": {
        "id": "7ChVugUmf6NP"
      },
      "source": [
        ""
      ],
      "execution_count": null,
      "outputs": []
    }
  ]
}