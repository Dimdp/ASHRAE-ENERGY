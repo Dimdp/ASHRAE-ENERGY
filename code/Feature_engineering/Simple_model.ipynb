{
  "nbformat": 4,
  "nbformat_minor": 0,
  "metadata": {
    "colab": {
      "name": "Simple_model.ipynb",
      "provenance": [],
      "collapsed_sections": [],
      "toc_visible": true
    },
    "kernelspec": {
      "name": "python3",
      "display_name": "Python 3"
    }
  },
  "cells": [
    {
      "cell_type": "markdown",
      "metadata": {
        "id": "oQlnImQUWbAc"
      },
      "source": [
        "# Performance du modèle sans feature engineering et avec donées avec feature engineering"
      ]
    },
    {
      "cell_type": "markdown",
      "metadata": {
        "id": "nibcAOM4Wark"
      },
      "source": [
        "### Dans cette partie, on souhaiterait évaluer l'impact des variables créés lors du feature engineering en prédiction"
      ]
    },
    {
      "cell_type": "code",
      "metadata": {
        "id": "H3W8kj7bJOcq"
      },
      "source": [
        "import pandas as pd\n",
        "import numpy as np\n",
        "import matplotlib.pyplot as plt\n",
        "from sklearn.preprocessing import LabelEncoder\n",
        "from sklearn.model_selection import KFold,GroupKFold\n",
        "import datetime\n",
        "import sklearn\n",
        "import gc\n",
        "import joblib\n",
        "from sklearn import  linear_model\n",
        "from sklearn.metrics import mean_squared_error\n",
        "from math import sqrt\n",
        "from tqdm import tqdm\n",
        "import pandas as pd"
      ],
      "execution_count": 1,
      "outputs": []
    },
    {
      "cell_type": "markdown",
      "metadata": {
        "id": "YUy479h5UL1O"
      },
      "source": [
        "### Données après  feature engineering"
      ]
    },
    {
      "cell_type": "code",
      "metadata": {
        "id": "Bs2cO3TbMiqv"
      },
      "source": [
        "train_df=pd.read_csv('/content/drive/MyDrive/train_preprocessed2.csv')\n"
      ],
      "execution_count": null,
      "outputs": []
    },
    {
      "cell_type": "markdown",
      "metadata": {
        "id": "2IQE_Ai-URX_"
      },
      "source": [
        "### Données sans feature engineering mais les données sont prétraitées, remplissage de weather, .."
      ]
    },
    {
      "cell_type": "code",
      "metadata": {
        "id": "jMSVyN3KUK_Q"
      },
      "source": [
        "train_df_default =pd.read_csv('/content/drive/MyDrive/train_preprocessed99.csv')"
      ],
      "execution_count": null,
      "outputs": []
    },
    {
      "cell_type": "markdown",
      "metadata": {
        "id": "JwLs_7abUqgK"
      },
      "source": [
        "### Réduction de mémoires"
      ]
    },
    {
      "cell_type": "code",
      "metadata": {
        "id": "MGxXhqahNF8F"
      },
      "source": [
        "from pandas.api.types import is_datetime64_any_dtype as is_datetime\n",
        "from pandas.api.types import is_categorical_dtype\n",
        "\n",
        "def reduce_mem_usage(df, use_float16=False):\n",
        "    \"\"\"\n",
        "    Iterate through all the columns of a dataframe and modify the data type to reduce memory usage.        \n",
        "    \"\"\"\n",
        "    \n",
        "    start_mem = df.memory_usage().sum() / 1024**2\n",
        "    print(\"Memory usage of dataframe is {:.2f} MB\".format(start_mem))\n",
        "    \n",
        "    for col in df.columns:\n",
        "        if is_datetime(df[col]) or is_categorical_dtype(df[col]):\n",
        "            continue\n",
        "        col_type = df[col].dtype\n",
        "        \n",
        "        if col_type != object:\n",
        "            c_min = df[col].min()\n",
        "            c_max = df[col].max()\n",
        "            if str(col_type)[:3] == \"int\":\n",
        "                if c_min > np.iinfo(np.int8).min and c_max < np.iinfo(np.int8).max:\n",
        "                    df[col] = df[col].astype(np.int8)\n",
        "                elif c_min > np.iinfo(np.int16).min and c_max < np.iinfo(np.int16).max:\n",
        "                    df[col] = df[col].astype(np.int16)\n",
        "                elif c_min > np.iinfo(np.int32).min and c_max < np.iinfo(np.int32).max:\n",
        "                    df[col] = df[col].astype(np.int32)\n",
        "                elif c_min > np.iinfo(np.int64).min and c_max < np.iinfo(np.int64).max:\n",
        "                    df[col] = df[col].astype(np.int64)  \n",
        "            else:\n",
        "                if use_float16 and c_min > np.finfo(np.float16).min and c_max < np.finfo(np.float16).max:\n",
        "                    df[col] = df[col].astype(np.float16)\n",
        "                elif c_min > np.finfo(np.float32).min and c_max < np.finfo(np.float32).max:\n",
        "                    df[col] = df[col].astype(np.float32)\n",
        "                else:\n",
        "                    df[col] = df[col].astype(np.float64)\n",
        "        else:\n",
        "            df[col] = df[col].astype(\"category\")\n",
        "\n",
        "    end_mem = df.memory_usage().sum() / 1024**2\n",
        "    print(\"Memory usage after optimization is: {:.2f} MB\".format(end_mem))\n",
        "    print(\"Decreased by {:.1f}%\".format(100 * (start_mem - end_mem) / start_mem))\n",
        "    \n",
        "    return df"
      ],
      "execution_count": null,
      "outputs": []
    },
    {
      "cell_type": "code",
      "metadata": {
        "colab": {
          "base_uri": "https://localhost:8080/"
        },
        "id": "LmEvyuANNKRa",
        "outputId": "6c572d5c-0fa3-4ee6-a40e-af3be39b5f48"
      },
      "source": [
        "train_df = reduce_mem_usage(train_df)\n",
        "train_df_default = reduce_mem_usage(train_df_default)"
      ],
      "execution_count": null,
      "outputs": [
        {
          "output_type": "stream",
          "text": [
            "Memory usage of dataframe is 872.46 MB\n",
            "Memory usage after optimization is: 312.63 MB\n",
            "Decreased by 64.2%\n",
            "Memory usage of dataframe is 581.64 MB\n",
            "Memory usage after optimization is: 210.85 MB\n",
            "Decreased by 63.7%\n"
          ],
          "name": "stdout"
        }
      ]
    },
    {
      "cell_type": "code",
      "metadata": {
        "colab": {
          "base_uri": "https://localhost:8080/",
          "height": 241
        },
        "id": "gcDjk5Q5H2iw",
        "outputId": "64797955-1752-4b25-c977-bc377d535abc"
      },
      "source": [
        "train_df_default.head()"
      ],
      "execution_count": null,
      "outputs": [
        {
          "output_type": "execute_result",
          "data": {
            "text/html": [
              "<div>\n",
              "<style scoped>\n",
              "    .dataframe tbody tr th:only-of-type {\n",
              "        vertical-align: middle;\n",
              "    }\n",
              "\n",
              "    .dataframe tbody tr th {\n",
              "        vertical-align: top;\n",
              "    }\n",
              "\n",
              "    .dataframe thead th {\n",
              "        text-align: right;\n",
              "    }\n",
              "</style>\n",
              "<table border=\"1\" class=\"dataframe\">\n",
              "  <thead>\n",
              "    <tr style=\"text-align: right;\">\n",
              "      <th></th>\n",
              "      <th>Unnamed: 0</th>\n",
              "      <th>building_id</th>\n",
              "      <th>meter</th>\n",
              "      <th>meter_reading</th>\n",
              "      <th>site_id</th>\n",
              "      <th>primary_use</th>\n",
              "      <th>square_feet</th>\n",
              "      <th>year_built</th>\n",
              "      <th>dew_temperature</th>\n",
              "      <th>wind_speed</th>\n",
              "    </tr>\n",
              "  </thead>\n",
              "  <tbody>\n",
              "    <tr>\n",
              "      <th>0</th>\n",
              "      <td>45</td>\n",
              "      <td>46</td>\n",
              "      <td>0</td>\n",
              "      <td>53.239700</td>\n",
              "      <td>0</td>\n",
              "      <td>11</td>\n",
              "      <td>9045</td>\n",
              "      <td>2016.0</td>\n",
              "      <td>20.0</td>\n",
              "      <td>0.0</td>\n",
              "    </tr>\n",
              "    <tr>\n",
              "      <th>1</th>\n",
              "      <td>72</td>\n",
              "      <td>74</td>\n",
              "      <td>0</td>\n",
              "      <td>43.001301</td>\n",
              "      <td>0</td>\n",
              "      <td>8</td>\n",
              "      <td>387638</td>\n",
              "      <td>1997.0</td>\n",
              "      <td>20.0</td>\n",
              "      <td>0.0</td>\n",
              "    </tr>\n",
              "    <tr>\n",
              "      <th>2</th>\n",
              "      <td>91</td>\n",
              "      <td>93</td>\n",
              "      <td>0</td>\n",
              "      <td>52.420601</td>\n",
              "      <td>0</td>\n",
              "      <td>6</td>\n",
              "      <td>33370</td>\n",
              "      <td>1982.0</td>\n",
              "      <td>20.0</td>\n",
              "      <td>0.0</td>\n",
              "    </tr>\n",
              "    <tr>\n",
              "      <th>3</th>\n",
              "      <td>106</td>\n",
              "      <td>107</td>\n",
              "      <td>0</td>\n",
              "      <td>175.184006</td>\n",
              "      <td>1</td>\n",
              "      <td>0</td>\n",
              "      <td>97532</td>\n",
              "      <td>2005.0</td>\n",
              "      <td>2.4</td>\n",
              "      <td>3.1</td>\n",
              "    </tr>\n",
              "    <tr>\n",
              "      <th>4</th>\n",
              "      <td>107</td>\n",
              "      <td>108</td>\n",
              "      <td>0</td>\n",
              "      <td>91.265297</td>\n",
              "      <td>1</td>\n",
              "      <td>0</td>\n",
              "      <td>81580</td>\n",
              "      <td>1913.0</td>\n",
              "      <td>2.4</td>\n",
              "      <td>3.1</td>\n",
              "    </tr>\n",
              "  </tbody>\n",
              "</table>\n",
              "</div>"
            ],
            "text/plain": [
              "   Unnamed: 0  building_id  meter  ...  year_built  dew_temperature  wind_speed\n",
              "0          45           46      0  ...      2016.0             20.0         0.0\n",
              "1          72           74      0  ...      1997.0             20.0         0.0\n",
              "2          91           93      0  ...      1982.0             20.0         0.0\n",
              "3         106          107      0  ...      2005.0              2.4         3.1\n",
              "4         107          108      0  ...      1913.0              2.4         3.1\n",
              "\n",
              "[5 rows x 10 columns]"
            ]
          },
          "metadata": {
            "tags": []
          },
          "execution_count": 8
        }
      ]
    },
    {
      "cell_type": "code",
      "metadata": {
        "id": "7oWIXDS5M4r2"
      },
      "source": [
        "train_df=train_df.drop(['Unnamed: 0','year_built'], axis=1)"
      ],
      "execution_count": null,
      "outputs": []
    },
    {
      "cell_type": "code",
      "metadata": {
        "id": "1QDtdbxDHr5P"
      },
      "source": [
        "train_df_default = train_df_default.drop(['Unnamed: 0','year_built'], axis=1)"
      ],
      "execution_count": null,
      "outputs": []
    },
    {
      "cell_type": "code",
      "metadata": {
        "colab": {
          "base_uri": "https://localhost:8080/",
          "height": 224
        },
        "id": "n2atesdqHzkf",
        "outputId": "9aebf50a-a42c-46e6-a1f2-a1254ed5414d"
      },
      "source": [
        "train_df_default.head()"
      ],
      "execution_count": null,
      "outputs": [
        {
          "output_type": "execute_result",
          "data": {
            "text/html": [
              "<div>\n",
              "<style scoped>\n",
              "    .dataframe tbody tr th:only-of-type {\n",
              "        vertical-align: middle;\n",
              "    }\n",
              "\n",
              "    .dataframe tbody tr th {\n",
              "        vertical-align: top;\n",
              "    }\n",
              "\n",
              "    .dataframe thead th {\n",
              "        text-align: right;\n",
              "    }\n",
              "</style>\n",
              "<table border=\"1\" class=\"dataframe\">\n",
              "  <thead>\n",
              "    <tr style=\"text-align: right;\">\n",
              "      <th></th>\n",
              "      <th>building_id</th>\n",
              "      <th>meter</th>\n",
              "      <th>meter_reading</th>\n",
              "      <th>site_id</th>\n",
              "      <th>primary_use</th>\n",
              "      <th>square_feet</th>\n",
              "      <th>dew_temperature</th>\n",
              "      <th>wind_speed</th>\n",
              "    </tr>\n",
              "  </thead>\n",
              "  <tbody>\n",
              "    <tr>\n",
              "      <th>0</th>\n",
              "      <td>46</td>\n",
              "      <td>0</td>\n",
              "      <td>53.239700</td>\n",
              "      <td>0</td>\n",
              "      <td>11</td>\n",
              "      <td>9045</td>\n",
              "      <td>20.0</td>\n",
              "      <td>0.0</td>\n",
              "    </tr>\n",
              "    <tr>\n",
              "      <th>1</th>\n",
              "      <td>74</td>\n",
              "      <td>0</td>\n",
              "      <td>43.001301</td>\n",
              "      <td>0</td>\n",
              "      <td>8</td>\n",
              "      <td>387638</td>\n",
              "      <td>20.0</td>\n",
              "      <td>0.0</td>\n",
              "    </tr>\n",
              "    <tr>\n",
              "      <th>2</th>\n",
              "      <td>93</td>\n",
              "      <td>0</td>\n",
              "      <td>52.420601</td>\n",
              "      <td>0</td>\n",
              "      <td>6</td>\n",
              "      <td>33370</td>\n",
              "      <td>20.0</td>\n",
              "      <td>0.0</td>\n",
              "    </tr>\n",
              "    <tr>\n",
              "      <th>3</th>\n",
              "      <td>107</td>\n",
              "      <td>0</td>\n",
              "      <td>175.184006</td>\n",
              "      <td>1</td>\n",
              "      <td>0</td>\n",
              "      <td>97532</td>\n",
              "      <td>2.4</td>\n",
              "      <td>3.1</td>\n",
              "    </tr>\n",
              "    <tr>\n",
              "      <th>4</th>\n",
              "      <td>108</td>\n",
              "      <td>0</td>\n",
              "      <td>91.265297</td>\n",
              "      <td>1</td>\n",
              "      <td>0</td>\n",
              "      <td>81580</td>\n",
              "      <td>2.4</td>\n",
              "      <td>3.1</td>\n",
              "    </tr>\n",
              "  </tbody>\n",
              "</table>\n",
              "</div>"
            ],
            "text/plain": [
              "   building_id  meter  meter_reading  ...  square_feet  dew_temperature  wind_speed\n",
              "0           46      0      53.239700  ...         9045             20.0         0.0\n",
              "1           74      0      43.001301  ...       387638             20.0         0.0\n",
              "2           93      0      52.420601  ...        33370             20.0         0.0\n",
              "3          107      0     175.184006  ...        97532              2.4         3.1\n",
              "4          108      0      91.265297  ...        81580              2.4         3.1\n",
              "\n",
              "[5 rows x 8 columns]"
            ]
          },
          "metadata": {
            "tags": []
          },
          "execution_count": 13
        }
      ]
    },
    {
      "cell_type": "code",
      "metadata": {
        "id": "14JMkJQPU28b"
      },
      "source": [
        ""
      ],
      "execution_count": null,
      "outputs": []
    },
    {
      "cell_type": "markdown",
      "metadata": {
        "id": "z8iODXAqVcx6"
      },
      "source": [
        "## Modèle sur les données sans feature engineering:     \n",
        "* Baseline                              \n",
        "* Regression tree"
      ]
    },
    {
      "cell_type": "markdown",
      "metadata": {
        "id": "gryv2yzMU3rN"
      },
      "source": [
        "### On split données"
      ]
    },
    {
      "cell_type": "code",
      "metadata": {
        "id": "DJnfOmZUJXcC"
      },
      "source": [
        "from sklearn.model_selection import train_test_split"
      ],
      "execution_count": null,
      "outputs": []
    },
    {
      "cell_type": "code",
      "metadata": {
        "id": "OHhrFsHlJXiC"
      },
      "source": [
        "X = train_df_default.drop(['meter_reading'], axis=1)\n",
        "y = train_df_default['meter_reading']"
      ],
      "execution_count": null,
      "outputs": []
    },
    {
      "cell_type": "code",
      "metadata": {
        "id": "7P1IKxJjJwPl"
      },
      "source": [
        "train, test, y_train, y_test = train_test_split(X, y, test_size=0.36, random_state=42)"
      ],
      "execution_count": null,
      "outputs": []
    },
    {
      "cell_type": "markdown",
      "metadata": {
        "id": "RvLJbLAgLhN5"
      },
      "source": [
        "## Random model: Baseline"
      ]
    },
    {
      "cell_type": "code",
      "metadata": {
        "id": "tiMizZdMLhOE"
      },
      "source": [
        "def rmse(y_true, y_pred):\n",
        "    return np.sqrt(\n",
        "        np.mean(\n",
        "            np.square(y_true - y_pred)\n",
        "        )\n",
        "    )"
      ],
      "execution_count": null,
      "outputs": []
    },
    {
      "cell_type": "code",
      "metadata": {
        "colab": {
          "base_uri": "https://localhost:8080/"
        },
        "id": "qZgarnTsLhOG",
        "outputId": "6166928e-0b3b-4b20-b8e4-eb895a301292"
      },
      "source": [
        "baseline_guess = np.median(y_train)\n",
        "print('The baseline guess is a score of %0.2f' % baseline_guess)\n",
        "print(\"Baseline Performance on the valid set: RMSE = %0.4f\" % rmse(y_test, baseline_guess))"
      ],
      "execution_count": null,
      "outputs": [
        {
          "output_type": "stream",
          "text": [
            "The baseline guess is a score of 82.37\n",
            "Baseline Performance on the valid set: RMSE = 795.7608\n"
          ],
          "name": "stdout"
        }
      ]
    },
    {
      "cell_type": "markdown",
      "metadata": {
        "id": "tVfaDRjRLhOK"
      },
      "source": [
        "### DecisionTreeRegressor"
      ]
    },
    {
      "cell_type": "code",
      "metadata": {
        "id": "Djp5462ULhOL"
      },
      "source": [
        "from sklearn.tree import DecisionTreeRegressor"
      ],
      "execution_count": null,
      "outputs": []
    },
    {
      "cell_type": "code",
      "metadata": {
        "id": "ti0GYWw7LhOL"
      },
      "source": [
        "from sklearn.metrics import accuracy_score"
      ],
      "execution_count": null,
      "outputs": []
    },
    {
      "cell_type": "code",
      "metadata": {
        "colab": {
          "base_uri": "https://localhost:8080/"
        },
        "id": "WgcSsw3FLhOM",
        "outputId": "69542202-ef37-437d-f7b2-b01e3b3e4c7e"
      },
      "source": [
        "max_depth = [3,5,10,50,100] \n",
        "cv_log_error_array=[]\n",
        "for i in tqdm(max_depth):\n",
        "    regressor = DecisionTreeRegressor(max_depth=i)\n",
        "    regressor.fit(train,y_train)\n",
        "    predict_y =  regressor.predict(test)\n",
        "    cv_log_error_array.append(sqrt(mean_squared_error(y_test, predict_y)))\n",
        "for i in range(len(cv_log_error_array)):\n",
        "    print ('rmse for max_depth and min_sample_split = ',max_depth[i],'is',cv_log_error_array[i])"
      ],
      "execution_count": null,
      "outputs": [
        {
          "output_type": "stream",
          "text": [
            "100%|██████████| 5/5 [01:53<00:00, 22.71s/it]"
          ],
          "name": "stderr"
        },
        {
          "output_type": "stream",
          "text": [
            "rmse for max_depth and min_sample_split =  3 is 641.553809669388\n",
            "rmse for max_depth and min_sample_split =  5 is 506.8128652582777\n",
            "rmse for max_depth and min_sample_split =  10 is 339.03156487740245\n",
            "rmse for max_depth and min_sample_split =  50 is 342.71830495676653\n",
            "rmse for max_depth and min_sample_split =  100 is 342.76509974783426\n"
          ],
          "name": "stdout"
        },
        {
          "output_type": "stream",
          "text": [
            "\n"
          ],
          "name": "stderr"
        }
      ]
    },
    {
      "cell_type": "markdown",
      "metadata": {
        "id": "iYh1unwVVALr"
      },
      "source": [
        "**On remarque que la plus petite RMSE est 339.031**"
      ]
    },
    {
      "cell_type": "code",
      "metadata": {
        "colab": {
          "base_uri": "https://localhost:8080/",
          "height": 313
        },
        "id": "f_Vxj4LhLhOO",
        "outputId": "973bb38f-b569-4507-c064-05c5bbb341f4"
      },
      "source": [
        "best_alpha = np.argmin(cv_log_error_array)\n",
        "print(best_alpha)\n",
        "fig, ax = plt.subplots()\n",
        "ax.plot(max_depth, cv_log_error_array,c='g')\n",
        "for i, txt in enumerate(np.round(cv_log_error_array,3)):\n",
        "    ax.annotate((max_depth[i],np.round(txt,3)), (max_depth[i],cv_log_error_array[i]))\n",
        "plt.grid()\n",
        "plt.title(\"Cross Validation Error for each alpha\")\n",
        "plt.xlabel(\"Alpha i's\")\n",
        "plt.ylabel(\"Error measure\")\n",
        "plt.show()"
      ],
      "execution_count": null,
      "outputs": [
        {
          "output_type": "stream",
          "text": [
            "2\n"
          ],
          "name": "stdout"
        },
        {
          "output_type": "display_data",
          "data": {
            "image/png": "[encoded data removed]",
            "text/plain": [
              "<Figure size 432x288 with 1 Axes>"
            ]
          },
          "metadata": {
            "tags": [],
            "needs_background": "light"
          }
        }
      ]
    },
    {
      "cell_type": "code",
      "metadata": {
        "id": "wXJOZk79JXyb"
      },
      "source": [
        ""
      ],
      "execution_count": null,
      "outputs": []
    },
    {
      "cell_type": "markdown",
      "metadata": {
        "id": "LovdXb6nVzRv"
      },
      "source": [
        "## Modèle sur les données avec feature engineering:     \n",
        "* Baseline                              \n",
        "* Regression tree"
      ]
    },
    {
      "cell_type": "markdown",
      "metadata": {
        "id": "o-tyyd74V8sI"
      },
      "source": [
        "## on split nos données"
      ]
    },
    {
      "cell_type": "code",
      "metadata": {
        "id": "EuVE2cakUizs"
      },
      "source": [
        "train=train_df[train_df['group_x'] != 3]\n",
        "test=train_df[train_df['group_x'] == 3]\n"
      ],
      "execution_count": null,
      "outputs": []
    },
    {
      "cell_type": "code",
      "metadata": {
        "id": "O5Wwic1lUi2F"
      },
      "source": [
        "y_test=test['meter_reading']\n",
        "y_train=train['meter_reading']\n",
        "test= test.drop(['meter_reading'], axis=1)\n",
        "train = train.drop(['meter_reading'], axis=1)"
      ],
      "execution_count": null,
      "outputs": []
    },
    {
      "cell_type": "markdown",
      "metadata": {
        "id": "Uw5xVyECWrCO"
      },
      "source": [
        "## Random model: Baseline"
      ]
    },
    {
      "cell_type": "code",
      "metadata": {
        "id": "Kb7TSANgUi4t"
      },
      "source": [
        "def rmse(y_true, y_pred):\n",
        "    return np.sqrt(\n",
        "        np.mean(\n",
        "            np.square(y_true - y_pred)\n",
        "        )\n",
        "    )"
      ],
      "execution_count": null,
      "outputs": []
    },
    {
      "cell_type": "code",
      "metadata": {
        "colab": {
          "base_uri": "https://localhost:8080/"
        },
        "id": "lbhP35DhUi7C",
        "outputId": "bf58ff2d-0dff-44bd-f760-b88c4b4ecc86"
      },
      "source": [
        "baseline_guess = np.median(y_train)\n",
        "print('The baseline guess is a score of %0.2f' % baseline_guess)\n",
        "print(\"Baseline Performance on the valid set: RMSE = %0.4f\" % rmse(y_test, baseline_guess))"
      ],
      "execution_count": null,
      "outputs": [
        {
          "output_type": "stream",
          "text": [
            "The baseline guess is a score of 4.41\n",
            "Baseline Performance on the valid set: RMSE = 1.9536\n"
          ],
          "name": "stdout"
        }
      ]
    },
    {
      "cell_type": "markdown",
      "metadata": {
        "id": "O5xDSHKXW7Tr"
      },
      "source": [
        "### DecisionTreeRegressor"
      ]
    },
    {
      "cell_type": "code",
      "metadata": {
        "id": "WJS5P8JXUi8i"
      },
      "source": [
        "from sklearn.tree import DecisionTreeRegressor"
      ],
      "execution_count": null,
      "outputs": []
    },
    {
      "cell_type": "code",
      "metadata": {
        "id": "zxV0-a81qMK6"
      },
      "source": [
        "from sklearn.metrics import accuracy_score"
      ],
      "execution_count": null,
      "outputs": []
    },
    {
      "cell_type": "code",
      "metadata": {
        "id": "AH6QH34Ip7B1",
        "colab": {
          "base_uri": "https://localhost:8080/"
        },
        "outputId": "d85d7b24-3a80-4fa9-f271-116a7a2cfc86"
      },
      "source": [
        "max_depth = [3,5,10,50,100] \n",
        "cv_log_error_array=[]\n",
        "for i in tqdm(max_depth):\n",
        "    regressor = DecisionTreeRegressor(max_depth=i)\n",
        "    regressor.fit(train,y_train)\n",
        "    predict_y =  regressor.predict(test)\n",
        "    cv_log_error_array.append(sqrt(mean_squared_error(y_test, predict_y)))\n",
        "for i in range(len(cv_log_error_array)):\n",
        "    print ('rmse for max_depth and min_sample_split = ',max_depth[i],'is',cv_log_error_array[i])"
      ],
      "execution_count": null,
      "outputs": [
        {
          "output_type": "stream",
          "text": [
            "100%|██████████| 5/5 [03:13<00:00, 38.66s/it]"
          ],
          "name": "stderr"
        },
        {
          "output_type": "stream",
          "text": [
            "rmse for max_depth and min_sample_split =  3 is 1.6336700448326715\n",
            "rmse for max_depth and min_sample_split =  5 is 1.4573678542473683\n",
            "rmse for max_depth and min_sample_split =  10 is 1.0869891254085053\n",
            "rmse for max_depth and min_sample_split =  50 is 1.1715841056203204\n",
            "rmse for max_depth and min_sample_split =  100 is 1.1678372143266738\n"
          ],
          "name": "stdout"
        },
        {
          "output_type": "stream",
          "text": [
            "\n"
          ],
          "name": "stderr"
        }
      ]
    },
    {
      "cell_type": "markdown",
      "metadata": {
        "id": "ml7EogTkWD6D"
      },
      "source": [
        "**La plus petite RMSE est 1.086**\n",
        "\n",
        "**On voit l'avantage de faire du feature engineering**"
      ]
    },
    {
      "cell_type": "code",
      "metadata": {
        "id": "k2s6bHSxp7Iy",
        "colab": {
          "base_uri": "https://localhost:8080/",
          "height": 313
        },
        "outputId": "afae5c42-5327-4d7c-f306-b4dba85320fa"
      },
      "source": [
        "best_alpha = np.argmin(cv_log_error_array)\n",
        "print(best_alpha)\n",
        "fig, ax = plt.subplots()\n",
        "ax.plot(max_depth, cv_log_error_array,c='g')\n",
        "for i, txt in enumerate(np.round(cv_log_error_array,3)):\n",
        "    ax.annotate((max_depth[i],np.round(txt,3)), (max_depth[i],cv_log_error_array[i]))\n",
        "plt.grid()\n",
        "plt.title(\"Cross Validation Error for each alpha\")\n",
        "plt.xlabel(\"Alpha i's\")\n",
        "plt.ylabel(\"Error measure\")\n",
        "plt.show()"
      ],
      "execution_count": null,
      "outputs": [
        {
          "output_type": "stream",
          "text": [
            "2\n"
          ],
          "name": "stdout"
        },
        {
          "output_type": "display_data",
          "data": {
            "image/png": "[encoded data removed]",
            "text/plain": [
              "<Figure size 432x288 with 1 Axes>"
            ]
          },
          "metadata": {
            "tags": [],
            "needs_background": "light"
          }
        }
      ]
    }
  ]
}