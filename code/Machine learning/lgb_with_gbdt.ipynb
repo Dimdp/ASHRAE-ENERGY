{
  "nbformat": 4,
  "nbformat_minor": 0,
  "metadata": {
    "colab": {
      "name": "lgb with gbdt.ipynb",
      "provenance": [],
      "collapsed_sections": []
    },
    "kernelspec": {
      "name": "python3",
      "display_name": "Python 3"
    },
    "language_info": {
      "name": "python"
    }
  },
  "cells": [
    {
      "cell_type": "code",
      "metadata": {
        "colab": {
          "base_uri": "https://localhost:8080/"
        },
        "id": "9ekS7vKqmT-m",
        "outputId": "d19c08c2-5ee7-400b-b475-ff88b844fd01"
      },
      "source": [
        "!pip install meteocalc"
      ],
      "execution_count": null,
      "outputs": [
        {
          "output_type": "stream",
          "text": [
            "Collecting meteocalc\n",
            "  Downloading https://files.pythonhosted.org/packages/6c/f7/95473a929f0a02547461fa3698b7f8082ff40445ba5e21601f5d9a5e48ec/meteocalc-1.1.0.tar.gz\n",
            "Building wheels for collected packages: meteocalc\n",
            "  Building wheel for meteocalc (setup.py) ... \u001b[?25l\u001b[?25hdone\n",
            "  Created wheel for meteocalc: filename=meteocalc-1.1.0-cp37-none-any.whl size=8195 sha256=915d39c5a7d3c9001973515105ce4c2f8aa1870fa268428ce5d9d5fec8cfdfd7\n",
            "  Stored in directory: /root/.cache/pip/wheels/9e/34/13/83d36ecc28837e3c2a5b696542e697538e7c1025382f4ded55\n",
            "Successfully built meteocalc\n",
            "Installing collected packages: meteocalc\n",
            "Successfully installed meteocalc-1.1.0\n"
          ],
          "name": "stdout"
        }
      ]
    },
    {
      "cell_type": "code",
      "metadata": {
        "colab": {
          "base_uri": "https://localhost:8080/"
        },
        "id": "GCr8m7SVUEte",
        "outputId": "d2bcf634-e225-4367-9ddc-2be8c90cfc7d"
      },
      "source": [
        "from google.colab import drive\n",
        "drive.mount('/content/drive')"
      ],
      "execution_count": null,
      "outputs": [
        {
          "output_type": "stream",
          "text": [
            "Mounted at /content/drive\n"
          ],
          "name": "stdout"
        }
      ]
    },
    {
      "cell_type": "code",
      "metadata": {
        "id": "U3FPBdgQmVfT"
      },
      "source": [
        "#from google.col4/1AY0e-g4QBLBOBCwIslaAFOL4hHyTLzfMotxykEmSvl0MPtvH0qLvhmW4eIUab import drive\n",
        "#drive.mount('/content/drive')\n",
        "#!cp /content/drive/MyDrive/ashrae.zip ashrae.zip\n",
        "#!unzip -q ashrae.zip"
      ],
      "execution_count": null,
      "outputs": []
    },
    {
      "cell_type": "code",
      "metadata": {
        "colab": {
          "base_uri": "https://localhost:8080/",
          "height": 17
        },
        "id": "8mquHJ0BmYFk",
        "outputId": "ec3d43dc-c97f-416e-8424-048a8b9f480c"
      },
      "source": [
        "import warnings\n",
        "warnings.simplefilter(action='ignore', category=FutureWarning)\n",
        "\n",
        "import gc\n",
        "import pandas as pd\n",
        "import numpy as np\n",
        "import matplotlib.pyplot as plt\n",
        "import seaborn as sns\n",
        "import plotly.graph_objects as go\n",
        "import plotly.figure_factory as ff\n",
        "\n",
        "from IPython.core.pylabtools import figsize\n",
        "from plotly.offline import init_notebook_mode,iplot,plot\n",
        "%matplotlib inline\n",
        "init_notebook_mode(connected=True)\n",
        "plt.style.use(\"ggplot\")\n",
        "\n",
        "from sklearn.metrics import mean_squared_error\n",
        "from sklearn.utils import shuffle\n",
        "from sklearn.preprocessing import  LabelEncoder, StandardScaler\n",
        "from sklearn.model_selection import train_test_split\n",
        "from sklearn.tree import DecisionTreeRegressor\n",
        "\n",
        "# importer les fichiers .py sur le notebook\n",
        "%run /content/utils.py\n",
        "%run /content/feature_enginering.py"
      ],
      "execution_count": null,
      "outputs": [
        {
          "output_type": "display_data",
          "data": {
            "text/html": [
              "        <script type=\"text/javascript\">\n",
              "        window.PlotlyConfig = {MathJaxConfig: 'local'};\n",
              "        if (window.MathJax) {MathJax.Hub.Config({SVG: {font: \"STIX-Web\"}});}\n",
              "        if (typeof require !== 'undefined') {\n",
              "        require.undef(\"plotly\");\n",
              "        requirejs.config({\n",
              "            paths: {\n",
              "                'plotly': ['https://cdn.plot.ly/plotly-latest.min']\n",
              "            }\n",
              "        });\n",
              "        require(['plotly'], function(Plotly) {\n",
              "            window._Plotly = Plotly;\n",
              "        });\n",
              "        }\n",
              "        </script>\n",
              "        "
            ]
          },
          "metadata": {
            "tags": []
          }
        }
      ]
    },
    {
      "cell_type": "code",
      "metadata": {
        "id": "Bxt_0R7cumno"
      },
      "source": [
        "building = pd.read_csv('/content/drive/MyDrive/building_metadata.csv')\n",
        "weather = pd.read_csv('/content/drive/MyDrive/weather_train.csv')\n",
        "train = pd.read_csv('/content/drive/MyDrive/train.csv')\n",
        "\n",
        "train.loc[(train.meter == 0),'meter_reading'] = train['meter_reading'] * 0.2931 # convertir du kwh vers kbtu"
      ],
      "execution_count": null,
      "outputs": []
    },
    {
      "cell_type": "code",
      "metadata": {
        "id": "4nm8_iq0uw-A"
      },
      "source": [
        "building = reduce_mem_usage(building)\n",
        "weather  = reduce_mem_usage(weather)\n",
        "train = reduce_mem_usage(train)"
      ],
      "execution_count": null,
      "outputs": []
    },
    {
      "cell_type": "code",
      "metadata": {
        "id": "qpy8a552u3-A"
      },
      "source": [
        "building = prepare_building_data(building)\n",
        "weather = prepare_weather_data(weather)\n",
        "train  = time_features(train)"
      ],
      "execution_count": null,
      "outputs": []
    },
    {
      "cell_type": "code",
      "metadata": {
        "colab": {
          "base_uri": "https://localhost:8080/"
        },
        "id": "SWYlePKqvH_A",
        "outputId": "9809e5c8-a8ac-4287-e462-1b3c73a5435d"
      },
      "source": [
        "def join_data(data , weather_data , building_data):\n",
        "\n",
        "    data = data.merge(building_data, on = 'building_id' , how='left')\n",
        "    data = data.merge(weather_data , on = ['site_id','timestamp'], how= 'left')\n",
        "    data = shuffle(data, random_state=0)\n",
        "\n",
        "    return data\n",
        "\n",
        "train = join_data(train , weather , building)\n",
        "\n",
        "train['log_meter_reading'] = np.log(train['meter_reading'] + 1)\n",
        "train['month_group'] = train['month_group'] - 1\n",
        "\n",
        "train = train.drop(['meter_reading'] , axis= 1)\n",
        "\n",
        "train  = reduce_mem_usage(train)\n",
        "del weather, building\n",
        "gc.collect()"
      ],
      "execution_count": null,
      "outputs": [
        {
          "output_type": "execute_result",
          "data": {
            "text/plain": [
              "0"
            ]
          },
          "metadata": {
            "tags": []
          },
          "execution_count": 8
        }
      ]
    },
    {
      "cell_type": "code",
      "metadata": {
        "id": "Zc0BHCCDvMLg"
      },
      "source": [
        "cols_to_drop = ['year_built' , 'floor_count' , 'timestamp']\n",
        "\n",
        "cols_to_scale = ['square_feet' , 'air_temperature' , 'dew_temperature' ,\n",
        "                 'wind_speed', 'cloud_coverage', 'sea_level_pressure', 'wind_direction',\n",
        "                 'relative_humidity', 'feels_like']\n",
        "\n",
        "cols_to_encode = ['primary_use' , 'city' , 'country']\n",
        "\n",
        "cols_to_fill_median = ['air_temperature', 'cloud_coverage', 'dew_temperature', 'precip_depth_1_hr',\n",
        "                       'sea_level_pressure','wind_direction' , 'wind_speed', 'relative_humidity' ,\n",
        "                       'feels_like']\n",
        "\n",
        "cols_to_fill_categ = ['city' , 'country' , 'is_holiday']\n",
        "\n",
        "\n",
        "Filler = Data_Filler(cols_to_fill_median,\n",
        "                     cols_to_fill_categ)\n",
        "\n",
        "Filler.fit(train)\n",
        "train = Filler.transform(train)\n",
        "\n",
        "ScalerEncoder = Data_Scaler_Encoder(cols_to_scale ,\n",
        "                                    cols_to_drop , \n",
        "                                    cols_to_encode)\n",
        "ScalerEncoder.fit(train)\n",
        "train = ScalerEncoder.transform(train)"
      ],
      "execution_count": null,
      "outputs": []
    },
    {
      "cell_type": "code",
      "metadata": {
        "id": "4ZKV9VC0Bm8q"
      },
      "source": [
        "categorical_vars = ['building_id' , 'meter', 'hour', 'dayofweek' , 'month_group', 'site_id' , \n",
        "                    'primary_use', 'city', 'country', 'is_holiday']\n",
        "\n",
        "for col in categorical_vars:\n",
        "    train[col] = train[col].astype('category')\n",
        "\n",
        "train_columns = train.columns"
      ],
      "execution_count": null,
      "outputs": []
    },
    {
      "cell_type": "code",
      "metadata": {
        "colab": {
          "base_uri": "https://localhost:8080/"
        },
        "id": "C5eL8ICXv3C7",
        "outputId": "395616d8-7794-474c-8cf7-139f3a22f3a5"
      },
      "source": [
        "y = train['log_meter_reading'].values\n",
        "\n",
        "train = train.drop( ['log_meter_reading'] , axis = 1).values\n",
        "\n",
        "train, valid, y_train, y_valid = train_test_split(train, y, test_size = 0.30, random_state=42)\n",
        "\n",
        "del y\n",
        "gc.collect()"
      ],
      "execution_count": null,
      "outputs": [
        {
          "output_type": "execute_result",
          "data": {
            "text/plain": [
              "254"
            ]
          },
          "metadata": {
            "tags": []
          },
          "execution_count": 11
        }
      ]
    },
    {
      "cell_type": "code",
      "metadata": {
        "id": "iuB2R9qydTmW"
      },
      "source": [
        "best_params = {}"
      ],
      "execution_count": null,
      "outputs": []
    },
    {
      "cell_type": "code",
      "metadata": {
        "id": "UYOG0rPARpOK"
      },
      "source": [
        "import lightgbm as lgb"
      ],
      "execution_count": null,
      "outputs": []
    },
    {
      "cell_type": "code",
      "metadata": {
        "id": "0h-Ue_FHRqc8"
      },
      "source": [
        ""
      ],
      "execution_count": null,
      "outputs": []
    },
    {
      "cell_type": "code",
      "metadata": {
        "id": "yKB-ZTZaRqgq"
      },
      "source": [
        "n_estimators = [25,50,150,500,1000]\n",
        "rmses = []\n",
        "\n",
        "for estim in n_estimators : \n",
        "    lgbr=lgb.LGBMRegressor(boosting_type='gbdt', n_estimators=estim, objective='regression')\n",
        "    model=lgbr.fit(train , y_train)\n",
        "    y_pred = model.predict(valid)\n",
        "    rmses.append(mean_squared_error(y_valid, y_pred, squared = False))\n",
        "\n",
        "best_params['n_estimators'] = n_estimators[rmses.index(min(rmses))]"
      ],
      "execution_count": null,
      "outputs": []
    },
    {
      "cell_type": "code",
      "metadata": {
        "id": "dluFtLOwRqlJ"
      },
      "source": [
        ""
      ],
      "execution_count": null,
      "outputs": []
    },
    {
      "cell_type": "code",
      "metadata": {
        "colab": {
          "base_uri": "https://localhost:8080/"
        },
        "id": "Qh8OuaIulg1h",
        "outputId": "ee75d69c-96fc-4b94-9306-ae4b04961f2f"
      },
      "source": [
        "best_params"
      ],
      "execution_count": null,
      "outputs": [
        {
          "output_type": "execute_result",
          "data": {
            "text/plain": [
              "{'n_estimators': 1000}"
            ]
          },
          "metadata": {
            "tags": []
          },
          "execution_count": 15
        }
      ]
    },
    {
      "cell_type": "code",
      "metadata": {
        "id": "AmjloxZf-0vI"
      },
      "source": [
        "lgbr =  lgb.LGBMRegressor(boosting_type='gbdt', \n",
        "                          n_estimators=1000, \n",
        "                          objective='regression')"
      ],
      "execution_count": null,
      "outputs": []
    },
    {
      "cell_type": "code",
      "metadata": {
        "id": "nSryuoKqZt4J"
      },
      "source": [
        "train = np.concatenate((train , valid) , axis = 0)\n",
        "y_train = np.concatenate((y_train , y_valid) , axis = 0)"
      ],
      "execution_count": null,
      "outputs": []
    },
    {
      "cell_type": "code",
      "metadata": {
        "colab": {
          "base_uri": "https://localhost:8080/"
        },
        "id": "0LYYXQQLYbO4",
        "outputId": "11eb1258-2b2b-47ff-9957-de325df3044a"
      },
      "source": [
        "lgbr.fit(train , y_train)"
      ],
      "execution_count": null,
      "outputs": [
        {
          "output_type": "execute_result",
          "data": {
            "text/plain": [
              "LGBMRegressor(boosting_type='gbdt', class_weight=None, colsample_bytree=1.0,\n",
              "              importance_type='split', learning_rate=0.1, max_depth=-1,\n",
              "              min_child_samples=20, min_child_weight=0.001, min_split_gain=0.0,\n",
              "              n_estimators=1000, n_jobs=-1, num_leaves=31,\n",
              "              objective='regression', random_state=None, reg_alpha=0.0,\n",
              "              reg_lambda=0.0, silent=True, subsample=1.0,\n",
              "              subsample_for_bin=200000, subsample_freq=0)"
            ]
          },
          "metadata": {
            "tags": []
          },
          "execution_count": 16
        }
      ]
    },
    {
      "cell_type": "code",
      "metadata": {
        "colab": {
          "base_uri": "https://localhost:8080/"
        },
        "id": "Uwax8QSDYnke",
        "outputId": "78d2e20d-9c32-4628-c942-e72de023fdf3"
      },
      "source": [
        "del train, y_train\n",
        "gc.collect()"
      ],
      "execution_count": null,
      "outputs": [
        {
          "output_type": "execute_result",
          "data": {
            "text/plain": [
              "322"
            ]
          },
          "metadata": {
            "tags": []
          },
          "execution_count": 17
        }
      ]
    },
    {
      "cell_type": "code",
      "metadata": {
        "colab": {
          "base_uri": "https://localhost:8080/"
        },
        "id": "vTbKCepUuzqE",
        "outputId": "3412b965-8ad4-4a99-a65a-b1f85a0838d5"
      },
      "source": [
        "train_columns"
      ],
      "execution_count": null,
      "outputs": [
        {
          "output_type": "execute_result",
          "data": {
            "text/plain": [
              "Index(['building_id', 'meter', 'hour', 'dayofweek', 'month_group', 'site_id',\n",
              "       'primary_use', 'square_feet', 'air_temperature', 'cloud_coverage',\n",
              "       'dew_temperature', 'precip_depth_1_hr', 'sea_level_pressure',\n",
              "       'wind_direction', 'wind_speed', 'relative_humidity', 'feels_like',\n",
              "       'city', 'country', 'is_holiday', 'log_meter_reading'],\n",
              "      dtype='object')"
            ]
          },
          "metadata": {
            "tags": []
          },
          "execution_count": 18
        }
      ]
    },
    {
      "cell_type": "code",
      "metadata": {
        "id": "wLMN42vqcDhx"
      },
      "source": [
        "test = pd.read_csv('/content/drive/MyDrive/test.csv')\n",
        "weather_test = pd.read_csv('/content/drive/MyDrive/weather_test.csv')\n",
        "building = pd.read_csv('/content/drive/MyDrive/building_metadata.csv')\n",
        "\n",
        "\n",
        "weather_test  = reduce_mem_usage(weather_test)\n",
        "building = reduce_mem_usage(building)\n",
        "test = reduce_mem_usage(test)\n",
        "\n",
        "\n",
        "weather_test = prepare_weather_data(weather_test)\n",
        "building = prepare_building_data(building)\n",
        "test = time_features(test)"
      ],
      "execution_count": null,
      "outputs": []
    },
    {
      "cell_type": "code",
      "metadata": {
        "colab": {
          "base_uri": "https://localhost:8080/"
        },
        "id": "TpLK6AkDcYTL",
        "outputId": "f62f6372-5d88-4e6b-f361-3e7905eefa50"
      },
      "source": [
        "step_size = 100000\n",
        "nrows = test.shape[0]\n",
        "num_steps = nrows//step_size\n",
        "print('nombre d\\'iterations' , num_steps)\n",
        "\n",
        "row_id = np.array([])\n",
        "meter_values = np.array([])\n",
        "y_pred = np.array([])\n",
        "\n",
        "for j in range(num_steps+1):\n",
        "    start_idx = j*step_size\n",
        "    end_idx = (j+1)*step_size\n",
        "    if j == num_steps : \n",
        "        start_idx = j*step_size\n",
        "        end_idx = nrows\n",
        "      \n",
        "    test_tmp = test.iloc[start_idx:end_idx]\n",
        "    \n",
        "    test_tmp = join_data(test_tmp , weather_test , building)\n",
        "    test_tmp = Filler.transform(test_tmp)\n",
        "    test_tmp = ScalerEncoder.transform(test_tmp)\n",
        "    test_tmp['month_group'] = test_tmp['month_group'] - 1\n",
        "    \n",
        "    for col in categorical_vars:\n",
        "        test_tmp[col] = test_tmp[col].astype('category')\n",
        "\n",
        "    row_id_tmp = test_tmp['row_id'].values\n",
        "    row_id = np.concatenate((row_id,row_id_tmp))\n",
        "\n",
        "    test_tmp = test_tmp.drop(['row_id'] , axis= 1)\n",
        "\n",
        "    meter_values_tmp = test_tmp['meter'].values\n",
        "    meter_values = np.concatenate((meter_values,meter_values_tmp))\n",
        "\n",
        "    predictions = lgbr.predict(test_tmp)\n",
        "    predictions = predictions.reshape(predictions.shape[0])\n",
        "\n",
        "    y_pred = np.concatenate((y_pred,predictions))\n",
        "    if j%50==0:\n",
        "        print('iteration' , j)"
      ],
      "execution_count": null,
      "outputs": [
        {
          "output_type": "stream",
          "text": [
            "nombre d'iterations 416\n",
            "iteration 0\n",
            "iteration 50\n",
            "iteration 100\n",
            "iteration 150\n",
            "iteration 200\n",
            "iteration 250\n",
            "iteration 300\n",
            "iteration 350\n",
            "iteration 400\n"
          ],
          "name": "stdout"
        }
      ]
    },
    {
      "cell_type": "code",
      "metadata": {
        "colab": {
          "base_uri": "https://localhost:8080/"
        },
        "id": "EfjW7zkhd4Et",
        "outputId": "fd5b0a39-61c2-41b7-8d92-3cb46c6caa36"
      },
      "source": [
        "del building, weather_test,test\n",
        "gc.collect()"
      ],
      "execution_count": null,
      "outputs": [
        {
          "output_type": "execute_result",
          "data": {
            "text/plain": [
              "833"
            ]
          },
          "metadata": {
            "tags": []
          },
          "execution_count": 21
        }
      ]
    },
    {
      "cell_type": "code",
      "metadata": {
        "id": "cQVJ0dHpeq13"
      },
      "source": [
        "pred_final = {'row_id': row_id, 'meter' : meter_values , 'meter_reading': y_pred}\n",
        "pred_final = pd.DataFrame(data = pred_final)\n",
        "\n",
        "KWH_TO_KBTU = 0.2931 \n",
        "pred_final['meter_reading'] = np.exp(pred_final['meter_reading']) - 1\n",
        "pred_final.loc[(pred_final.meter == 0),'meter_reading'] = pred_final['meter_reading'] / KWH_TO_KBTU # convertir du kwh vers kbtu\n",
        "\n",
        "pred_final = pred_final.sort_values(by=['row_id'])\n",
        "pred_final = pred_final.drop(['meter'] , axis = 1)\n",
        "pred_final.loc[pred_final.meter_reading < 0, 'meter_reading'] = 0"
      ],
      "execution_count": null,
      "outputs": []
    },
    {
      "cell_type": "code",
      "metadata": {
        "id": "xWVN_Ovte6D-",
        "colab": {
          "base_uri": "https://localhost:8080/",
          "height": 419
        },
        "outputId": "f0b9dffb-af2a-4e9d-c196-bc5bf88539dc"
      },
      "source": [
        "pred_final.row_id = pred_final.row_id.astype('int32')\n",
        "pred_final"
      ],
      "execution_count": null,
      "outputs": [
        {
          "output_type": "execute_result",
          "data": {
            "text/html": [
              "<div>\n",
              "<style scoped>\n",
              "    .dataframe tbody tr th:only-of-type {\n",
              "        vertical-align: middle;\n",
              "    }\n",
              "\n",
              "    .dataframe tbody tr th {\n",
              "        vertical-align: top;\n",
              "    }\n",
              "\n",
              "    .dataframe thead th {\n",
              "        text-align: right;\n",
              "    }\n",
              "</style>\n",
              "<table border=\"1\" class=\"dataframe\">\n",
              "  <thead>\n",
              "    <tr style=\"text-align: right;\">\n",
              "      <th></th>\n",
              "      <th>row_id</th>\n",
              "      <th>meter_reading</th>\n",
              "    </tr>\n",
              "  </thead>\n",
              "  <tbody>\n",
              "    <tr>\n",
              "      <th>52860</th>\n",
              "      <td>0</td>\n",
              "      <td>2.621977</td>\n",
              "    </tr>\n",
              "    <tr>\n",
              "      <th>33031</th>\n",
              "      <td>1</td>\n",
              "      <td>2.431558</td>\n",
              "    </tr>\n",
              "    <tr>\n",
              "      <th>83905</th>\n",
              "      <td>2</td>\n",
              "      <td>0.000000</td>\n",
              "    </tr>\n",
              "    <tr>\n",
              "      <th>15517</th>\n",
              "      <td>3</td>\n",
              "      <td>3.578069</td>\n",
              "    </tr>\n",
              "    <tr>\n",
              "      <th>46516</th>\n",
              "      <td>4</td>\n",
              "      <td>5.611755</td>\n",
              "    </tr>\n",
              "    <tr>\n",
              "      <th>...</th>\n",
              "      <td>...</td>\n",
              "      <td>...</td>\n",
              "    </tr>\n",
              "    <tr>\n",
              "      <th>41640965</th>\n",
              "      <td>41697595</td>\n",
              "      <td>38.248783</td>\n",
              "    </tr>\n",
              "    <tr>\n",
              "      <th>41659597</th>\n",
              "      <td>41697596</td>\n",
              "      <td>6.933911</td>\n",
              "    </tr>\n",
              "    <tr>\n",
              "      <th>41675115</th>\n",
              "      <td>41697597</td>\n",
              "      <td>20.599366</td>\n",
              "    </tr>\n",
              "    <tr>\n",
              "      <th>41629031</th>\n",
              "      <td>41697598</td>\n",
              "      <td>44.152377</td>\n",
              "    </tr>\n",
              "    <tr>\n",
              "      <th>41667493</th>\n",
              "      <td>41697599</td>\n",
              "      <td>186.987788</td>\n",
              "    </tr>\n",
              "  </tbody>\n",
              "</table>\n",
              "<p>41697600 rows × 2 columns</p>\n",
              "</div>"
            ],
            "text/plain": [
              "            row_id  meter_reading\n",
              "52860            0       2.621977\n",
              "33031            1       2.431558\n",
              "83905            2       0.000000\n",
              "15517            3       3.578069\n",
              "46516            4       5.611755\n",
              "...            ...            ...\n",
              "41640965  41697595      38.248783\n",
              "41659597  41697596       6.933911\n",
              "41675115  41697597      20.599366\n",
              "41629031  41697598      44.152377\n",
              "41667493  41697599     186.987788\n",
              "\n",
              "[41697600 rows x 2 columns]"
            ]
          },
          "metadata": {
            "tags": []
          },
          "execution_count": 23
        }
      ]
    },
    {
      "cell_type": "code",
      "metadata": {
        "colab": {
          "base_uri": "https://localhost:8080/",
          "height": 419
        },
        "id": "XtdfGqJ01CiQ",
        "outputId": "bfdc0deb-fad1-4bba-ce69-f2c11136f710"
      },
      "source": [
        "# pred_final.drop(['Unnamed: 0'])\n",
        "pred_final"
      ],
      "execution_count": null,
      "outputs": [
        {
          "output_type": "execute_result",
          "data": {
            "text/html": [
              "<div>\n",
              "<style scoped>\n",
              "    .dataframe tbody tr th:only-of-type {\n",
              "        vertical-align: middle;\n",
              "    }\n",
              "\n",
              "    .dataframe tbody tr th {\n",
              "        vertical-align: top;\n",
              "    }\n",
              "\n",
              "    .dataframe thead th {\n",
              "        text-align: right;\n",
              "    }\n",
              "</style>\n",
              "<table border=\"1\" class=\"dataframe\">\n",
              "  <thead>\n",
              "    <tr style=\"text-align: right;\">\n",
              "      <th></th>\n",
              "      <th>row_id</th>\n",
              "      <th>meter_reading</th>\n",
              "    </tr>\n",
              "  </thead>\n",
              "  <tbody>\n",
              "    <tr>\n",
              "      <th>52860</th>\n",
              "      <td>0</td>\n",
              "      <td>2.621977</td>\n",
              "    </tr>\n",
              "    <tr>\n",
              "      <th>33031</th>\n",
              "      <td>1</td>\n",
              "      <td>2.431558</td>\n",
              "    </tr>\n",
              "    <tr>\n",
              "      <th>83905</th>\n",
              "      <td>2</td>\n",
              "      <td>0.000000</td>\n",
              "    </tr>\n",
              "    <tr>\n",
              "      <th>15517</th>\n",
              "      <td>3</td>\n",
              "      <td>3.578069</td>\n",
              "    </tr>\n",
              "    <tr>\n",
              "      <th>46516</th>\n",
              "      <td>4</td>\n",
              "      <td>5.611755</td>\n",
              "    </tr>\n",
              "    <tr>\n",
              "      <th>...</th>\n",
              "      <td>...</td>\n",
              "      <td>...</td>\n",
              "    </tr>\n",
              "    <tr>\n",
              "      <th>41640965</th>\n",
              "      <td>41697595</td>\n",
              "      <td>38.248783</td>\n",
              "    </tr>\n",
              "    <tr>\n",
              "      <th>41659597</th>\n",
              "      <td>41697596</td>\n",
              "      <td>6.933911</td>\n",
              "    </tr>\n",
              "    <tr>\n",
              "      <th>41675115</th>\n",
              "      <td>41697597</td>\n",
              "      <td>20.599366</td>\n",
              "    </tr>\n",
              "    <tr>\n",
              "      <th>41629031</th>\n",
              "      <td>41697598</td>\n",
              "      <td>44.152377</td>\n",
              "    </tr>\n",
              "    <tr>\n",
              "      <th>41667493</th>\n",
              "      <td>41697599</td>\n",
              "      <td>186.987788</td>\n",
              "    </tr>\n",
              "  </tbody>\n",
              "</table>\n",
              "<p>41697600 rows × 2 columns</p>\n",
              "</div>"
            ],
            "text/plain": [
              "            row_id  meter_reading\n",
              "52860            0       2.621977\n",
              "33031            1       2.431558\n",
              "83905            2       0.000000\n",
              "15517            3       3.578069\n",
              "46516            4       5.611755\n",
              "...            ...            ...\n",
              "41640965  41697595      38.248783\n",
              "41659597  41697596       6.933911\n",
              "41675115  41697597      20.599366\n",
              "41629031  41697598      44.152377\n",
              "41667493  41697599     186.987788\n",
              "\n",
              "[41697600 rows x 2 columns]"
            ]
          },
          "metadata": {
            "tags": []
          },
          "execution_count": 24
        }
      ]
    },
    {
      "cell_type": "code",
      "metadata": {
        "id": "YhPdr4tFe14v"
      },
      "source": [
        "compression_opts = dict(method='zip',archive_name='out_lgbr.csv')  \n",
        "\n",
        "pred_final.to_csv('out_lgbr.zip', index=False,compression=compression_opts)"
      ],
      "execution_count": null,
      "outputs": []
    },
    {
      "cell_type": "code",
      "metadata": {
        "id": "1vfsF6Y2fG7p"
      },
      "source": [
        "!cp out_lgbr.zip /content/drive/MyDrive/out_lgbr.zip"
      ],
      "execution_count": null,
      "outputs": []
    },
    {
      "cell_type": "code",
      "metadata": {
        "id": "7ChVugUmf6NP"
      },
      "source": [
        ""
      ],
      "execution_count": null,
      "outputs": []
    }
  ]
}