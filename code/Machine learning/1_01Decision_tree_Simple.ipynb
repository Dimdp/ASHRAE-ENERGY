{
  "nbformat": 4,
  "nbformat_minor": 0,
  "metadata": {
    "colab": {
      "name": "Decision_tree_Simple.ipynb",
      "provenance": []
    },
    "kernelspec": {
      "name": "python3",
      "display_name": "Python 3"
    },
    "language_info": {
      "name": "python"
    }
  },
  "cells": [
    {
      "cell_type": "code",
      "metadata": {
        "colab": {
          "base_uri": "https://localhost:8080/"
        },
        "id": "BrU9IF1NAf25",
        "outputId": "1d7d3880-6780-4360-fe59-9126f40d9d8b"
      },
      "source": [
        "!pip install meteocalc"
      ],
      "execution_count": 2,
      "outputs": [
        {
          "output_type": "stream",
          "text": [
            "Collecting meteocalc\n",
            "  Downloading https://files.pythonhosted.org/packages/6c/f7/95473a929f0a02547461fa3698b7f8082ff40445ba5e21601f5d9a5e48ec/meteocalc-1.1.0.tar.gz\n",
            "Building wheels for collected packages: meteocalc\n",
            "  Building wheel for meteocalc (setup.py) ... \u001b[?25l\u001b[?25hdone\n",
            "  Created wheel for meteocalc: filename=meteocalc-1.1.0-cp37-none-any.whl size=8195 sha256=3f66911bc4d788a46f6ffa0abf4c1bd2c4be8c677d096176fef0c33cec5ab7de\n",
            "  Stored in directory: /root/.cache/pip/wheels/9e/34/13/83d36ecc28837e3c2a5b696542e697538e7c1025382f4ded55\n",
            "Successfully built meteocalc\n",
            "Installing collected packages: meteocalc\n",
            "Successfully installed meteocalc-1.1.0\n"
          ],
          "name": "stdout"
        }
      ]
    },
    {
      "cell_type": "code",
      "metadata": {
        "colab": {
          "base_uri": "https://localhost:8080/"
        },
        "id": "ryT-kIgKmsXb",
        "outputId": "abbe0e8b-3905-4371-b182-714df2dfa0e6"
      },
      "source": [
        "from google.colab import drive\n",
        "drive.mount('/content/drive')\n",
        "!cp /content/drive/MyDrive/ashrae.zip ashrae.zip\n",
        "!unzip -q ashrae.zip\n"
      ],
      "execution_count": 1,
      "outputs": [
        {
          "output_type": "stream",
          "text": [
            "Mounted at /content/drive\n"
          ],
          "name": "stdout"
        }
      ]
    },
    {
      "cell_type": "markdown",
      "metadata": {
        "id": "wT9_zzXGrfrd"
      },
      "source": [
        "Importations des librairies necessaires."
      ]
    },
    {
      "cell_type": "code",
      "metadata": {
        "colab": {
          "base_uri": "https://localhost:8080/",
          "height": 17
        },
        "id": "jhIYHpiNjNu4",
        "outputId": "1e54672a-c837-46ab-9727-264c87ca3e47"
      },
      "source": [
        "import warnings\n",
        "warnings.simplefilter(action='ignore', category=FutureWarning)\n",
        "\n",
        "import gc\n",
        "import pandas as pd\n",
        "import numpy as np\n",
        "import matplotlib.pyplot as plt\n",
        "import seaborn as sns\n",
        "import plotly.graph_objects as go\n",
        "import plotly.figure_factory as ff\n",
        "\n",
        "%matplotlib inline\n",
        "\n",
        "plt.style.use(\"ggplot\")\n",
        "from IPython.core.pylabtools import figsize\n",
        "from plotly.offline import init_notebook_mode,iplot,plot\n",
        "%matplotlib inline\n",
        "init_notebook_mode(connected=True)\n",
        "plt.style.use(\"ggplot\")\n",
        "\n",
        "from sklearn.preprocessing import  LabelEncoder\n",
        "from sklearn.model_selection import train_test_split\n",
        "\n",
        "%run utils.py\n",
        "%run feature_enginering.py"
      ],
      "execution_count": 20,
      "outputs": [
        {
          "output_type": "display_data",
          "data": {
            "text/html": [
              "        <script type=\"text/javascript\">\n",
              "        window.PlotlyConfig = {MathJaxConfig: 'local'};\n",
              "        if (window.MathJax) {MathJax.Hub.Config({SVG: {font: \"STIX-Web\"}});}\n",
              "        if (typeof require !== 'undefined') {\n",
              "        require.undef(\"plotly\");\n",
              "        requirejs.config({\n",
              "            paths: {\n",
              "                'plotly': ['https://cdn.plot.ly/plotly-latest.min']\n",
              "            }\n",
              "        });\n",
              "        require(['plotly'], function(Plotly) {\n",
              "            window._Plotly = Plotly;\n",
              "        });\n",
              "        }\n",
              "        </script>\n",
              "        "
            ]
          },
          "metadata": {
            "tags": []
          }
        }
      ]
    },
    {
      "cell_type": "code",
      "metadata": {
        "id": "xanSZwW-iBtB"
      },
      "source": [
        "building = pd.read_csv('/content/building_metadata.csv')\n",
        "weather_train = pd.read_csv('/content/weather_train.csv')\n",
        "train = pd.read_csv('/content/train.csv')\n",
        "\n",
        "# convertir du kwh vers kbtu\n",
        "train.loc[(train.meter == 0),'meter_reading'] = train['meter_reading'] * 0.2931"
      ],
      "execution_count": 21,
      "outputs": []
    },
    {
      "cell_type": "markdown",
      "metadata": {
        "id": "OcMS3XL84OyU"
      },
      "source": [
        ""
      ]
    },
    {
      "cell_type": "code",
      "metadata": {
        "id": "_dw82lqi2cbw"
      },
      "source": [
        "def join_data(data , weather_data , building_data):\n",
        "    building_data = reduce_mem_usage(building_data)\n",
        "    weather_data  = reduce_mem_usage(weather_data)\n",
        "    data = reduce_mem_usage(data)\n",
        "\n",
        "    data = (data.merge(building_data, on='building_id', how='left')) #on joint les données ci-dessus a partir des clés\n",
        "    data = data.merge(weather_data, how='left', on = ['site_id', 'timestamp'], validate='many_to_one')\n",
        "\n",
        "    return data"
      ],
      "execution_count": 22,
      "outputs": []
    },
    {
      "cell_type": "code",
      "metadata": {
        "id": "vZ18YjV52cfK"
      },
      "source": [
        ""
      ],
      "execution_count": 22,
      "outputs": []
    },
    {
      "cell_type": "code",
      "metadata": {
        "colab": {
          "base_uri": "https://localhost:8080/"
        },
        "id": "mfk4v-xv2W2U",
        "outputId": "1a21c2ae-0ac8-46db-a4d9-6490123b0768"
      },
      "source": [
        "print(train.shape)"
      ],
      "execution_count": 23,
      "outputs": [
        {
          "output_type": "stream",
          "text": [
            "(20216100, 4)\n"
          ],
          "name": "stdout"
        }
      ]
    },
    {
      "cell_type": "code",
      "metadata": {
        "colab": {
          "base_uri": "https://localhost:8080/"
        },
        "id": "K1XuubOHAsYp",
        "outputId": "3163a97d-a7a8-4f34-c700-c1e613bec5af"
      },
      "source": [
        "train = join_data(train , weather_train , building)\n",
        "train['log_meter_reading'] = np.log(train['meter_reading'] + 1)\n",
        "train = train.drop(['meter_reading'] , axis = 1)\n",
        "del weather_train\n",
        "gc.collect()"
      ],
      "execution_count": 24,
      "outputs": [
        {
          "output_type": "execute_result",
          "data": {
            "text/plain": [
              "8"
            ]
          },
          "metadata": {
            "tags": []
          },
          "execution_count": 24
        }
      ]
    },
    {
      "cell_type": "code",
      "metadata": {
        "colab": {
          "base_uri": "https://localhost:8080/"
        },
        "id": "p5KrHvj4Asbq",
        "outputId": "dde03d87-42fd-41a9-b549-bfcf8b4586f3"
      },
      "source": [
        "for col in  train.columns:\n",
        "    print(col , ' - ',train[col].isnull().values.sum() )"
      ],
      "execution_count": 25,
      "outputs": [
        {
          "output_type": "stream",
          "text": [
            "building_id  -  0\n",
            "meter  -  0\n",
            "timestamp  -  0\n",
            "site_id  -  0\n",
            "primary_use  -  0\n",
            "square_feet  -  0\n",
            "year_built  -  12127645\n",
            "floor_count  -  16709167\n",
            "air_temperature  -  96658\n",
            "cloud_coverage  -  8825365\n",
            "dew_temperature  -  100140\n",
            "precip_depth_1_hr  -  3749023\n",
            "sea_level_pressure  -  1231669\n",
            "wind_direction  -  1449048\n",
            "wind_speed  -  143676\n",
            "log_meter_reading  -  0\n"
          ],
          "name": "stdout"
        }
      ]
    },
    {
      "cell_type": "code",
      "metadata": {
        "id": "hs4gIculAseD"
      },
      "source": [
        "cols_to_drop = ['year_built' , 'floor_count' ,\n",
        "                'cloud_coverage' , 'precip_depth_1_hr' , \n",
        "                'wind_direction' , 'sea_level_pressure']\n",
        "\n",
        "cols_to_scale = ['square_feet' , 'air_temperature' \n",
        "                 , 'dew_temperature' , 'wind_speed']\n",
        "\n",
        "cols_to_encode = ['primary_use']\n",
        "\n",
        "\n",
        "cols_to_fill_mean = ['air_temperature', 'dew_temperature'  , 'wind_speed' ]\n",
        "\n",
        "Filler = Data_Filler(cols_to_fill_mean,[])\n",
        "\n",
        "Filler.fit(train)\n",
        "train = Filler.transform(train)\n",
        "\n",
        "ScalerEncoder = Data_Scaler_Encoder(cols_to_scale ,\n",
        "                                    cols_to_drop , \n",
        "                                    cols_to_encode)\n",
        "ScalerEncoder.fit(train)\n",
        "train = ScalerEncoder.transform(train)"
      ],
      "execution_count": 26,
      "outputs": []
    },
    {
      "cell_type": "code",
      "metadata": {
        "colab": {
          "base_uri": "https://localhost:8080/"
        },
        "id": "BHqRg_7fAshi",
        "outputId": "ee770c09-f38e-49d7-ebf5-66012a550cf6"
      },
      "source": [
        "for col in  train.columns:\n",
        "    print(col , ' - ',train[col].isnull().values.sum() )"
      ],
      "execution_count": 27,
      "outputs": [
        {
          "output_type": "stream",
          "text": [
            "building_id  -  0\n",
            "meter  -  0\n",
            "timestamp  -  0\n",
            "site_id  -  0\n",
            "primary_use  -  0\n",
            "square_feet  -  0\n",
            "air_temperature  -  0\n",
            "dew_temperature  -  0\n",
            "wind_speed  -  0\n",
            "log_meter_reading  -  0\n"
          ],
          "name": "stdout"
        }
      ]
    },
    {
      "cell_type": "code",
      "metadata": {
        "id": "uViNn4VvAskn"
      },
      "source": [
        "def time_features(df) :\n",
        "  df[\"timestamp\"] = pd.to_datetime(df[\"timestamp\"],format=\"%Y-%m-%d %H:%M:%S\")\n",
        "  \n",
        "  df[\"hour\"] = df[\"timestamp\"].dt.hour\n",
        "  df[\"dayofweek\"] = df[\"timestamp\"].dt.weekday\n",
        "  df['month'] = df['timestamp'].dt.month \n",
        "\n",
        "  df =  df.drop(['timestamp'] , axis= 1)\n",
        "  return df\n",
        "\n",
        "train = time_features(train)"
      ],
      "execution_count": 28,
      "outputs": []
    },
    {
      "cell_type": "code",
      "metadata": {
        "colab": {
          "base_uri": "https://localhost:8080/",
          "height": 215
        },
        "id": "lVgxHVs7Asmj",
        "outputId": "14bff89e-5787-41c8-b920-9849eb660e23"
      },
      "source": [
        "train.head()"
      ],
      "execution_count": 29,
      "outputs": [
        {
          "output_type": "execute_result",
          "data": {
            "text/html": [
              "<div>\n",
              "<style scoped>\n",
              "    .dataframe tbody tr th:only-of-type {\n",
              "        vertical-align: middle;\n",
              "    }\n",
              "\n",
              "    .dataframe tbody tr th {\n",
              "        vertical-align: top;\n",
              "    }\n",
              "\n",
              "    .dataframe thead th {\n",
              "        text-align: right;\n",
              "    }\n",
              "</style>\n",
              "<table border=\"1\" class=\"dataframe\">\n",
              "  <thead>\n",
              "    <tr style=\"text-align: right;\">\n",
              "      <th></th>\n",
              "      <th>building_id</th>\n",
              "      <th>meter</th>\n",
              "      <th>site_id</th>\n",
              "      <th>primary_use</th>\n",
              "      <th>square_feet</th>\n",
              "      <th>air_temperature</th>\n",
              "      <th>dew_temperature</th>\n",
              "      <th>wind_speed</th>\n",
              "      <th>log_meter_reading</th>\n",
              "      <th>hour</th>\n",
              "      <th>dayofweek</th>\n",
              "      <th>month</th>\n",
              "    </tr>\n",
              "  </thead>\n",
              "  <tbody>\n",
              "    <tr>\n",
              "      <th>0</th>\n",
              "      <td>0</td>\n",
              "      <td>0</td>\n",
              "      <td>0</td>\n",
              "      <td>0</td>\n",
              "      <td>-0.856658</td>\n",
              "      <td>0.857421</td>\n",
              "      <td>1.225247</td>\n",
              "      <td>-1.554017</td>\n",
              "      <td>0.0</td>\n",
              "      <td>0</td>\n",
              "      <td>4</td>\n",
              "      <td>1</td>\n",
              "    </tr>\n",
              "    <tr>\n",
              "      <th>1</th>\n",
              "      <td>1</td>\n",
              "      <td>0</td>\n",
              "      <td>0</td>\n",
              "      <td>0</td>\n",
              "      <td>-0.896882</td>\n",
              "      <td>0.857421</td>\n",
              "      <td>1.225247</td>\n",
              "      <td>-1.554017</td>\n",
              "      <td>0.0</td>\n",
              "      <td>0</td>\n",
              "      <td>4</td>\n",
              "      <td>1</td>\n",
              "    </tr>\n",
              "    <tr>\n",
              "      <th>2</th>\n",
              "      <td>2</td>\n",
              "      <td>0</td>\n",
              "      <td>0</td>\n",
              "      <td>0</td>\n",
              "      <td>-0.874209</td>\n",
              "      <td>0.857421</td>\n",
              "      <td>1.225247</td>\n",
              "      <td>-1.554017</td>\n",
              "      <td>0.0</td>\n",
              "      <td>0</td>\n",
              "      <td>4</td>\n",
              "      <td>1</td>\n",
              "    </tr>\n",
              "    <tr>\n",
              "      <th>3</th>\n",
              "      <td>3</td>\n",
              "      <td>0</td>\n",
              "      <td>0</td>\n",
              "      <td>0</td>\n",
              "      <td>-0.717912</td>\n",
              "      <td>0.857421</td>\n",
              "      <td>1.225247</td>\n",
              "      <td>-1.554017</td>\n",
              "      <td>0.0</td>\n",
              "      <td>0</td>\n",
              "      <td>4</td>\n",
              "      <td>1</td>\n",
              "    </tr>\n",
              "    <tr>\n",
              "      <th>4</th>\n",
              "      <td>4</td>\n",
              "      <td>0</td>\n",
              "      <td>0</td>\n",
              "      <td>0</td>\n",
              "      <td>0.075327</td>\n",
              "      <td>0.857421</td>\n",
              "      <td>1.225247</td>\n",
              "      <td>-1.554017</td>\n",
              "      <td>0.0</td>\n",
              "      <td>0</td>\n",
              "      <td>4</td>\n",
              "      <td>1</td>\n",
              "    </tr>\n",
              "  </tbody>\n",
              "</table>\n",
              "</div>"
            ],
            "text/plain": [
              "   building_id  meter  site_id  ...  hour  dayofweek  month\n",
              "0            0      0        0  ...     0          4      1\n",
              "1            1      0        0  ...     0          4      1\n",
              "2            2      0        0  ...     0          4      1\n",
              "3            3      0        0  ...     0          4      1\n",
              "4            4      0        0  ...     0          4      1\n",
              "\n",
              "[5 rows x 12 columns]"
            ]
          },
          "metadata": {
            "tags": []
          },
          "execution_count": 29
        }
      ]
    },
    {
      "cell_type": "code",
      "metadata": {
        "id": "WhLRFzy1AsqW"
      },
      "source": [
        "train = reduce_mem_usage(train)\n",
        "\n",
        "y = train['log_meter_reading'].values\n",
        "train = train.drop(['log_meter_reading'],axis=1).values"
      ],
      "execution_count": 30,
      "outputs": []
    },
    {
      "cell_type": "code",
      "metadata": {
        "id": "oL76yvLLmst0"
      },
      "source": [
        "from sklearn.tree import DecisionTreeRegressor\n",
        "\n",
        "dT_model = DecisionTreeRegressor(min_samples_split = 200, min_samples_leaf = 100)\n",
        "dT_model = dT_model.fit(train, y)"
      ],
      "execution_count": 31,
      "outputs": []
    },
    {
      "cell_type": "code",
      "metadata": {
        "id": "UjvIllbEFsKv"
      },
      "source": [
        ""
      ],
      "execution_count": null,
      "outputs": []
    },
    {
      "cell_type": "code",
      "metadata": {
        "colab": {
          "base_uri": "https://localhost:8080/"
        },
        "id": "yXL9UGC5msyy",
        "outputId": "e88b2249-0cce-4cf9-c014-32e5b451c529"
      },
      "source": [
        "del train,y\n",
        "gc.collect()"
      ],
      "execution_count": 32,
      "outputs": [
        {
          "output_type": "execute_result",
          "data": {
            "text/plain": [
              "436"
            ]
          },
          "metadata": {
            "tags": []
          },
          "execution_count": 32
        }
      ]
    },
    {
      "cell_type": "markdown",
      "metadata": {
        "id": "T0fbAi0ABQm2"
      },
      "source": [
        "### Prediction"
      ]
    },
    {
      "cell_type": "code",
      "metadata": {
        "id": "_CaQeWXrBLUZ"
      },
      "source": [
        "weather_test = pd.read_csv('/content/weather_test.csv')\n",
        "x_test = pd.read_csv('/content/test.csv')\n",
        "building = pd.read_csv('/content/building_metadata.csv')\n",
        "\n",
        "x_test = join_data(x_test , weather_test , building)\n",
        "\n",
        "del weather_test , building\n",
        "x_test = Filler.transform(x_test)\n",
        "x_test = ScalerEncoder.transform(x_test)\n",
        "x_test = time_features(x_test)"
      ],
      "execution_count": 33,
      "outputs": []
    },
    {
      "cell_type": "code",
      "metadata": {
        "colab": {
          "base_uri": "https://localhost:8080/"
        },
        "id": "rhfFKk2HBLay",
        "outputId": "ab8ca3a6-d5eb-45f9-8951-0d3a413b8878"
      },
      "source": [
        "for col in  x_test.columns:\n",
        "    print(col , ' - ',x_test[col].isnull().values.sum() )"
      ],
      "execution_count": 34,
      "outputs": [
        {
          "output_type": "stream",
          "text": [
            "row_id  -  0\n",
            "building_id  -  0\n",
            "meter  -  0\n",
            "site_id  -  0\n",
            "primary_use  -  0\n",
            "square_feet  -  0\n",
            "air_temperature  -  0\n",
            "dew_temperature  -  0\n",
            "wind_speed  -  0\n",
            "hour  -  0\n",
            "dayofweek  -  0\n",
            "month  -  0\n"
          ],
          "name": "stdout"
        }
      ]
    },
    {
      "cell_type": "code",
      "metadata": {
        "id": "TRlZklWOBWfo"
      },
      "source": [
        "row_id = x_test.row_id.values\n",
        "x_test = x_test.drop(['row_id'] , axis= 1)\n",
        "x_test = reduce_mem_usage(x_test)"
      ],
      "execution_count": 35,
      "outputs": []
    },
    {
      "cell_type": "code",
      "metadata": {
        "id": "rVZ8C4YHBWjC"
      },
      "source": [
        "y_pred = np.empty(len(x_test))\n",
        "y_pred[0:int(len(x_test)/3)] = np.exp(dT_model.predict(x_test.iloc[0:int(len(x_test)/3)]))-1\n",
        "y_pred[int(len(x_test)/3):2*int(len(x_test)/3)] = np.exp(dT_model.predict(x_test.iloc[int(len(x_test)/3):2*int(len(x_test)/3)]))-1\n",
        "y_pred[2*int(len(x_test)/3):] = np.exp(dT_model.predict(x_test.iloc[2*int(len(x_test)/3):]))-1\n",
        "y_pred[x_test.meter==0] = y_pred[x_test.meter==0] / 0.2931"
      ],
      "execution_count": 36,
      "outputs": []
    },
    {
      "cell_type": "code",
      "metadata": {
        "id": "s7EtisHIBcL8"
      },
      "source": [
        "pred_final = pd.DataFrame({'row_id': row_id, 'meter_reading': y_pred})"
      ],
      "execution_count": 37,
      "outputs": []
    },
    {
      "cell_type": "code",
      "metadata": {
        "colab": {
          "base_uri": "https://localhost:8080/",
          "height": 402
        },
        "id": "056gJneABcPg",
        "outputId": "3131c949-fe7d-48fa-c7ed-3655bdb351b6"
      },
      "source": [
        "pred_final"
      ],
      "execution_count": 38,
      "outputs": [
        {
          "output_type": "execute_result",
          "data": {
            "text/html": [
              "<div>\n",
              "<style scoped>\n",
              "    .dataframe tbody tr th:only-of-type {\n",
              "        vertical-align: middle;\n",
              "    }\n",
              "\n",
              "    .dataframe tbody tr th {\n",
              "        vertical-align: top;\n",
              "    }\n",
              "\n",
              "    .dataframe thead th {\n",
              "        text-align: right;\n",
              "    }\n",
              "</style>\n",
              "<table border=\"1\" class=\"dataframe\">\n",
              "  <thead>\n",
              "    <tr style=\"text-align: right;\">\n",
              "      <th></th>\n",
              "      <th>row_id</th>\n",
              "      <th>meter_reading</th>\n",
              "    </tr>\n",
              "  </thead>\n",
              "  <tbody>\n",
              "    <tr>\n",
              "      <th>0</th>\n",
              "      <td>0</td>\n",
              "      <td>0.000000</td>\n",
              "    </tr>\n",
              "    <tr>\n",
              "      <th>1</th>\n",
              "      <td>1</td>\n",
              "      <td>0.050651</td>\n",
              "    </tr>\n",
              "    <tr>\n",
              "      <th>2</th>\n",
              "      <td>2</td>\n",
              "      <td>0.000000</td>\n",
              "    </tr>\n",
              "    <tr>\n",
              "      <th>3</th>\n",
              "      <td>3</td>\n",
              "      <td>0.000000</td>\n",
              "    </tr>\n",
              "    <tr>\n",
              "      <th>4</th>\n",
              "      <td>4</td>\n",
              "      <td>0.000000</td>\n",
              "    </tr>\n",
              "    <tr>\n",
              "      <th>...</th>\n",
              "      <td>...</td>\n",
              "      <td>...</td>\n",
              "    </tr>\n",
              "    <tr>\n",
              "      <th>41697595</th>\n",
              "      <td>41697595</td>\n",
              "      <td>5.734184</td>\n",
              "    </tr>\n",
              "    <tr>\n",
              "      <th>41697596</th>\n",
              "      <td>41697596</td>\n",
              "      <td>4.724465</td>\n",
              "    </tr>\n",
              "    <tr>\n",
              "      <th>41697597</th>\n",
              "      <td>41697597</td>\n",
              "      <td>7.727987</td>\n",
              "    </tr>\n",
              "    <tr>\n",
              "      <th>41697598</th>\n",
              "      <td>41697598</td>\n",
              "      <td>176.688747</td>\n",
              "    </tr>\n",
              "    <tr>\n",
              "      <th>41697599</th>\n",
              "      <td>41697599</td>\n",
              "      <td>4.007896</td>\n",
              "    </tr>\n",
              "  </tbody>\n",
              "</table>\n",
              "<p>41697600 rows × 2 columns</p>\n",
              "</div>"
            ],
            "text/plain": [
              "            row_id  meter_reading\n",
              "0                0       0.000000\n",
              "1                1       0.050651\n",
              "2                2       0.000000\n",
              "3                3       0.000000\n",
              "4                4       0.000000\n",
              "...            ...            ...\n",
              "41697595  41697595       5.734184\n",
              "41697596  41697596       4.724465\n",
              "41697597  41697597       7.727987\n",
              "41697598  41697598     176.688747\n",
              "41697599  41697599       4.007896\n",
              "\n",
              "[41697600 rows x 2 columns]"
            ]
          },
          "metadata": {
            "tags": []
          },
          "execution_count": 38
        }
      ]
    },
    {
      "cell_type": "code",
      "metadata": {
        "id": "iH8RVqu6BcS3"
      },
      "source": [
        "compression_opts = dict(method='zip',archive_name='out1.csv')  \n",
        "\n",
        "pred_final.to_csv('out1.zip', index=False,compression=compression_opts)"
      ],
      "execution_count": 39,
      "outputs": []
    },
    {
      "cell_type": "code",
      "metadata": {
        "id": "9hGRgcNaBtYp"
      },
      "source": [
        "!cp out1.zip /content/drive/MyDrive/out1.zip"
      ],
      "execution_count": 41,
      "outputs": []
    },
    {
      "cell_type": "code",
      "metadata": {
        "id": "-DnvhIWDJjBG"
      },
      "source": [
        ""
      ],
      "execution_count": null,
      "outputs": []
    }
  ]
}