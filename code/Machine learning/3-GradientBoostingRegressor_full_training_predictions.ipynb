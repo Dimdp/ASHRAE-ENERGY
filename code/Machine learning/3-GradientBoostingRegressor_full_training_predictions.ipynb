{
  "nbformat": 4,
  "nbformat_minor": 0,
  "metadata": {
    "colab": {
      "name": "1-GradientBoostingRegressor_full_training_predictions.ipynb",
      "provenance": [],
      "collapsed_sections": []
    },
    "kernelspec": {
      "name": "python3",
      "display_name": "Python 3"
    },
    "language_info": {
      "name": "python"
    }
  },
  "cells": [
    {
      "cell_type": "code",
      "metadata": {
        "colab": {
          "base_uri": "https://localhost:8080/"
        },
        "id": "9ekS7vKqmT-m",
        "outputId": "c6a394db-16af-48bb-9f7a-6e0398474588"
      },
      "source": [
        "!pip install meteocalc"
      ],
      "execution_count": 3,
      "outputs": [
        {
          "output_type": "stream",
          "text": [
            "Requirement already satisfied: meteocalc in /usr/local/lib/python3.7/dist-packages (1.1.0)\n"
          ],
          "name": "stdout"
        }
      ]
    },
    {
      "cell_type": "code",
      "metadata": {
        "id": "U3FPBdgQmVfT"
      },
      "source": [
        "#from google.colab import drive\n",
        "#drive.mount('/content/drive')\n",
        "#!cp /content/drive/MyDrive/ashrae.zip ashrae.zip\n",
        "#!unzip -q ashrae.zip"
      ],
      "execution_count": 4,
      "outputs": []
    },
    {
      "cell_type": "code",
      "metadata": {
        "colab": {
          "base_uri": "https://localhost:8080/",
          "height": 17
        },
        "id": "8mquHJ0BmYFk",
        "outputId": "649d7dc7-ee10-45a1-f8e5-e198b7b49eae"
      },
      "source": [
        "import warnings\n",
        "warnings.simplefilter(action='ignore', category=FutureWarning)\n",
        "\n",
        "import gc\n",
        "import pandas as pd\n",
        "import numpy as np\n",
        "import matplotlib.pyplot as plt\n",
        "import seaborn as sns\n",
        "import plotly.graph_objects as go\n",
        "import plotly.figure_factory as ff\n",
        "\n",
        "from IPython.core.pylabtools import figsize\n",
        "from plotly.offline import init_notebook_mode,iplot,plot\n",
        "%matplotlib inline\n",
        "init_notebook_mode(connected=True)\n",
        "plt.style.use(\"ggplot\")\n",
        "\n",
        "from sklearn.metrics import mean_squared_error\n",
        "from sklearn.utils import shuffle\n",
        "from sklearn.preprocessing import  LabelEncoder, StandardScaler\n",
        "from sklearn.model_selection import train_test_split\n",
        "from sklearn.ensemble import GradientBoostingRegressor\n",
        "\n",
        "# importer les fichiers .py sur le notebook\n",
        "%run utils.py\n",
        "%run feature_enginering.py"
      ],
      "execution_count": 5,
      "outputs": [
        {
          "output_type": "display_data",
          "data": {
            "text/html": [
              "        <script type=\"text/javascript\">\n",
              "        window.PlotlyConfig = {MathJaxConfig: 'local'};\n",
              "        if (window.MathJax) {MathJax.Hub.Config({SVG: {font: \"STIX-Web\"}});}\n",
              "        if (typeof require !== 'undefined') {\n",
              "        require.undef(\"plotly\");\n",
              "        requirejs.config({\n",
              "            paths: {\n",
              "                'plotly': ['https://cdn.plot.ly/plotly-latest.min']\n",
              "            }\n",
              "        });\n",
              "        require(['plotly'], function(Plotly) {\n",
              "            window._Plotly = Plotly;\n",
              "        });\n",
              "        }\n",
              "        </script>\n",
              "        "
            ]
          },
          "metadata": {
            "tags": []
          }
        }
      ]
    },
    {
      "cell_type": "code",
      "metadata": {
        "id": "Bxt_0R7cumno"
      },
      "source": [
        "building = pd.read_csv('/content/building_metadata.csv')\n",
        "weather = pd.read_csv('/content/weather_train.csv')\n",
        "train = pd.read_csv('/content/train.csv')\n",
        "\n",
        "train.loc[(train.meter == 0),'meter_reading'] = train['meter_reading'] * 0.2931 # convertir du kwh vers kbtu"
      ],
      "execution_count": 6,
      "outputs": []
    },
    {
      "cell_type": "code",
      "metadata": {
        "id": "4nm8_iq0uw-A"
      },
      "source": [
        "building = reduce_mem_usage(building)\n",
        "weather  = reduce_mem_usage(weather)\n",
        "train = reduce_mem_usage(train)"
      ],
      "execution_count": 7,
      "outputs": []
    },
    {
      "cell_type": "code",
      "metadata": {
        "id": "qpy8a552u3-A"
      },
      "source": [
        "building = prepare_building_data(building)\n",
        "weather = prepare_weather_data(weather)\n",
        "train  = time_features(train)"
      ],
      "execution_count": 8,
      "outputs": []
    },
    {
      "cell_type": "code",
      "metadata": {
        "colab": {
          "base_uri": "https://localhost:8080/"
        },
        "id": "SWYlePKqvH_A",
        "outputId": "d531e7b8-ed81-4d84-9aec-eabe416a631e"
      },
      "source": [
        "def join_data(data , weather_data , building_data):\n",
        "\n",
        "    data = data.merge(building_data, on = 'building_id' , how='left')\n",
        "    data = data.merge(weather_data , on = ['site_id','timestamp'], how= 'left')\n",
        "    data = shuffle(data, random_state=0)\n",
        "\n",
        "    return data\n",
        "\n",
        "train = join_data(train , weather , building)\n",
        "\n",
        "train['log_meter_reading'] = np.log(train['meter_reading'] + 1)\n",
        "train['month_group'] = train['month_group'] - 1\n",
        "\n",
        "train = train.drop(['meter_reading'] , axis= 1)\n",
        "\n",
        "del weather, building\n",
        "gc.collect()"
      ],
      "execution_count": 9,
      "outputs": [
        {
          "output_type": "execute_result",
          "data": {
            "text/plain": [
              "26"
            ]
          },
          "metadata": {
            "tags": []
          },
          "execution_count": 9
        }
      ]
    },
    {
      "cell_type": "code",
      "metadata": {
        "id": "Zc0BHCCDvMLg"
      },
      "source": [
        "cols_to_drop = ['year_built' , 'floor_count' , 'timestamp']\n",
        "\n",
        "cols_to_scale = ['square_feet' , 'air_temperature' , 'dew_temperature' ,\n",
        "                 'wind_speed', 'cloud_coverage', 'sea_level_pressure', \n",
        "                 'wind_direction', 'relative_humidity', 'feels_like']\n",
        "\n",
        "cols_to_encode = ['primary_use' , 'city' , 'country']\n",
        "\n",
        "cols_to_fill_median = ['air_temperature', 'cloud_coverage', 'dew_temperature', \n",
        "                       'precip_depth_1_hr', 'sea_level_pressure','wind_direction', \n",
        "                       'wind_speed', 'relative_humidity' ,'feels_like']\n",
        "\n",
        "cols_to_fill_categ = ['city' , 'country' , 'is_holiday']\n",
        "\n",
        "\n",
        "Filler = Data_Filler(cols_to_fill_median,\n",
        "                     cols_to_fill_categ)\n",
        "\n",
        "Filler.fit(train)\n",
        "train = Filler.transform(train)\n",
        "\n",
        "ScalerEncoder = Data_Scaler_Encoder(cols_to_scale ,\n",
        "                                    cols_to_drop , \n",
        "                                    cols_to_encode)\n",
        "ScalerEncoder.fit(train)\n",
        "train = ScalerEncoder.transform(train)"
      ],
      "execution_count": 10,
      "outputs": []
    },
    {
      "cell_type": "code",
      "metadata": {
        "id": "4ZKV9VC0Bm8q"
      },
      "source": [
        "categorical_vars = ['building_id' , 'meter', 'hour', 'dayofweek' , \n",
        "                    'month_group', 'site_id' , \n",
        "                    'primary_use', 'city', 'country', 'is_holiday']\n",
        "\n",
        "for col in categorical_vars:\n",
        "    train[col] = train[col].astype('category')\n",
        "\n",
        "train  = reduce_mem_usage(train)\n",
        "train_columns = train.columns"
      ],
      "execution_count": 11,
      "outputs": []
    },
    {
      "cell_type": "code",
      "metadata": {
        "colab": {
          "base_uri": "https://localhost:8080/"
        },
        "id": "C5eL8ICXv3C7",
        "outputId": "212d4d2f-e329-4e2e-90e7-27ef79ec6f3d"
      },
      "source": [
        "y = train['log_meter_reading'].values\n",
        "\n",
        "train = train.drop( ['log_meter_reading'] , axis = 1).values\n",
        "\n",
        "train, valid, y_train, y_valid = train_test_split(train, y, test_size = 0.30, random_state=42)\n",
        "\n",
        "del y\n",
        "gc.collect()"
      ],
      "execution_count": 12,
      "outputs": [
        {
          "output_type": "execute_result",
          "data": {
            "text/plain": [
              "50"
            ]
          },
          "metadata": {
            "tags": []
          },
          "execution_count": 12
        }
      ]
    },
    {
      "cell_type": "code",
      "metadata": {
        "id": "AmjloxZf-0vI",
        "colab": {
          "base_uri": "https://localhost:8080/"
        },
        "outputId": "d46c3018-4222-48df-ad2f-a8fab14cb689"
      },
      "source": [
        "GBR =  GradientBoostingRegressor(n_estimators = 25 ,\n",
        "                          max_depth = 25, \n",
        "                          min_samples_split = 12  ,\n",
        "                          min_samples_leaf = 6 ,\n",
        "                          max_leaf_nodes = None ,\n",
        "                          min_impurity_split = 0 , \n",
        "                          verbose = 1)\n",
        "GBR.fit(train , y_train )\n",
        "y_pred = GBR.predict(valid)\n",
        "print(mean_squared_error(y_valid, y_pred, squared = False))"
      ],
      "execution_count": 19,
      "outputs": [
        {
          "output_type": "stream",
          "text": [
            "      Iter       Train Loss   Remaining Time \n",
            "         1           3.8486          215.12m\n",
            "         2           3.1666          196.55m\n",
            "         3           2.6117          183.84m\n",
            "         4           2.1596          174.37m\n",
            "         5           1.7915          165.76m\n",
            "         6           1.4912          157.05m\n",
            "         7           1.2452          146.80m\n",
            "         8           1.0443          134.29m\n",
            "         9           0.8802          122.49m\n",
            "        10           0.7451          111.83m\n",
            "        20           0.2002           33.27m\n",
            "0.586263892096948\n"
          ],
          "name": "stdout"
        }
      ]
    },
    {
      "cell_type": "code",
      "metadata": {
        "colab": {
          "base_uri": "https://localhost:8080/"
        },
        "id": "VphorcIbkKhA",
        "outputId": "dd20d101-82d6-44d2-d56a-42a44582a52d"
      },
      "source": [
        "del y_pred\n",
        "gc.collect()"
      ],
      "execution_count": 14,
      "outputs": [
        {
          "output_type": "execute_result",
          "data": {
            "text/plain": [
              "254"
            ]
          },
          "metadata": {
            "tags": []
          },
          "execution_count": 14
        }
      ]
    },
    {
      "cell_type": "code",
      "metadata": {
        "id": "nSryuoKqZt4J"
      },
      "source": [
        "train = np.concatenate((train , valid) , axis = 0)\n",
        "y_train = np.concatenate((y_train , y_valid) , axis = 0)"
      ],
      "execution_count": 15,
      "outputs": []
    },
    {
      "cell_type": "code",
      "metadata": {
        "colab": {
          "base_uri": "https://localhost:8080/"
        },
        "id": "0LYYXQQLYbO4",
        "outputId": "1082ead4-735c-4ef4-ba36-6ca911843427"
      },
      "source": [
        "GBR = GradientBoostingRegressor(n_estimators = 25 ,\n",
        "                          max_depth = 25, \n",
        "                          min_samples_split = 12  ,\n",
        "                          min_samples_leaf = 6 ,\n",
        "                          max_leaf_nodes = None ,\n",
        "                          min_impurity_split = 0 , \n",
        "                          verbose = 1)\n",
        "\n",
        "GBR.fit(train , y_train)"
      ],
      "execution_count": 16,
      "outputs": [
        {
          "output_type": "stream",
          "text": [
            "      Iter       Train Loss   Remaining Time \n",
            "         1           3.8462          241.91m\n",
            "         2           3.1629          224.31m\n",
            "         3           2.6072          211.31m\n",
            "         4           2.1546          199.73m\n",
            "         5           1.7860          188.59m\n",
            "         6           1.4853          178.38m\n",
            "         7           1.2400          167.85m\n",
            "         8           1.0396          154.92m\n",
            "         9           0.8756          143.15m\n",
            "        10           0.7410          132.22m\n",
            "        20           0.2008           43.58m\n"
          ],
          "name": "stdout"
        },
        {
          "output_type": "execute_result",
          "data": {
            "text/plain": [
              "GradientBoostingRegressor(alpha=0.9, ccp_alpha=0.0, criterion='friedman_mse',\n",
              "                          init=None, learning_rate=0.1, loss='ls', max_depth=25,\n",
              "                          max_features=None, max_leaf_nodes=None,\n",
              "                          min_impurity_decrease=0.0, min_impurity_split=0,\n",
              "                          min_samples_leaf=6, min_samples_split=12,\n",
              "                          min_weight_fraction_leaf=0.0, n_estimators=25,\n",
              "                          n_iter_no_change=None, presort='deprecated',\n",
              "                          random_state=None, subsample=1.0, tol=0.0001,\n",
              "                          validation_fraction=0.1, verbose=1, warm_start=False)"
            ]
          },
          "metadata": {
            "tags": []
          },
          "execution_count": 16
        }
      ]
    },
    {
      "cell_type": "code",
      "metadata": {
        "colab": {
          "base_uri": "https://localhost:8080/"
        },
        "id": "Uwax8QSDYnke",
        "outputId": "b6983784-ee80-4c49-d533-79ce181a72f4"
      },
      "source": [
        "del train, y_train\n",
        "gc.collect()"
      ],
      "execution_count": 17,
      "outputs": [
        {
          "output_type": "execute_result",
          "data": {
            "text/plain": [
              "782"
            ]
          },
          "metadata": {
            "tags": []
          },
          "execution_count": 17
        }
      ]
    },
    {
      "cell_type": "code",
      "metadata": {
        "colab": {
          "base_uri": "https://localhost:8080/",
          "height": 324
        },
        "id": "71O5VKkCgSyq",
        "outputId": "9135c78f-a8ba-49ca-94a8-09e01d76fa76"
      },
      "source": [
        "importance = GBR.feature_importances_\n",
        "plt.figure(figsize = (5 , 5))\n",
        "plt.barh(train_columns[:-1], importance)\n",
        "plt.xticks(fontsize = 14 , fontweight = \"bold\")\n",
        "plt.yticks(fontsize = 14 , fontweight = \"bold\")\n",
        "plt.show()"
      ],
      "execution_count": 30,
      "outputs": [
        {
          "output_type": "display_data",
          "data": {
            "image/png": "[encoded data removed]",
            "text/plain": [
              "<Figure size 360x360 with 1 Axes>"
            ]
          },
          "metadata": {
            "tags": []
          }
        }
      ]
    },
    {
      "cell_type": "code",
      "metadata": {
        "id": "wLMN42vqcDhx"
      },
      "source": [
        "test = pd.read_csv('/content/test.csv')\n",
        "weather_test = pd.read_csv('/content/weather_test.csv')\n",
        "building = pd.read_csv('/content/building_metadata.csv')\n",
        "\n",
        "\n",
        "weather_test  = reduce_mem_usage(weather_test)\n",
        "building = reduce_mem_usage(building)\n",
        "test = reduce_mem_usage(test)\n",
        "\n",
        "\n",
        "weather_test = prepare_weather_data(weather_test)\n",
        "building = prepare_building_data(building)\n",
        "test = time_features(test)"
      ],
      "execution_count": 19,
      "outputs": []
    },
    {
      "cell_type": "code",
      "metadata": {
        "colab": {
          "base_uri": "https://localhost:8080/"
        },
        "id": "TpLK6AkDcYTL",
        "outputId": "c694ba27-6847-41d6-8130-f1081cbe0eaa"
      },
      "source": [
        "step_size = 100000\n",
        "nrows = test.shape[0]\n",
        "num_steps = nrows//step_size\n",
        "print('nombre d\\'iterations' , num_steps)\n",
        "\n",
        "row_id = np.array([])\n",
        "meter_values = np.array([])\n",
        "y_pred = np.array([])\n",
        "\n",
        "for j in range(num_steps+1):\n",
        "    start_idx = j*step_size\n",
        "    end_idx = (j+1)*step_size\n",
        "    if j == num_steps : \n",
        "        start_idx = j*step_size\n",
        "        end_idx = nrows\n",
        "      \n",
        "    test_tmp = test.iloc[start_idx:end_idx]\n",
        "    \n",
        "    test_tmp = join_data(test_tmp , weather_test , building)\n",
        "    #test_tmp = test_tmp[['row_id'] + most_important_variables[:-1]]\n",
        "    \n",
        "    test_tmp = Filler.transform(test_tmp)\n",
        "    test_tmp = ScalerEncoder.transform(test_tmp)\n",
        "    test_tmp['month_group'] = test_tmp['month_group'] - 1\n",
        "    \n",
        "    for col in categorical_vars:\n",
        "        test_tmp[col] = test_tmp[col].astype('category')\n",
        "\n",
        "    row_id_tmp = test_tmp['row_id'].values\n",
        "    row_id = np.concatenate((row_id,row_id_tmp))\n",
        "\n",
        "    test_tmp = test_tmp.drop(['row_id'] , axis= 1)\n",
        "\n",
        "    meter_values_tmp = test_tmp['meter'].values\n",
        "    meter_values = np.concatenate((meter_values,meter_values_tmp))\n",
        "\n",
        "    predictions = GBR.predict(test_tmp)\n",
        "    predictions = predictions.reshape(predictions.shape[0])\n",
        "\n",
        "    y_pred = np.concatenate((y_pred,predictions))\n",
        "    if j%50==0:\n",
        "        print('iteration' , j)"
      ],
      "execution_count": 22,
      "outputs": [
        {
          "output_type": "stream",
          "text": [
            "nombre d'iterations 416\n",
            "iteration 0\n",
            "iteration 50\n",
            "iteration 100\n",
            "iteration 150\n",
            "iteration 200\n",
            "iteration 250\n",
            "iteration 300\n",
            "iteration 350\n",
            "iteration 400\n"
          ],
          "name": "stdout"
        }
      ]
    },
    {
      "cell_type": "code",
      "metadata": {
        "id": "cQVJ0dHpeq13"
      },
      "source": [
        "pred_final = {'row_id': row_id, 'meter' : meter_values , 'meter_reading': y_pred}\n",
        "pred_final = pd.DataFrame(data = pred_final)\n",
        "\n",
        "KWH_TO_KBTU = 0.2931 \n",
        "pred_final['meter_reading'] = np.exp(pred_final['meter_reading']) - 1\n",
        "pred_final.loc[(pred_final.meter == 0),'meter_reading'] = pred_final['meter_reading'] / KWH_TO_KBTU # convertir du kwh vers kbtu\n",
        "\n",
        "pred_final = pred_final.sort_values(by=['row_id'])\n",
        "pred_final = pred_final.drop(['meter'] , axis = 1)\n",
        "pred_final.loc[pred_final.meter_reading < 0, 'meter_reading'] = 0"
      ],
      "execution_count": 23,
      "outputs": []
    },
    {
      "cell_type": "code",
      "metadata": {
        "colab": {
          "base_uri": "https://localhost:8080/",
          "height": 405
        },
        "id": "xWVN_Ovte6D-",
        "outputId": "09deb8b1-4288-4462-8b4d-5d2731fda7af"
      },
      "source": [
        "pred_final.row_id = pred_final.row_id.astype('int32')\n",
        "pred_final"
      ],
      "execution_count": 24,
      "outputs": [
        {
          "output_type": "execute_result",
          "data": {
            "text/html": [
              "<div>\n",
              "<style scoped>\n",
              "    .dataframe tbody tr th:only-of-type {\n",
              "        vertical-align: middle;\n",
              "    }\n",
              "\n",
              "    .dataframe tbody tr th {\n",
              "        vertical-align: top;\n",
              "    }\n",
              "\n",
              "    .dataframe thead th {\n",
              "        text-align: right;\n",
              "    }\n",
              "</style>\n",
              "<table border=\"1\" class=\"dataframe\">\n",
              "  <thead>\n",
              "    <tr style=\"text-align: right;\">\n",
              "      <th></th>\n",
              "      <th>row_id</th>\n",
              "      <th>meter_reading</th>\n",
              "    </tr>\n",
              "  </thead>\n",
              "  <tbody>\n",
              "    <tr>\n",
              "      <th>52860</th>\n",
              "      <td>0</td>\n",
              "      <td>0.974518</td>\n",
              "    </tr>\n",
              "    <tr>\n",
              "      <th>33031</th>\n",
              "      <td>1</td>\n",
              "      <td>1.764023</td>\n",
              "    </tr>\n",
              "    <tr>\n",
              "      <th>83905</th>\n",
              "      <td>2</td>\n",
              "      <td>0.975335</td>\n",
              "    </tr>\n",
              "    <tr>\n",
              "      <th>15517</th>\n",
              "      <td>3</td>\n",
              "      <td>0.974119</td>\n",
              "    </tr>\n",
              "    <tr>\n",
              "      <th>46516</th>\n",
              "      <td>4</td>\n",
              "      <td>1.040821</td>\n",
              "    </tr>\n",
              "    <tr>\n",
              "      <th>...</th>\n",
              "      <td>...</td>\n",
              "      <td>...</td>\n",
              "    </tr>\n",
              "    <tr>\n",
              "      <th>41640965</th>\n",
              "      <td>41697595</td>\n",
              "      <td>6.134934</td>\n",
              "    </tr>\n",
              "    <tr>\n",
              "      <th>41659597</th>\n",
              "      <td>41697596</td>\n",
              "      <td>6.078382</td>\n",
              "    </tr>\n",
              "    <tr>\n",
              "      <th>41675115</th>\n",
              "      <td>41697597</td>\n",
              "      <td>8.859460</td>\n",
              "    </tr>\n",
              "    <tr>\n",
              "      <th>41629031</th>\n",
              "      <td>41697598</td>\n",
              "      <td>159.323286</td>\n",
              "    </tr>\n",
              "    <tr>\n",
              "      <th>41667493</th>\n",
              "      <td>41697599</td>\n",
              "      <td>5.992741</td>\n",
              "    </tr>\n",
              "  </tbody>\n",
              "</table>\n",
              "<p>41697600 rows × 2 columns</p>\n",
              "</div>"
            ],
            "text/plain": [
              "            row_id  meter_reading\n",
              "52860            0       0.974518\n",
              "33031            1       1.764023\n",
              "83905            2       0.975335\n",
              "15517            3       0.974119\n",
              "46516            4       1.040821\n",
              "...            ...            ...\n",
              "41640965  41697595       6.134934\n",
              "41659597  41697596       6.078382\n",
              "41675115  41697597       8.859460\n",
              "41629031  41697598     159.323286\n",
              "41667493  41697599       5.992741\n",
              "\n",
              "[41697600 rows x 2 columns]"
            ]
          },
          "metadata": {
            "tags": []
          },
          "execution_count": 24
        }
      ]
    },
    {
      "cell_type": "code",
      "metadata": {
        "id": "YhPdr4tFe14v"
      },
      "source": [
        "compression_opts = dict(method='zip',archive_name='GBR_out.csv')  \n",
        "\n",
        "pred_final.to_csv('GBR_out.zip', index=False,compression=compression_opts)"
      ],
      "execution_count": 25,
      "outputs": []
    },
    {
      "cell_type": "code",
      "metadata": {
        "id": "1vfsF6Y2fG7p"
      },
      "source": [
        "!cp GBR_out.zip /content/drive/MyDrive/GBR_out.zip"
      ],
      "execution_count": 26,
      "outputs": []
    },
    {
      "cell_type": "code",
      "metadata": {
        "id": "7ChVugUmf6NP"
      },
      "source": [
        ""
      ],
      "execution_count": null,
      "outputs": []
    }
  ]
}