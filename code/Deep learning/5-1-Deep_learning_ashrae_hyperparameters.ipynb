{
  "nbformat": 4,
  "nbformat_minor": 0,
  "metadata": {
    "colab": {
      "name": "5_2_Deep_learning_ashrae_hyperparameters.ipynb",
      "provenance": [],
      "collapsed_sections": []
    },
    "kernelspec": {
      "name": "python3",
      "display_name": "Python 3"
    },
    "accelerator": "GPU"
  },
  "cells": [
    {
      "cell_type": "code",
      "metadata": {
        "colab": {
          "base_uri": "https://localhost:8080/"
        },
        "id": "vdJLq0Ih7_cM",
        "outputId": "3c7b632f-f6d1-4089-da18-e23e76aea171"
      },
      "source": [
        "!pip install meteocalc"
      ],
      "execution_count": null,
      "outputs": [
        {
          "output_type": "stream",
          "text": [
            "Requirement already satisfied: meteocalc in /usr/local/lib/python3.7/dist-packages (1.1.0)\n"
          ],
          "name": "stdout"
        }
      ]
    },
    {
      "cell_type": "code",
      "metadata": {
        "id": "urKdT5nkWxaQ"
      },
      "source": [
        "#from google.colab import drive\n",
        "#drive.mount('/content/drive')\n",
        "#!cp /content/drive/MyDrive/ashrae.zip ashrae.zip\n",
        "#!unzip -q ashrae.zip"
      ],
      "execution_count": null,
      "outputs": []
    },
    {
      "cell_type": "code",
      "metadata": {
        "colab": {
          "base_uri": "https://localhost:8080/",
          "height": 17
        },
        "id": "i2zx2E54W2eA",
        "outputId": "79554690-a875-477b-f641-1aa40e88992e"
      },
      "source": [
        "import warnings\n",
        "warnings.simplefilter(action='ignore', category=FutureWarning)\n",
        "\n",
        "import gc\n",
        "import pandas as pd\n",
        "import numpy as np\n",
        "import matplotlib.pyplot as plt\n",
        "import seaborn as sns\n",
        "import plotly.graph_objects as go\n",
        "import plotly.figure_factory as ff\n",
        "\n",
        "from IPython.core.pylabtools import figsize\n",
        "from plotly.offline import init_notebook_mode,iplot,plot\n",
        "%matplotlib inline\n",
        "init_notebook_mode(connected=True)\n",
        "plt.style.use(\"ggplot\")\n",
        "from sklearn.utils import shuffle\n",
        "\n",
        "from sklearn.preprocessing import  LabelEncoder, StandardScaler\n",
        "from sklearn.model_selection import train_test_split\n",
        "\n",
        "from keras.models import load_model\n",
        "from keras.models import Model \n",
        "from keras.layers import Input, Dense, Lambda\n",
        "from keras.layers import Embedding, Flatten, Dropout, Add, Activation\n",
        "from keras.optimizers import Adam \n",
        "from keras.callbacks import ModelCheckpoint,EarlyStopping\n",
        "import keras.backend as K\n",
        "\n",
        "# importer les fichiers .py sur le notebook\n",
        "%run utils.py\n",
        "%run feature_enginering.py"
      ],
      "execution_count": null,
      "outputs": [
        {
          "output_type": "display_data",
          "data": {
            "text/html": [
              "        <script type=\"text/javascript\">\n",
              "        window.PlotlyConfig = {MathJaxConfig: 'local'};\n",
              "        if (window.MathJax) {MathJax.Hub.Config({SVG: {font: \"STIX-Web\"}});}\n",
              "        if (typeof require !== 'undefined') {\n",
              "        require.undef(\"plotly\");\n",
              "        requirejs.config({\n",
              "            paths: {\n",
              "                'plotly': ['https://cdn.plot.ly/plotly-latest.min']\n",
              "            }\n",
              "        });\n",
              "        require(['plotly'], function(Plotly) {\n",
              "            window._Plotly = Plotly;\n",
              "        });\n",
              "        }\n",
              "        </script>\n",
              "        "
            ]
          },
          "metadata": {
            "tags": []
          }
        }
      ]
    },
    {
      "cell_type": "code",
      "metadata": {
        "id": "XP1Ms_WdW8VR"
      },
      "source": [
        "building = pd.read_csv('/content/building_metadata.csv')\n",
        "weather = pd.read_csv('/content/weather_train.csv')\n",
        "train = pd.read_csv('/content/train.csv')\n",
        "\n",
        "train.loc[(train.meter == 0),'meter_reading'] = train['meter_reading'] * 0.2931 # convertir du kwh vers kbtu"
      ],
      "execution_count": null,
      "outputs": []
    },
    {
      "cell_type": "code",
      "metadata": {
        "id": "Jc7z3jkrB5ex"
      },
      "source": [
        "building = reduce_mem_usage(building)\n",
        "weather  = reduce_mem_usage(weather)\n",
        "train = reduce_mem_usage(train)"
      ],
      "execution_count": null,
      "outputs": []
    },
    {
      "cell_type": "code",
      "metadata": {
        "id": "KwbcY8FGCA6Z"
      },
      "source": [
        "building = prepare_building_data(building)\n",
        "weather = prepare_weather_data(weather)\n",
        "train  = time_features(train)"
      ],
      "execution_count": null,
      "outputs": []
    },
    {
      "cell_type": "code",
      "metadata": {
        "id": "4sAM2Cv1uFKC"
      },
      "source": [
        "def join_data(data , weather_data , building_data):\n",
        "\n",
        "    data = data.merge(building_data, on = 'building_id' , how='left')\n",
        "    data = data.merge(weather_data , on = ['site_id','timestamp'], how= 'left')\n",
        "    data = shuffle(data, random_state=0)\n",
        "\n",
        "    return data"
      ],
      "execution_count": null,
      "outputs": []
    },
    {
      "cell_type": "code",
      "metadata": {
        "id": "On0jd7ppXFUg",
        "colab": {
          "base_uri": "https://localhost:8080/"
        },
        "outputId": "5a286ab5-6663-4a56-e082-9cd4779b51f4"
      },
      "source": [
        "train = join_data(train , weather , building)\n",
        "\n",
        "train['log_meter_reading'] = np.log(train['meter_reading'] + 1)\n",
        "train['month_group'] = train['month_group'] - 1\n",
        "\n",
        "train = train.drop(['meter_reading'] , axis= 1)\n",
        "\n",
        "train  = reduce_mem_usage(train)\n",
        "del weather, building\n",
        "gc.collect()"
      ],
      "execution_count": null,
      "outputs": [
        {
          "output_type": "execute_result",
          "data": {
            "text/plain": [
              "26"
            ]
          },
          "metadata": {
            "tags": []
          },
          "execution_count": 10
        }
      ]
    },
    {
      "cell_type": "code",
      "metadata": {
        "id": "HQOjAEbl-pqc",
        "colab": {
          "base_uri": "https://localhost:8080/"
        },
        "outputId": "502a6886-be75-4596-da64-7363f664f7cf"
      },
      "source": [
        "print(len(train.columns))\n",
        "print(train.columns)\n",
        "print(train.shape)"
      ],
      "execution_count": null,
      "outputs": [
        {
          "output_type": "stream",
          "text": [
            "24\n",
            "Index(['building_id', 'meter', 'timestamp', 'hour', 'dayofweek', 'month_group',\n",
            "       'site_id', 'primary_use', 'square_feet', 'year_built', 'floor_count',\n",
            "       'air_temperature', 'cloud_coverage', 'dew_temperature',\n",
            "       'precip_depth_1_hr', 'sea_level_pressure', 'wind_direction',\n",
            "       'wind_speed', 'relative_humidity', 'feels_like', 'city', 'country',\n",
            "       'is_holiday', 'log_meter_reading'],\n",
            "      dtype='object')\n",
            "(20216100, 24)\n"
          ],
          "name": "stdout"
        }
      ]
    },
    {
      "cell_type": "code",
      "metadata": {
        "colab": {
          "base_uri": "https://localhost:8080/"
        },
        "id": "Q0LfiAYztqY_",
        "outputId": "4f877439-842f-4ad3-fb73-3da71418e0fb"
      },
      "source": [
        "for col in train.columns:\n",
        "  if train[col].isnull().values.any():\n",
        "    print(col , 'il y a', train[col].isnull().values.sum() , ' Nan ')"
      ],
      "execution_count": null,
      "outputs": [
        {
          "output_type": "stream",
          "text": [
            "air_temperature il y a 90495  Nan \n",
            "cloud_coverage il y a 90495  Nan \n",
            "dew_temperature il y a 90495  Nan \n",
            "precip_depth_1_hr il y a 90495  Nan \n",
            "sea_level_pressure il y a 90495  Nan \n",
            "wind_direction il y a 90495  Nan \n",
            "wind_speed il y a 90495  Nan \n",
            "relative_humidity il y a 90495  Nan \n",
            "feels_like il y a 90495  Nan \n",
            "city il y a 90495  Nan \n",
            "country il y a 90495  Nan \n",
            "is_holiday il y a 90495  Nan \n"
          ],
          "name": "stdout"
        }
      ]
    },
    {
      "cell_type": "code",
      "metadata": {
        "id": "Sy29N7vCYVft"
      },
      "source": [
        "cols_to_drop = ['year_built' , 'floor_count' , 'timestamp']\n",
        "\n",
        "cols_to_scale = ['square_feet' , 'air_temperature' , 'dew_temperature' ,\n",
        "                 'wind_speed', 'cloud_coverage', 'sea_level_pressure', 'wind_direction',\n",
        "                 'relative_humidity', 'feels_like']\n",
        "\n",
        "cols_to_encode = ['primary_use' , 'city' , 'country']\n",
        "\n",
        "cols_to_fill_mean = ['air_temperature', 'cloud_coverage', 'dew_temperature', 'precip_depth_1_hr',\n",
        "                       'sea_level_pressure','wind_direction' , 'wind_speed', 'relative_humidity' ,\n",
        "                       'feels_like']\n",
        "\n",
        "cols_to_fill_categ = ['city' , 'country' , 'is_holiday']\n",
        "\n",
        "\n",
        "Filler = Data_Filler(cols_to_fill_mean,\n",
        "                     cols_to_fill_categ)\n",
        "\n",
        "Filler.fit(train)\n",
        "train = Filler.transform(train)\n",
        "\n",
        "ScalerEncoder = Data_Scaler_Encoder(cols_to_scale ,\n",
        "                                    cols_to_drop , \n",
        "                                    cols_to_encode)\n",
        "ScalerEncoder.fit(train)\n",
        "train = ScalerEncoder.transform(train)"
      ],
      "execution_count": null,
      "outputs": []
    },
    {
      "cell_type": "code",
      "metadata": {
        "colab": {
          "base_uri": "https://localhost:8080/",
          "height": 680
        },
        "id": "x0sq970MZ_d5",
        "outputId": "d2fa14c0-c147-48ea-d378-2b9c24fc9e70"
      },
      "source": [
        "plt.figure(figsize = (10 , 10))\n",
        "sns.heatmap(train[cols_to_scale + ['log_meter_reading']].corr(), annot=True)\n",
        "plt.show()"
      ],
      "execution_count": null,
      "outputs": [
        {
          "output_type": "display_data",
          "data": {
            "image/png": "[encoded data removed]",
            "text/plain": [
              "<Figure size 720x720 with 2 Axes>"
            ]
          },
          "metadata": {
            "tags": []
          }
        }
      ]
    },
    {
      "cell_type": "markdown",
      "metadata": {
        "id": "B0N5Wb8kb1IR"
      },
      "source": [
        "* air_temperature et dew_temperature sont correlees, on enleve une. (air_temperature)\n",
        "\n",
        "* wind_direction et wind_speed sont correlees, on enleve une. (wind_direction)\n",
        "\n"
      ]
    },
    {
      "cell_type": "code",
      "metadata": {
        "id": "enPoSsTcvkMA"
      },
      "source": [
        "def residual_block(input_x, nodes):\n",
        "    d1 = Dense(nodes,activation='relu')(input_x)\n",
        "    d1 = Dropout(0.1)(d1)\n",
        "    d2 = Dense(nodes,activation='relu')(d1)\n",
        "    d2 = Dropout(0.1)(d2)\n",
        "    \n",
        "    projected_x = Dense(nodes,activation='relu')(input_x)\n",
        "\n",
        "    add = Add()([projected_x , d2])\n",
        "    return add\n",
        "\n",
        "def create_model(data , categorical_vars , numerical_vars):\n",
        "    categ_inputs = []\n",
        "    embed_layers = []  \n",
        "    for col in categorical_vars:\n",
        "        num_classes = len(np.unique(data[col]))\n",
        "\n",
        "        input_x = Input(shape = [1] , name = col)\n",
        "        categ_inputs.append(input_x)\n",
        "\n",
        "        embed_x = Embedding(num_classes, 3)(input_x)\n",
        "        embed_layers.append(embed_x)\n",
        "\n",
        "    num_inputs = []\n",
        "    for col in numerical_vars:\n",
        "        num_inputs.append(Input(shape=[1] , name = col))\n",
        "\n",
        "    concat_emb = K.concatenate([Flatten()(emb_layer) for emb_layer in embed_layers])\n",
        "\n",
        "    d1 = residual_block(concat_emb , 512) # 512\n",
        "    main = K.concatenate(num_inputs + [d1])\n",
        "\n",
        "    d2 = residual_block(main , 512) # 512\n",
        "    \n",
        "    d2 = residual_block(d2 , 256)\n",
        "    \n",
        "    d2 = residual_block(d2 , 8)\n",
        "\n",
        "    df = Dense(3 , name = 'second_to_last_layer')(d2) ###### train --> (v1 , v2 , v3 , log_reading_meter)  # \n",
        "\n",
        "    output = Dense(1)(df)\n",
        "    model  = Model(categ_inputs + num_inputs, output)\n",
        "\n",
        "    return model \n",
        "\n",
        "def rmse(y_true, y_pred):\n",
        "    \"\"\" root_mean_squared_error \"\"\"\n",
        "    return K.sqrt(K.mean(K.square(y_pred - y_true)))"
      ],
      "execution_count": null,
      "outputs": []
    },
    {
      "cell_type": "code",
      "metadata": {
        "id": "3tAXlGeOBEIG",
        "colab": {
          "base_uri": "https://localhost:8080/",
          "height": 215
        },
        "outputId": "a1371246-4c4b-4fba-a3cd-c610ea54495f"
      },
      "source": [
        "train.head()"
      ],
      "execution_count": null,
      "outputs": [
        {
          "output_type": "execute_result",
          "data": {
            "text/html": [
              "<div>\n",
              "<style scoped>\n",
              "    .dataframe tbody tr th:only-of-type {\n",
              "        vertical-align: middle;\n",
              "    }\n",
              "\n",
              "    .dataframe tbody tr th {\n",
              "        vertical-align: top;\n",
              "    }\n",
              "\n",
              "    .dataframe thead th {\n",
              "        text-align: right;\n",
              "    }\n",
              "</style>\n",
              "<table border=\"1\" class=\"dataframe\">\n",
              "  <thead>\n",
              "    <tr style=\"text-align: right;\">\n",
              "      <th></th>\n",
              "      <th>building_id</th>\n",
              "      <th>meter</th>\n",
              "      <th>hour</th>\n",
              "      <th>dayofweek</th>\n",
              "      <th>month_group</th>\n",
              "      <th>site_id</th>\n",
              "      <th>primary_use</th>\n",
              "      <th>square_feet</th>\n",
              "      <th>air_temperature</th>\n",
              "      <th>cloud_coverage</th>\n",
              "      <th>dew_temperature</th>\n",
              "      <th>precip_depth_1_hr</th>\n",
              "      <th>sea_level_pressure</th>\n",
              "      <th>wind_direction</th>\n",
              "      <th>wind_speed</th>\n",
              "      <th>relative_humidity</th>\n",
              "      <th>feels_like</th>\n",
              "      <th>city</th>\n",
              "      <th>country</th>\n",
              "      <th>is_holiday</th>\n",
              "      <th>log_meter_reading</th>\n",
              "    </tr>\n",
              "  </thead>\n",
              "  <tbody>\n",
              "    <tr>\n",
              "      <th>11990877</th>\n",
              "      <td>774</td>\n",
              "      <td>1</td>\n",
              "      <td>8</td>\n",
              "      <td>6</td>\n",
              "      <td>2</td>\n",
              "      <td>6</td>\n",
              "      <td>4</td>\n",
              "      <td>-0.121928</td>\n",
              "      <td>0.622309</td>\n",
              "      <td>-0.493968</td>\n",
              "      <td>1.335863</td>\n",
              "      <td>0.000000</td>\n",
              "      <td>0.971994</td>\n",
              "      <td>-1.508241</td>\n",
              "      <td>-1.586555</td>\n",
              "      <td>1.220804</td>\n",
              "      <td>0.625725</td>\n",
              "      <td>12</td>\n",
              "      <td>3</td>\n",
              "      <td>0.0</td>\n",
              "      <td>3.614396</td>\n",
              "    </tr>\n",
              "    <tr>\n",
              "      <th>15256244</th>\n",
              "      <td>206</td>\n",
              "      <td>0</td>\n",
              "      <td>14</td>\n",
              "      <td>1</td>\n",
              "      <td>2</td>\n",
              "      <td>2</td>\n",
              "      <td>9</td>\n",
              "      <td>2.032176</td>\n",
              "      <td>-0.004326</td>\n",
              "      <td>-0.902715</td>\n",
              "      <td>-0.443634</td>\n",
              "      <td>0.000000</td>\n",
              "      <td>0.950487</td>\n",
              "      <td>-0.693963</td>\n",
              "      <td>-0.905198</td>\n",
              "      <td>-0.907559</td>\n",
              "      <td>0.046760</td>\n",
              "      <td>11</td>\n",
              "      <td>3</td>\n",
              "      <td>0.0</td>\n",
              "      <td>4.209454</td>\n",
              "    </tr>\n",
              "    <tr>\n",
              "      <th>18401495</th>\n",
              "      <td>1269</td>\n",
              "      <td>0</td>\n",
              "      <td>10</td>\n",
              "      <td>1</td>\n",
              "      <td>2</td>\n",
              "      <td>14</td>\n",
              "      <td>3</td>\n",
              "      <td>-0.438739</td>\n",
              "      <td>-0.733841</td>\n",
              "      <td>-0.902715</td>\n",
              "      <td>-0.273682</td>\n",
              "      <td>0.000000</td>\n",
              "      <td>1.015009</td>\n",
              "      <td>-0.603487</td>\n",
              "      <td>-0.405537</td>\n",
              "      <td>0.755967</td>\n",
              "      <td>-0.627258</td>\n",
              "      <td>7</td>\n",
              "      <td>3</td>\n",
              "      <td>0.0</td>\n",
              "      <td>2.241073</td>\n",
              "    </tr>\n",
              "    <tr>\n",
              "      <th>15573710</th>\n",
              "      <td>951</td>\n",
              "      <td>0</td>\n",
              "      <td>4</td>\n",
              "      <td>0</td>\n",
              "      <td>2</td>\n",
              "      <td>9</td>\n",
              "      <td>6</td>\n",
              "      <td>-0.032943</td>\n",
              "      <td>0.098554</td>\n",
              "      <td>-0.902715</td>\n",
              "      <td>-0.213699</td>\n",
              "      <td>0.000000</td>\n",
              "      <td>1.066786</td>\n",
              "      <td>-1.508241</td>\n",
              "      <td>-1.586555</td>\n",
              "      <td>-0.727844</td>\n",
              "      <td>0.141815</td>\n",
              "      <td>0</td>\n",
              "      <td>3</td>\n",
              "      <td>1.0</td>\n",
              "      <td>3.529892</td>\n",
              "    </tr>\n",
              "    <tr>\n",
              "      <th>6515439</th>\n",
              "      <td>656</td>\n",
              "      <td>0</td>\n",
              "      <td>21</td>\n",
              "      <td>6</td>\n",
              "      <td>1</td>\n",
              "      <td>5</td>\n",
              "      <td>7</td>\n",
              "      <td>-0.870854</td>\n",
              "      <td>-0.481317</td>\n",
              "      <td>-0.902715</td>\n",
              "      <td>0.226177</td>\n",
              "      <td>-0.041667</td>\n",
              "      <td>0.990017</td>\n",
              "      <td>1.206021</td>\n",
              "      <td>-0.405537</td>\n",
              "      <td>1.372431</td>\n",
              "      <td>-0.393944</td>\n",
              "      <td>10</td>\n",
              "      <td>2</td>\n",
              "      <td>0.0</td>\n",
              "      <td>2.359378</td>\n",
              "    </tr>\n",
              "  </tbody>\n",
              "</table>\n",
              "</div>"
            ],
            "text/plain": [
              "          building_id  meter  hour  ...  country  is_holiday  log_meter_reading\n",
              "11990877          774      1     8  ...        3         0.0           3.614396\n",
              "15256244          206      0    14  ...        3         0.0           4.209454\n",
              "18401495         1269      0    10  ...        3         0.0           2.241073\n",
              "15573710          951      0     4  ...        3         1.0           3.529892\n",
              "6515439           656      0    21  ...        2         0.0           2.359378\n",
              "\n",
              "[5 rows x 21 columns]"
            ]
          },
          "metadata": {
            "tags": []
          },
          "execution_count": 16
        }
      ]
    },
    {
      "cell_type": "code",
      "metadata": {
        "id": "-OkyaC4140Nh"
      },
      "source": [
        "categorical_vars = ['building_id' , 'meter', 'hour', 'dayofweek' ,\n",
        "                    'month_group', 'site_id' , \n",
        "                    'primary_use', 'city', 'country', 'is_holiday']\n",
        "                    \n",
        "numerical_vars = ['square_feet', 'cloud_coverage', 'dew_temperature',\n",
        "                  'precip_depth_1_hr', 'sea_level_pressure', 'wind_speed', \n",
        "                  'relative_humidity' , 'feels_like']\n",
        "\n",
        "target_var = 'log_meter_reading'\n",
        "\n",
        "model = create_model(train, categorical_vars, numerical_vars)"
      ],
      "execution_count": null,
      "outputs": []
    },
    {
      "cell_type": "code",
      "metadata": {
        "id": "FcwHeSZxMIFj"
      },
      "source": [
        "y = train[target_var].values\n",
        "y = y.reshape((len(y) , 1))\n",
        "\n",
        "train = train.drop( [target_var] , axis = 1)\n",
        "\n",
        "co_vars = categorical_vars + numerical_vars\n",
        "train = train[co_vars].values\n",
        "\n",
        "train = [ train[:,i].flatten() for i in range(len(train[0,:])) ]"
      ],
      "execution_count": null,
      "outputs": []
    },
    {
      "cell_type": "code",
      "metadata": {
        "id": "M_SVDntbrxK6",
        "colab": {
          "base_uri": "https://localhost:8080/"
        },
        "outputId": "f1d54e92-7ab1-47b5-bf74-6c2e9d1ddbe6"
      },
      "source": [
        "checkpoint = ModelCheckpoint( '/content/drive/MyDrive/model_ann_regression.h5', \n",
        "                                monitor = 'val_rmse', \n",
        "                                verbose = 1, \n",
        "                                save_best_only = True, \n",
        "                                mode = 'min')\n",
        "\n",
        "early_stopping = EarlyStopping(patience = 5 ,monitor = \"val_rmse\")\n",
        "callbacks_list = [checkpoint , early_stopping]\n",
        "\n",
        "model.compile(optimizer = Adam(lr = 1e-3), loss = 'mse',  metrics = [rmse])\n",
        "history = model.fit(train, y, \n",
        "                    epochs = 150,\n",
        "                    batch_size = 1024, \n",
        "                    callbacks = callbacks_list, \n",
        "                    validation_split = 0.3)"
      ],
      "execution_count": null,
      "outputs": [
        {
          "output_type": "stream",
          "text": [
            "Epoch 1/150\n",
            "13820/13820 [==============================] - 153s 11ms/step - loss: 1.0442 - rmse: 0.9785 - val_loss: 0.5970 - val_rmse: 0.7704\n",
            "\n",
            "Epoch 00001: val_rmse improved from inf to 0.77037, saving model to /content/drive/MyDrive/model_ann_regression.h5\n",
            "Epoch 2/150\n",
            "13820/13820 [==============================] - 146s 11ms/step - loss: 0.5905 - rmse: 0.7661 - val_loss: 0.5300 - val_rmse: 0.7258\n",
            "\n",
            "Epoch 00002: val_rmse improved from 0.77037 to 0.72575, saving model to /content/drive/MyDrive/model_ann_regression.h5\n",
            "Epoch 3/150\n",
            "13820/13820 [==============================] - 146s 11ms/step - loss: 0.5285 - rmse: 0.7246 - val_loss: 0.4824 - val_rmse: 0.6921\n",
            "\n",
            "Epoch 00003: val_rmse improved from 0.72575 to 0.69207, saving model to /content/drive/MyDrive/model_ann_regression.h5\n",
            "Epoch 4/150\n",
            "13820/13820 [==============================] - 145s 11ms/step - loss: 0.4909 - rmse: 0.6983 - val_loss: 0.4624 - val_rmse: 0.6776\n",
            "\n",
            "Epoch 00004: val_rmse improved from 0.69207 to 0.67759, saving model to /content/drive/MyDrive/model_ann_regression.h5\n",
            "Epoch 5/150\n",
            "13820/13820 [==============================] - 146s 11ms/step - loss: 0.4668 - rmse: 0.6808 - val_loss: 0.4435 - val_rmse: 0.6634\n",
            "\n",
            "Epoch 00005: val_rmse improved from 0.67759 to 0.66335, saving model to /content/drive/MyDrive/model_ann_regression.h5\n",
            "Epoch 6/150\n",
            "13820/13820 [==============================] - 146s 11ms/step - loss: 0.4495 - rmse: 0.6679 - val_loss: 0.4290 - val_rmse: 0.6523\n",
            "\n",
            "Epoch 00006: val_rmse improved from 0.66335 to 0.65228, saving model to /content/drive/MyDrive/model_ann_regression.h5\n",
            "Epoch 7/150\n",
            "13820/13820 [==============================] - 145s 11ms/step - loss: 0.4348 - rmse: 0.6569 - val_loss: 0.4156 - val_rmse: 0.6421\n",
            "\n",
            "Epoch 00007: val_rmse improved from 0.65228 to 0.64210, saving model to /content/drive/MyDrive/model_ann_regression.h5\n",
            "Epoch 8/150\n",
            "13820/13820 [==============================] - 146s 11ms/step - loss: 0.4244 - rmse: 0.6490 - val_loss: 0.4116 - val_rmse: 0.6390\n",
            "\n",
            "Epoch 00008: val_rmse improved from 0.64210 to 0.63896, saving model to /content/drive/MyDrive/model_ann_regression.h5\n",
            "Epoch 9/150\n",
            "13820/13820 [==============================] - 147s 11ms/step - loss: 0.4128 - rmse: 0.6400 - val_loss: 0.4017 - val_rmse: 0.6312\n",
            "\n",
            "Epoch 00009: val_rmse improved from 0.63896 to 0.63115, saving model to /content/drive/MyDrive/model_ann_regression.h5\n",
            "Epoch 10/150\n",
            "13820/13820 [==============================] - 147s 11ms/step - loss: 0.4046 - rmse: 0.6336 - val_loss: 0.3980 - val_rmse: 0.6282\n",
            "\n",
            "Epoch 00010: val_rmse improved from 0.63115 to 0.62824, saving model to /content/drive/MyDrive/model_ann_regression.h5\n",
            "Epoch 11/150\n",
            "13820/13820 [==============================] - 146s 11ms/step - loss: 0.3985 - rmse: 0.6287 - val_loss: 0.3889 - val_rmse: 0.6208\n",
            "\n",
            "Epoch 00011: val_rmse improved from 0.62824 to 0.62083, saving model to /content/drive/MyDrive/model_ann_regression.h5\n",
            "Epoch 12/150\n",
            "13820/13820 [==============================] - 145s 11ms/step - loss: 0.3911 - rmse: 0.6229 - val_loss: 0.3848 - val_rmse: 0.6176\n",
            "\n",
            "Epoch 00012: val_rmse improved from 0.62083 to 0.61763, saving model to /content/drive/MyDrive/model_ann_regression.h5\n",
            "Epoch 13/150\n",
            "13820/13820 [==============================] - 146s 11ms/step - loss: 0.3850 - rmse: 0.6180 - val_loss: 0.3808 - val_rmse: 0.6144\n",
            "\n",
            "Epoch 00013: val_rmse improved from 0.61763 to 0.61440, saving model to /content/drive/MyDrive/model_ann_regression.h5\n",
            "Epoch 14/150\n",
            "13820/13820 [==============================] - 147s 11ms/step - loss: 0.3800 - rmse: 0.6139 - val_loss: 0.3745 - val_rmse: 0.6091\n",
            "\n",
            "Epoch 00014: val_rmse improved from 0.61440 to 0.60913, saving model to /content/drive/MyDrive/model_ann_regression.h5\n",
            "Epoch 15/150\n",
            "13820/13820 [==============================] - 146s 11ms/step - loss: 0.3743 - rmse: 0.6092 - val_loss: 0.3731 - val_rmse: 0.6080\n",
            "\n",
            "Epoch 00015: val_rmse improved from 0.60913 to 0.60800, saving model to /content/drive/MyDrive/model_ann_regression.h5\n",
            "Epoch 16/150\n",
            "13820/13820 [==============================] - 146s 11ms/step - loss: 0.3701 - rmse: 0.6058 - val_loss: 0.3676 - val_rmse: 0.6035\n",
            "\n",
            "Epoch 00016: val_rmse improved from 0.60800 to 0.60348, saving model to /content/drive/MyDrive/model_ann_regression.h5\n",
            "Epoch 17/150\n",
            "13820/13820 [==============================] - 145s 11ms/step - loss: 0.3656 - rmse: 0.6021 - val_loss: 0.3643 - val_rmse: 0.6008\n",
            "\n",
            "Epoch 00017: val_rmse improved from 0.60348 to 0.60078, saving model to /content/drive/MyDrive/model_ann_regression.h5\n",
            "Epoch 18/150\n",
            "13820/13820 [==============================] - 146s 11ms/step - loss: 0.3607 - rmse: 0.5979 - val_loss: 0.3616 - val_rmse: 0.5985\n",
            "\n",
            "Epoch 00018: val_rmse improved from 0.60078 to 0.59853, saving model to /content/drive/MyDrive/model_ann_regression.h5\n",
            "Epoch 19/150\n",
            "13820/13820 [==============================] - 146s 11ms/step - loss: 0.3564 - rmse: 0.5944 - val_loss: 0.3580 - val_rmse: 0.5955\n",
            "\n",
            "Epoch 00019: val_rmse improved from 0.59853 to 0.59553, saving model to /content/drive/MyDrive/model_ann_regression.h5\n",
            "Epoch 20/150\n",
            "13820/13820 [==============================] - 149s 11ms/step - loss: 0.3532 - rmse: 0.5917 - val_loss: 0.3580 - val_rmse: 0.5955\n",
            "\n",
            "Epoch 00020: val_rmse improved from 0.59553 to 0.59552, saving model to /content/drive/MyDrive/model_ann_regression.h5\n",
            "Epoch 21/150\n",
            "13820/13820 [==============================] - 150s 11ms/step - loss: 0.3510 - rmse: 0.5898 - val_loss: 0.3569 - val_rmse: 0.5947\n",
            "\n",
            "Epoch 00021: val_rmse improved from 0.59552 to 0.59471, saving model to /content/drive/MyDrive/model_ann_regression.h5\n",
            "Epoch 22/150\n",
            "13820/13820 [==============================] - 148s 11ms/step - loss: 0.3474 - rmse: 0.5869 - val_loss: 0.3526 - val_rmse: 0.5910\n",
            "\n",
            "Epoch 00022: val_rmse improved from 0.59471 to 0.59099, saving model to /content/drive/MyDrive/model_ann_regression.h5\n",
            "Epoch 23/150\n",
            "13820/13820 [==============================] - 147s 11ms/step - loss: 0.3450 - rmse: 0.5848 - val_loss: 0.3494 - val_rmse: 0.5883\n",
            "\n",
            "Epoch 00023: val_rmse improved from 0.59099 to 0.58830, saving model to /content/drive/MyDrive/model_ann_regression.h5\n",
            "Epoch 24/150\n",
            "13820/13820 [==============================] - 146s 11ms/step - loss: 0.3415 - rmse: 0.5818 - val_loss: 0.3495 - val_rmse: 0.5884\n",
            "\n",
            "Epoch 00024: val_rmse did not improve from 0.58830\n",
            "Epoch 25/150\n",
            "13820/13820 [==============================] - 146s 11ms/step - loss: 0.3393 - rmse: 0.5800 - val_loss: 0.3483 - val_rmse: 0.5874\n",
            "\n",
            "Epoch 00025: val_rmse improved from 0.58830 to 0.58737, saving model to /content/drive/MyDrive/model_ann_regression.h5\n",
            "Epoch 26/150\n",
            "13820/13820 [==============================] - 145s 11ms/step - loss: 0.3372 - rmse: 0.5780 - val_loss: 0.3444 - val_rmse: 0.5840\n",
            "\n",
            "Epoch 00026: val_rmse improved from 0.58737 to 0.58395, saving model to /content/drive/MyDrive/model_ann_regression.h5\n",
            "Epoch 27/150\n",
            "13820/13820 [==============================] - 148s 11ms/step - loss: 0.3331 - rmse: 0.5746 - val_loss: 0.3468 - val_rmse: 0.5861\n",
            "\n",
            "Epoch 00027: val_rmse did not improve from 0.58395\n",
            "Epoch 28/150\n",
            "13820/13820 [==============================] - 146s 11ms/step - loss: 0.3323 - rmse: 0.5739 - val_loss: 0.3431 - val_rmse: 0.5829\n",
            "\n",
            "Epoch 00028: val_rmse improved from 0.58395 to 0.58287, saving model to /content/drive/MyDrive/model_ann_regression.h5\n",
            "Epoch 29/150\n",
            "13820/13820 [==============================] - 146s 11ms/step - loss: 0.3290 - rmse: 0.5709 - val_loss: 0.3413 - val_rmse: 0.5814\n",
            "\n",
            "Epoch 00029: val_rmse improved from 0.58287 to 0.58143, saving model to /content/drive/MyDrive/model_ann_regression.h5\n",
            "Epoch 30/150\n",
            "13820/13820 [==============================] - 145s 11ms/step - loss: 0.3273 - rmse: 0.5695 - val_loss: 0.3403 - val_rmse: 0.5804\n",
            "\n",
            "Epoch 00030: val_rmse improved from 0.58143 to 0.58039, saving model to /content/drive/MyDrive/model_ann_regression.h5\n",
            "Epoch 31/150\n",
            "13820/13820 [==============================] - 145s 11ms/step - loss: 0.3260 - rmse: 0.5683 - val_loss: 0.3393 - val_rmse: 0.5795\n",
            "\n",
            "Epoch 00031: val_rmse improved from 0.58039 to 0.57953, saving model to /content/drive/MyDrive/model_ann_regression.h5\n",
            "Epoch 32/150\n",
            "13820/13820 [==============================] - 145s 10ms/step - loss: 0.3218 - rmse: 0.5647 - val_loss: 0.3393 - val_rmse: 0.5795\n",
            "\n",
            "Epoch 00032: val_rmse did not improve from 0.57953\n",
            "Epoch 33/150\n",
            "13820/13820 [==============================] - 145s 10ms/step - loss: 0.3214 - rmse: 0.5643 - val_loss: 0.3346 - val_rmse: 0.5756\n",
            "\n",
            "Epoch 00033: val_rmse improved from 0.57953 to 0.57561, saving model to /content/drive/MyDrive/model_ann_regression.h5\n",
            "Epoch 34/150\n",
            "13820/13820 [==============================] - 146s 11ms/step - loss: 0.3188 - rmse: 0.5621 - val_loss: 0.3337 - val_rmse: 0.5748\n",
            "\n",
            "Epoch 00034: val_rmse improved from 0.57561 to 0.57483, saving model to /content/drive/MyDrive/model_ann_regression.h5\n",
            "Epoch 35/150\n",
            "13820/13820 [==============================] - 148s 11ms/step - loss: 0.3173 - rmse: 0.5607 - val_loss: 0.3314 - val_rmse: 0.5727\n",
            "\n",
            "Epoch 00035: val_rmse improved from 0.57483 to 0.57274, saving model to /content/drive/MyDrive/model_ann_regression.h5\n",
            "Epoch 36/150\n",
            "13820/13820 [==============================] - 154s 11ms/step - loss: 0.3162 - rmse: 0.5597 - val_loss: 0.3326 - val_rmse: 0.5738\n",
            "\n",
            "Epoch 00036: val_rmse did not improve from 0.57274\n",
            "Epoch 37/150\n",
            "13820/13820 [==============================] - 150s 11ms/step - loss: 0.3135 - rmse: 0.5573 - val_loss: 0.3299 - val_rmse: 0.5714\n",
            "\n",
            "Epoch 00037: val_rmse improved from 0.57274 to 0.57140, saving model to /content/drive/MyDrive/model_ann_regression.h5\n",
            "Epoch 38/150\n",
            "13820/13820 [==============================] - 147s 11ms/step - loss: 0.3117 - rmse: 0.5557 - val_loss: 0.3301 - val_rmse: 0.5715\n",
            "\n",
            "Epoch 00038: val_rmse did not improve from 0.57140\n",
            "Epoch 39/150\n",
            "13820/13820 [==============================] - 146s 11ms/step - loss: 0.3107 - rmse: 0.5547 - val_loss: 0.3269 - val_rmse: 0.5688\n",
            "\n",
            "Epoch 00039: val_rmse improved from 0.57140 to 0.56880, saving model to /content/drive/MyDrive/model_ann_regression.h5\n",
            "Epoch 40/150\n",
            "13820/13820 [==============================] - 150s 11ms/step - loss: 0.3100 - rmse: 0.5542 - val_loss: 0.3281 - val_rmse: 0.5698\n",
            "\n",
            "Epoch 00040: val_rmse did not improve from 0.56880\n",
            "Epoch 41/150\n",
            "13820/13820 [==============================] - 150s 11ms/step - loss: 0.3087 - rmse: 0.5531 - val_loss: 0.3263 - val_rmse: 0.5683\n",
            "\n",
            "Epoch 00041: val_rmse improved from 0.56880 to 0.56828, saving model to /content/drive/MyDrive/model_ann_regression.h5\n",
            "Epoch 42/150\n",
            "13820/13820 [==============================] - 148s 11ms/step - loss: 0.3074 - rmse: 0.5518 - val_loss: 0.3288 - val_rmse: 0.5705\n",
            "\n",
            "Epoch 00042: val_rmse did not improve from 0.56828\n",
            "Epoch 43/150\n",
            "13820/13820 [==============================] - 146s 11ms/step - loss: 0.3052 - rmse: 0.5499 - val_loss: 0.3249 - val_rmse: 0.5671\n",
            "\n",
            "Epoch 00043: val_rmse improved from 0.56828 to 0.56709, saving model to /content/drive/MyDrive/model_ann_regression.h5\n",
            "Epoch 44/150\n",
            "13820/13820 [==============================] - 146s 11ms/step - loss: 0.3040 - rmse: 0.5487 - val_loss: 0.3244 - val_rmse: 0.5665\n",
            "\n",
            "Epoch 00044: val_rmse improved from 0.56709 to 0.56653, saving model to /content/drive/MyDrive/model_ann_regression.h5\n",
            "Epoch 45/150\n",
            "13820/13820 [==============================] - 146s 11ms/step - loss: 0.3031 - rmse: 0.5479 - val_loss: 0.3237 - val_rmse: 0.5659\n",
            "\n",
            "Epoch 00045: val_rmse improved from 0.56653 to 0.56591, saving model to /content/drive/MyDrive/model_ann_regression.h5\n",
            "Epoch 46/150\n",
            "13820/13820 [==============================] - 146s 11ms/step - loss: 0.3023 - rmse: 0.5472 - val_loss: 0.3234 - val_rmse: 0.5657\n",
            "\n",
            "Epoch 00046: val_rmse improved from 0.56591 to 0.56568, saving model to /content/drive/MyDrive/model_ann_regression.h5\n",
            "Epoch 47/150\n",
            "13820/13820 [==============================] - 146s 11ms/step - loss: 0.3003 - rmse: 0.5454 - val_loss: 0.3217 - val_rmse: 0.5643\n",
            "\n",
            "Epoch 00047: val_rmse improved from 0.56568 to 0.56427, saving model to /content/drive/MyDrive/model_ann_regression.h5\n",
            "Epoch 48/150\n",
            "13820/13820 [==============================] - 146s 11ms/step - loss: 0.3000 - rmse: 0.5451 - val_loss: 0.3228 - val_rmse: 0.5652\n",
            "\n",
            "Epoch 00048: val_rmse did not improve from 0.56427\n",
            "Epoch 49/150\n",
            "13820/13820 [==============================] - 146s 11ms/step - loss: 0.2975 - rmse: 0.5429 - val_loss: 0.3219 - val_rmse: 0.5643\n",
            "\n",
            "Epoch 00049: val_rmse improved from 0.56427 to 0.56425, saving model to /content/drive/MyDrive/model_ann_regression.h5\n",
            "Epoch 50/150\n",
            "13820/13820 [==============================] - 146s 11ms/step - loss: 0.2973 - rmse: 0.5427 - val_loss: 0.3209 - val_rmse: 0.5635\n",
            "\n",
            "Epoch 00050: val_rmse improved from 0.56425 to 0.56346, saving model to /content/drive/MyDrive/model_ann_regression.h5\n",
            "Epoch 51/150\n",
            "13820/13820 [==============================] - 146s 11ms/step - loss: 0.2965 - rmse: 0.5419 - val_loss: 0.3207 - val_rmse: 0.5633\n",
            "\n",
            "Epoch 00051: val_rmse improved from 0.56346 to 0.56333, saving model to /content/drive/MyDrive/model_ann_regression.h5\n",
            "Epoch 52/150\n",
            "13820/13820 [==============================] - 146s 11ms/step - loss: 0.2947 - rmse: 0.5403 - val_loss: 0.3208 - val_rmse: 0.5634\n",
            "\n",
            "Epoch 00052: val_rmse did not improve from 0.56333\n",
            "Epoch 53/150\n",
            "13820/13820 [==============================] - 146s 11ms/step - loss: 0.2943 - rmse: 0.5399 - val_loss: 0.3210 - val_rmse: 0.5635\n",
            "\n",
            "Epoch 00053: val_rmse did not improve from 0.56333\n",
            "Epoch 54/150\n",
            "13820/13820 [==============================] - 145s 11ms/step - loss: 0.2930 - rmse: 0.5387 - val_loss: 0.3177 - val_rmse: 0.5607\n",
            "\n",
            "Epoch 00054: val_rmse improved from 0.56333 to 0.56074, saving model to /content/drive/MyDrive/model_ann_regression.h5\n",
            "Epoch 55/150\n",
            "13820/13820 [==============================] - 145s 10ms/step - loss: 0.2924 - rmse: 0.5382 - val_loss: 0.3167 - val_rmse: 0.5598\n",
            "\n",
            "Epoch 00055: val_rmse improved from 0.56074 to 0.55978, saving model to /content/drive/MyDrive/model_ann_regression.h5\n",
            "Epoch 56/150\n",
            "13820/13820 [==============================] - 143s 10ms/step - loss: 0.2914 - rmse: 0.5373 - val_loss: 0.3178 - val_rmse: 0.5608\n",
            "\n",
            "Epoch 00056: val_rmse did not improve from 0.55978\n",
            "Epoch 57/150\n",
            "13820/13820 [==============================] - 142s 10ms/step - loss: 0.2896 - rmse: 0.5356 - val_loss: 0.3191 - val_rmse: 0.5619\n",
            "\n",
            "Epoch 00057: val_rmse did not improve from 0.55978\n",
            "Epoch 58/150\n",
            "13820/13820 [==============================] - 143s 10ms/step - loss: 0.2887 - rmse: 0.5347 - val_loss: 0.3172 - val_rmse: 0.5602\n",
            "\n",
            "Epoch 00058: val_rmse did not improve from 0.55978\n",
            "Epoch 59/150\n",
            "13820/13820 [==============================] - 142s 10ms/step - loss: 0.2890 - rmse: 0.5351 - val_loss: 0.3177 - val_rmse: 0.5606\n",
            "\n",
            "Epoch 00059: val_rmse did not improve from 0.55978\n",
            "Epoch 60/150\n",
            "13820/13820 [==============================] - 141s 10ms/step - loss: 0.2867 - rmse: 0.5329 - val_loss: 0.3164 - val_rmse: 0.5594\n",
            "\n",
            "Epoch 00060: val_rmse improved from 0.55978 to 0.55942, saving model to /content/drive/MyDrive/model_ann_regression.h5\n",
            "Epoch 61/150\n",
            "13820/13820 [==============================] - 141s 10ms/step - loss: 0.2862 - rmse: 0.5324 - val_loss: 0.3148 - val_rmse: 0.5581\n",
            "\n",
            "Epoch 00061: val_rmse improved from 0.55942 to 0.55806, saving model to /content/drive/MyDrive/model_ann_regression.h5\n",
            "Epoch 62/150\n",
            "13820/13820 [==============================] - 143s 10ms/step - loss: 0.2860 - rmse: 0.5322 - val_loss: 0.3140 - val_rmse: 0.5574\n",
            "\n",
            "Epoch 00062: val_rmse improved from 0.55806 to 0.55740, saving model to /content/drive/MyDrive/model_ann_regression.h5\n",
            "Epoch 63/150\n",
            "13820/13820 [==============================] - 143s 10ms/step - loss: 0.2843 - rmse: 0.5306 - val_loss: 0.3131 - val_rmse: 0.5565\n",
            "\n",
            "Epoch 00063: val_rmse improved from 0.55740 to 0.55648, saving model to /content/drive/MyDrive/model_ann_regression.h5\n",
            "Epoch 64/150\n",
            "13820/13820 [==============================] - 143s 10ms/step - loss: 0.2835 - rmse: 0.5299 - val_loss: 0.3134 - val_rmse: 0.5568\n",
            "\n",
            "Epoch 00064: val_rmse did not improve from 0.55648\n",
            "Epoch 65/150\n",
            "13820/13820 [==============================] - 144s 10ms/step - loss: 0.2829 - rmse: 0.5293 - val_loss: 0.3151 - val_rmse: 0.5582\n",
            "\n",
            "Epoch 00065: val_rmse did not improve from 0.55648\n",
            "Epoch 66/150\n",
            "13820/13820 [==============================] - 144s 10ms/step - loss: 0.2823 - rmse: 0.5287 - val_loss: 0.3145 - val_rmse: 0.5576\n",
            "\n",
            "Epoch 00066: val_rmse did not improve from 0.55648\n",
            "Epoch 67/150\n",
            "13820/13820 [==============================] - 144s 10ms/step - loss: 0.2817 - rmse: 0.5281 - val_loss: 0.3151 - val_rmse: 0.5582\n",
            "\n",
            "Epoch 00067: val_rmse did not improve from 0.55648\n",
            "Epoch 68/150\n",
            "13820/13820 [==============================] - 144s 10ms/step - loss: 0.2816 - rmse: 0.5281 - val_loss: 0.3106 - val_rmse: 0.5544\n",
            "\n",
            "Epoch 00068: val_rmse improved from 0.55648 to 0.55438, saving model to /content/drive/MyDrive/model_ann_regression.h5\n",
            "Epoch 69/150\n",
            "13820/13820 [==============================] - 143s 10ms/step - loss: 0.2810 - rmse: 0.5275 - val_loss: 0.3118 - val_rmse: 0.5554\n",
            "\n",
            "Epoch 00069: val_rmse did not improve from 0.55438\n",
            "Epoch 70/150\n",
            "13820/13820 [==============================] - 143s 10ms/step - loss: 0.2785 - rmse: 0.5252 - val_loss: 0.3107 - val_rmse: 0.5543\n",
            "\n",
            "Epoch 00070: val_rmse improved from 0.55438 to 0.55431, saving model to /content/drive/MyDrive/model_ann_regression.h5\n",
            "Epoch 71/150\n",
            "13820/13820 [==============================] - 143s 10ms/step - loss: 0.2789 - rmse: 0.5255 - val_loss: 0.3097 - val_rmse: 0.5534\n",
            "\n",
            "Epoch 00071: val_rmse improved from 0.55431 to 0.55337, saving model to /content/drive/MyDrive/model_ann_regression.h5\n",
            "Epoch 72/150\n",
            "13820/13820 [==============================] - 143s 10ms/step - loss: 0.2769 - rmse: 0.5236 - val_loss: 0.3090 - val_rmse: 0.5529\n",
            "\n",
            "Epoch 00072: val_rmse improved from 0.55337 to 0.55294, saving model to /content/drive/MyDrive/model_ann_regression.h5\n",
            "Epoch 73/150\n",
            "13820/13820 [==============================] - 143s 10ms/step - loss: 0.2766 - rmse: 0.5233 - val_loss: 0.3103 - val_rmse: 0.5540\n",
            "\n",
            "Epoch 00073: val_rmse did not improve from 0.55294\n",
            "Epoch 74/150\n",
            "13820/13820 [==============================] - 142s 10ms/step - loss: 0.2762 - rmse: 0.5230 - val_loss: 0.3116 - val_rmse: 0.5551\n",
            "\n",
            "Epoch 00074: val_rmse did not improve from 0.55294\n",
            "Epoch 75/150\n",
            "13820/13820 [==============================] - 143s 10ms/step - loss: 0.2757 - rmse: 0.5225 - val_loss: 0.3098 - val_rmse: 0.5535\n",
            "\n",
            "Epoch 00075: val_rmse did not improve from 0.55294\n",
            "Epoch 76/150\n",
            "13820/13820 [==============================] - 142s 10ms/step - loss: 0.2754 - rmse: 0.5222 - val_loss: 0.3091 - val_rmse: 0.5529\n",
            "\n",
            "Epoch 00076: val_rmse improved from 0.55294 to 0.55287, saving model to /content/drive/MyDrive/model_ann_regression.h5\n",
            "Epoch 77/150\n",
            "13820/13820 [==============================] - 143s 10ms/step - loss: 0.2742 - rmse: 0.5211 - val_loss: 0.3091 - val_rmse: 0.5529\n",
            "\n",
            "Epoch 00077: val_rmse did not improve from 0.55287\n",
            "Epoch 78/150\n",
            "13820/13820 [==============================] - 143s 10ms/step - loss: 0.2735 - rmse: 0.5205 - val_loss: 0.3086 - val_rmse: 0.5525\n",
            "\n",
            "Epoch 00078: val_rmse improved from 0.55287 to 0.55249, saving model to /content/drive/MyDrive/model_ann_regression.h5\n",
            "Epoch 79/150\n",
            "13820/13820 [==============================] - 144s 10ms/step - loss: 0.2736 - rmse: 0.5205 - val_loss: 0.3084 - val_rmse: 0.5522\n",
            "\n",
            "Epoch 00079: val_rmse improved from 0.55249 to 0.55221, saving model to /content/drive/MyDrive/model_ann_regression.h5\n",
            "Epoch 80/150\n",
            "13820/13820 [==============================] - 143s 10ms/step - loss: 0.2718 - rmse: 0.5188 - val_loss: 0.3091 - val_rmse: 0.5529\n",
            "\n",
            "Epoch 00080: val_rmse did not improve from 0.55221\n",
            "Epoch 81/150\n",
            "13820/13820 [==============================] - 143s 10ms/step - loss: 0.2720 - rmse: 0.5189 - val_loss: 0.3074 - val_rmse: 0.5513\n",
            "\n",
            "Epoch 00081: val_rmse improved from 0.55221 to 0.55132, saving model to /content/drive/MyDrive/model_ann_regression.h5\n",
            "Epoch 82/150\n",
            "13820/13820 [==============================] - 144s 10ms/step - loss: 0.2722 - rmse: 0.5191 - val_loss: 0.3082 - val_rmse: 0.5519\n",
            "\n",
            "Epoch 00082: val_rmse did not improve from 0.55132\n",
            "Epoch 83/150\n",
            "13820/13820 [==============================] - 145s 11ms/step - loss: 0.2701 - rmse: 0.5172 - val_loss: 0.3046 - val_rmse: 0.5489\n",
            "\n",
            "Epoch 00083: val_rmse improved from 0.55132 to 0.54887, saving model to /content/drive/MyDrive/model_ann_regression.h5\n",
            "Epoch 84/150\n",
            "13820/13820 [==============================] - 144s 10ms/step - loss: 0.2697 - rmse: 0.5167 - val_loss: 0.3102 - val_rmse: 0.5538\n",
            "\n",
            "Epoch 00084: val_rmse did not improve from 0.54887\n",
            "Epoch 85/150\n",
            "13820/13820 [==============================] - 144s 10ms/step - loss: 0.2703 - rmse: 0.5174 - val_loss: 0.3059 - val_rmse: 0.5499\n",
            "\n",
            "Epoch 00085: val_rmse did not improve from 0.54887\n",
            "Epoch 86/150\n",
            "13820/13820 [==============================] - 145s 10ms/step - loss: 0.2699 - rmse: 0.5169 - val_loss: 0.3074 - val_rmse: 0.5513\n",
            "\n",
            "Epoch 00086: val_rmse did not improve from 0.54887\n",
            "Epoch 87/150\n",
            "13820/13820 [==============================] - 145s 10ms/step - loss: 0.2695 - rmse: 0.5165 - val_loss: 0.3057 - val_rmse: 0.5497\n",
            "\n",
            "Epoch 00087: val_rmse did not improve from 0.54887\n",
            "Epoch 88/150\n",
            "13820/13820 [==============================] - 145s 11ms/step - loss: 0.2680 - rmse: 0.5151 - val_loss: 0.3068 - val_rmse: 0.5508\n",
            "\n",
            "Epoch 00088: val_rmse did not improve from 0.54887\n"
          ],
          "name": "stdout"
        }
      ]
    },
    {
      "cell_type": "code",
      "metadata": {
        "id": "fgkq6z3uZfN9",
        "colab": {
          "base_uri": "https://localhost:8080/",
          "height": 413
        },
        "outputId": "8e906453-3b81-416c-b21c-15bfc48d35b3"
      },
      "source": [
        "plt.rcParams[\"font.weight\"] = \"bold\"\n",
        "plt.rcParams[\"axes.labelweight\"] = \"bold\"\n",
        "\n",
        "fig, (ax1, ax2) = plt.subplots(1, 2 , figsize = (15,6))\n",
        "\n",
        "ax1.plot(history.history['rmse'])\n",
        "ax1.plot(history.history['val_rmse'])\n",
        "ax1.set_title('RMSE')\n",
        "ax1.set_ylabel('RMSE')\n",
        "ax1.set_xlabel('epoch')\n",
        "ax1.legend(['train', 'valid'], loc='upper right' , prop={'size': 15})\n",
        "ax1.tick_params(axis ='both', labelsize = 15)\n",
        "\n",
        "ax2.plot(history.history['loss'])\n",
        "ax2.plot(history.history['val_loss'])\n",
        "ax2.set_title('MSE')\n",
        "ax2.set_ylabel('loss')\n",
        "ax2.set_xlabel('epoch')\n",
        "ax2.legend(['train', 'valid'], loc='upper right' , prop={'size': 15})\n",
        "ax2.tick_params(axis ='both', labelsize = 15)\n",
        "plt.show()"
      ],
      "execution_count": null,
      "outputs": [
        {
          "output_type": "display_data",
          "data": {
            "image/png": "[encoded data removed]",
            "text/plain": [
              "<Figure size 1080x432 with 2 Axes>"
            ]
          },
          "metadata": {
            "tags": []
          }
        }
      ]
    },
    {
      "cell_type": "code",
      "metadata": {
        "colab": {
          "base_uri": "https://localhost:8080/"
        },
        "id": "LKeK3dvuZkOq",
        "outputId": "8cc0b882-d29d-4a9c-b686-0d3c23a78d4f"
      },
      "source": [
        "del train, y\n",
        "gc.collect()"
      ],
      "execution_count": null,
      "outputs": [
        {
          "output_type": "execute_result",
          "data": {
            "text/plain": [
              "7887"
            ]
          },
          "metadata": {
            "tags": []
          },
          "execution_count": 21
        }
      ]
    }
  ]
}