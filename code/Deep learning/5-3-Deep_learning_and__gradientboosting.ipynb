{
  "nbformat": 4,
  "nbformat_minor": 0,
  "metadata": {
    "colab": {
      "name": "2-Deep_learning_and_ gradientboosting.ipynb",
      "provenance": [],
      "collapsed_sections": []
    },
    "kernelspec": {
      "name": "python3",
      "display_name": "Python 3"
    },
    "language_info": {
      "name": "python"
    },
    "accelerator": "GPU"
  },
  "cells": [
    {
      "cell_type": "code",
      "metadata": {
        "colab": {
          "base_uri": "https://localhost:8080/"
        },
        "id": "GMolYB6QT-iW",
        "outputId": "18951bd3-933d-4ad3-ac3d-ff1bc8e5636e"
      },
      "source": [
        "!pip install meteocalc"
      ],
      "execution_count": 1,
      "outputs": [
        {
          "output_type": "stream",
          "text": [
            "Requirement already satisfied: meteocalc in /usr/local/lib/python3.7/dist-packages (1.1.0)\n"
          ],
          "name": "stdout"
        }
      ]
    },
    {
      "cell_type": "code",
      "metadata": {
        "id": "6UML5po4UCOa"
      },
      "source": [
        "#from google.colab import drive\n",
        "#drive.mount('/content/drive')\n",
        "#!cp /content/drive/MyDrive/ashrae.zip ashrae.zip\n",
        "#!unzip -q ashrae.zip"
      ],
      "execution_count": 2,
      "outputs": []
    },
    {
      "cell_type": "code",
      "metadata": {
        "colab": {
          "base_uri": "https://localhost:8080/",
          "height": 17
        },
        "id": "Smkcw_qbUEVp",
        "outputId": "bb9f8e4e-2c6a-4638-8978-193ee71a4839"
      },
      "source": [
        "import warnings\n",
        "warnings.simplefilter(action='ignore', category=FutureWarning)\n",
        "\n",
        "import gc\n",
        "import pandas as pd\n",
        "import numpy as np\n",
        "import matplotlib.pyplot as plt\n",
        "import seaborn as sns\n",
        "import plotly.graph_objects as go\n",
        "import plotly.figure_factory as ff\n",
        "\n",
        "from IPython.core.pylabtools import figsize\n",
        "from plotly.offline import init_notebook_mode,iplot,plot\n",
        "%matplotlib inline\n",
        "init_notebook_mode(connected=True)\n",
        "plt.style.use(\"ggplot\")\n",
        "from sklearn.utils import shuffle\n",
        "\n",
        "from sklearn.preprocessing import  LabelEncoder\n",
        "from sklearn.model_selection import train_test_split\n",
        "from sklearn.ensemble import GradientBoostingRegressor\n",
        "from sklearn.metrics import mean_squared_error\n",
        "\n",
        "from keras.models import load_model\n",
        "from keras.models import Model \n",
        "from keras.layers import Input\n",
        "import keras.backend as K\n",
        "\n",
        "# importer les fichiers .py sur le notebook\n",
        "%run utils.py\n",
        "%run feature_enginering.py"
      ],
      "execution_count": 3,
      "outputs": [
        {
          "output_type": "display_data",
          "data": {
            "text/html": [
              "        <script type=\"text/javascript\">\n",
              "        window.PlotlyConfig = {MathJaxConfig: 'local'};\n",
              "        if (window.MathJax) {MathJax.Hub.Config({SVG: {font: \"STIX-Web\"}});}\n",
              "        if (typeof require !== 'undefined') {\n",
              "        require.undef(\"plotly\");\n",
              "        requirejs.config({\n",
              "            paths: {\n",
              "                'plotly': ['https://cdn.plot.ly/plotly-latest.min']\n",
              "            }\n",
              "        });\n",
              "        require(['plotly'], function(Plotly) {\n",
              "            window._Plotly = Plotly;\n",
              "        });\n",
              "        }\n",
              "        </script>\n",
              "        "
            ]
          },
          "metadata": {
            "tags": []
          }
        }
      ]
    },
    {
      "cell_type": "code",
      "metadata": {
        "id": "gcthDT_gULDz"
      },
      "source": [
        "building = pd.read_csv('/content/building_metadata.csv')\n",
        "weather = pd.read_csv('/content/weather_train.csv')\n",
        "train = pd.read_csv('/content/train.csv')\n",
        "\n",
        "# convertir du kwh vers kbtu\n",
        "\n",
        "train.loc[(train.meter == 0),'meter_reading'] = train['meter_reading'] * 0.2931"
      ],
      "execution_count": 4,
      "outputs": []
    },
    {
      "cell_type": "code",
      "metadata": {
        "id": "yb587hZ3UOKR"
      },
      "source": [
        "building = reduce_mem_usage(building)\n",
        "weather  = reduce_mem_usage(weather)\n",
        "train = reduce_mem_usage(train)"
      ],
      "execution_count": 5,
      "outputs": []
    },
    {
      "cell_type": "code",
      "metadata": {
        "id": "vweXh0HgUPrk"
      },
      "source": [
        "building = prepare_building_data(building)\n",
        "weather = prepare_weather_data(weather)\n",
        "train  = time_features(train)"
      ],
      "execution_count": 6,
      "outputs": []
    },
    {
      "cell_type": "code",
      "metadata": {
        "id": "HwaczVNvURCp"
      },
      "source": [
        "def join_data(data , weather_data , building_data):\n",
        "\n",
        "    data = data.merge(building_data, on = 'building_id' , how='left')\n",
        "    data = data.merge(weather_data , on = ['site_id','timestamp'], how= 'left')\n",
        "    data = shuffle(data, random_state=0)\n",
        "\n",
        "    return data"
      ],
      "execution_count": 7,
      "outputs": []
    },
    {
      "cell_type": "code",
      "metadata": {
        "colab": {
          "base_uri": "https://localhost:8080/"
        },
        "id": "mXLNfoOjURci",
        "outputId": "b4ff2665-1f42-42d1-850d-a33e33d5bbb0"
      },
      "source": [
        "train = join_data(train , weather , building)\n",
        "\n",
        "train['log_meter_reading'] = np.log(train['meter_reading'] + 1)\n",
        "train['month_group'] = train['month_group'] - 1\n",
        "\n",
        "train = train.drop(['meter_reading'] , axis= 1)\n",
        "\n",
        "train  = reduce_mem_usage(train)\n",
        "del weather, building\n",
        "gc.collect()"
      ],
      "execution_count": 8,
      "outputs": [
        {
          "output_type": "execute_result",
          "data": {
            "text/plain": [
              "26"
            ]
          },
          "metadata": {
            "tags": []
          },
          "execution_count": 8
        }
      ]
    },
    {
      "cell_type": "code",
      "metadata": {
        "id": "ob2fn0H7UUqr"
      },
      "source": [
        "cols_to_drop = ['year_built' , 'floor_count' , 'timestamp']\n",
        "\n",
        "cols_to_scale = ['square_feet' , 'air_temperature' , 'dew_temperature' ,\n",
        "                 'wind_speed', 'cloud_coverage', 'sea_level_pressure', 'wind_direction',\n",
        "                 'relative_humidity', 'feels_like']\n",
        "\n",
        "cols_to_encode = ['primary_use' , 'city' , 'country']\n",
        "\n",
        "cols_to_fill_mean = ['air_temperature', 'cloud_coverage', 'dew_temperature', 'precip_depth_1_hr',\n",
        "                       'sea_level_pressure','wind_direction' , 'wind_speed', 'relative_humidity' ,\n",
        "                       'feels_like']\n",
        "\n",
        "cols_to_fill_categ = ['city' , 'country' , 'is_holiday']\n",
        "\n",
        "\n",
        "Filler = Data_Filler(cols_to_fill_mean,\n",
        "                     cols_to_fill_categ)\n",
        "\n",
        "Filler.fit(train)\n",
        "train = Filler.transform(train)\n",
        "\n",
        "ScalerEncoder = Data_Scaler_Encoder(cols_to_scale ,\n",
        "                                    cols_to_drop , \n",
        "                                    cols_to_encode)\n",
        "ScalerEncoder.fit(train)\n",
        "train = ScalerEncoder.transform(train)"
      ],
      "execution_count": 9,
      "outputs": []
    },
    {
      "cell_type": "code",
      "metadata": {
        "colab": {
          "base_uri": "https://localhost:8080/",
          "height": 680
        },
        "id": "Lht1mGzFUXBT",
        "outputId": "a4c2b48c-155a-4304-bff0-50c714362af0"
      },
      "source": [
        "plt.figure(figsize = (10 , 10))\n",
        "sns.heatmap(train[cols_to_scale + ['log_meter_reading']].corr(), annot=True)\n",
        "plt.show()"
      ],
      "execution_count": 10,
      "outputs": [
        {
          "output_type": "display_data",
          "data": {
            "image/png": "[encoded data removed]",
            "text/plain": [
              "<Figure size 720x720 with 2 Axes>"
            ]
          },
          "metadata": {
            "tags": []
          }
        }
      ]
    },
    {
      "cell_type": "markdown",
      "metadata": {
        "id": "qELTCbSBUZ4i"
      },
      "source": [
        "* air_temperature et dew_temperature sont correlees, on enleve une. (air_temperature)\n",
        "\n",
        "* wind_direction et wind_speed sont correlees, on enleve une. (wind_direction)\n"
      ]
    },
    {
      "cell_type": "code",
      "metadata": {
        "id": "JPNL8MLGVsTN"
      },
      "source": [
        "def rmse(y_true, y_pred):\n",
        "    \"\"\" root_mean_squared_error \"\"\"\n",
        "    return K.sqrt(K.mean(K.square(y_pred - y_true)))"
      ],
      "execution_count": 11,
      "outputs": []
    },
    {
      "cell_type": "code",
      "metadata": {
        "id": "0b1QGleIUwev"
      },
      "source": [
        "model = load_model('/content/drive/MyDrive/model_ann_regression.h5' ,\n",
        "                    custom_objects = {'rmse' : rmse})"
      ],
      "execution_count": 12,
      "outputs": []
    },
    {
      "cell_type": "code",
      "metadata": {
        "colab": {
          "base_uri": "https://localhost:8080/"
        },
        "id": "Oh3uga06XXch",
        "outputId": "8192d7b0-8428-4cce-f590-a2c6fee4adbb"
      },
      "source": [
        "model.get_layer('second_to_last_layer').output"
      ],
      "execution_count": 13,
      "outputs": [
        {
          "output_type": "execute_result",
          "data": {
            "text/plain": [
              "<KerasTensor: shape=(None, 3) dtype=float32 (created by layer 'second_to_last_layer')>"
            ]
          },
          "metadata": {
            "tags": []
          },
          "execution_count": 13
        }
      ]
    },
    {
      "cell_type": "code",
      "metadata": {
        "id": "wXQLAw5-VXd0"
      },
      "source": [
        "transfered_model = Model(model.input , model.get_layer('second_to_last_layer').output )"
      ],
      "execution_count": 14,
      "outputs": []
    },
    {
      "cell_type": "code",
      "metadata": {
        "colab": {
          "base_uri": "https://localhost:8080/"
        },
        "id": "CmHbq4XmYHZy",
        "outputId": "eb84d8d9-454e-4ffe-c634-c3b4641d9f66"
      },
      "source": [
        "del model\n",
        "gc.collect()"
      ],
      "execution_count": 15,
      "outputs": [
        {
          "output_type": "execute_result",
          "data": {
            "text/plain": [
              "9709"
            ]
          },
          "metadata": {
            "tags": []
          },
          "execution_count": 15
        }
      ]
    },
    {
      "cell_type": "code",
      "metadata": {
        "colab": {
          "base_uri": "https://localhost:8080/",
          "height": 217
        },
        "id": "wexMXJMGYdbj",
        "outputId": "37dc8055-4d3f-4cb1-8ca6-d80205e6d2b0"
      },
      "source": [
        "train.head()"
      ],
      "execution_count": 16,
      "outputs": [
        {
          "output_type": "execute_result",
          "data": {
            "text/html": [
              "<div>\n",
              "<style scoped>\n",
              "    .dataframe tbody tr th:only-of-type {\n",
              "        vertical-align: middle;\n",
              "    }\n",
              "\n",
              "    .dataframe tbody tr th {\n",
              "        vertical-align: top;\n",
              "    }\n",
              "\n",
              "    .dataframe thead th {\n",
              "        text-align: right;\n",
              "    }\n",
              "</style>\n",
              "<table border=\"1\" class=\"dataframe\">\n",
              "  <thead>\n",
              "    <tr style=\"text-align: right;\">\n",
              "      <th></th>\n",
              "      <th>building_id</th>\n",
              "      <th>meter</th>\n",
              "      <th>hour</th>\n",
              "      <th>dayofweek</th>\n",
              "      <th>month_group</th>\n",
              "      <th>site_id</th>\n",
              "      <th>primary_use</th>\n",
              "      <th>square_feet</th>\n",
              "      <th>air_temperature</th>\n",
              "      <th>cloud_coverage</th>\n",
              "      <th>dew_temperature</th>\n",
              "      <th>precip_depth_1_hr</th>\n",
              "      <th>sea_level_pressure</th>\n",
              "      <th>wind_direction</th>\n",
              "      <th>wind_speed</th>\n",
              "      <th>relative_humidity</th>\n",
              "      <th>feels_like</th>\n",
              "      <th>city</th>\n",
              "      <th>country</th>\n",
              "      <th>is_holiday</th>\n",
              "      <th>log_meter_reading</th>\n",
              "    </tr>\n",
              "  </thead>\n",
              "  <tbody>\n",
              "    <tr>\n",
              "      <th>11990877</th>\n",
              "      <td>774</td>\n",
              "      <td>1</td>\n",
              "      <td>8</td>\n",
              "      <td>6</td>\n",
              "      <td>2</td>\n",
              "      <td>6</td>\n",
              "      <td>4</td>\n",
              "      <td>-0.121928</td>\n",
              "      <td>0.622309</td>\n",
              "      <td>-0.493968</td>\n",
              "      <td>1.335863</td>\n",
              "      <td>0.000000</td>\n",
              "      <td>0.971994</td>\n",
              "      <td>-1.508241</td>\n",
              "      <td>-1.586555</td>\n",
              "      <td>1.220804</td>\n",
              "      <td>0.625725</td>\n",
              "      <td>12</td>\n",
              "      <td>3</td>\n",
              "      <td>0.0</td>\n",
              "      <td>3.614396</td>\n",
              "    </tr>\n",
              "    <tr>\n",
              "      <th>15256244</th>\n",
              "      <td>206</td>\n",
              "      <td>0</td>\n",
              "      <td>14</td>\n",
              "      <td>1</td>\n",
              "      <td>2</td>\n",
              "      <td>2</td>\n",
              "      <td>9</td>\n",
              "      <td>2.032176</td>\n",
              "      <td>-0.004326</td>\n",
              "      <td>-0.902715</td>\n",
              "      <td>-0.443634</td>\n",
              "      <td>0.000000</td>\n",
              "      <td>0.950487</td>\n",
              "      <td>-0.693963</td>\n",
              "      <td>-0.905198</td>\n",
              "      <td>-0.907559</td>\n",
              "      <td>0.046760</td>\n",
              "      <td>11</td>\n",
              "      <td>3</td>\n",
              "      <td>0.0</td>\n",
              "      <td>4.209454</td>\n",
              "    </tr>\n",
              "    <tr>\n",
              "      <th>18401495</th>\n",
              "      <td>1269</td>\n",
              "      <td>0</td>\n",
              "      <td>10</td>\n",
              "      <td>1</td>\n",
              "      <td>2</td>\n",
              "      <td>14</td>\n",
              "      <td>3</td>\n",
              "      <td>-0.438739</td>\n",
              "      <td>-0.733841</td>\n",
              "      <td>-0.902715</td>\n",
              "      <td>-0.273682</td>\n",
              "      <td>0.000000</td>\n",
              "      <td>1.015009</td>\n",
              "      <td>-0.603487</td>\n",
              "      <td>-0.405537</td>\n",
              "      <td>0.755967</td>\n",
              "      <td>-0.627258</td>\n",
              "      <td>7</td>\n",
              "      <td>3</td>\n",
              "      <td>0.0</td>\n",
              "      <td>2.241073</td>\n",
              "    </tr>\n",
              "    <tr>\n",
              "      <th>15573710</th>\n",
              "      <td>951</td>\n",
              "      <td>0</td>\n",
              "      <td>4</td>\n",
              "      <td>0</td>\n",
              "      <td>2</td>\n",
              "      <td>9</td>\n",
              "      <td>6</td>\n",
              "      <td>-0.032943</td>\n",
              "      <td>0.098554</td>\n",
              "      <td>-0.902715</td>\n",
              "      <td>-0.213699</td>\n",
              "      <td>0.000000</td>\n",
              "      <td>1.066786</td>\n",
              "      <td>-1.508241</td>\n",
              "      <td>-1.586555</td>\n",
              "      <td>-0.727844</td>\n",
              "      <td>0.141815</td>\n",
              "      <td>0</td>\n",
              "      <td>3</td>\n",
              "      <td>1.0</td>\n",
              "      <td>3.529892</td>\n",
              "    </tr>\n",
              "    <tr>\n",
              "      <th>6515439</th>\n",
              "      <td>656</td>\n",
              "      <td>0</td>\n",
              "      <td>21</td>\n",
              "      <td>6</td>\n",
              "      <td>1</td>\n",
              "      <td>5</td>\n",
              "      <td>7</td>\n",
              "      <td>-0.870854</td>\n",
              "      <td>-0.481317</td>\n",
              "      <td>-0.902715</td>\n",
              "      <td>0.226177</td>\n",
              "      <td>-0.041667</td>\n",
              "      <td>0.990017</td>\n",
              "      <td>1.206021</td>\n",
              "      <td>-0.405537</td>\n",
              "      <td>1.372431</td>\n",
              "      <td>-0.393944</td>\n",
              "      <td>10</td>\n",
              "      <td>2</td>\n",
              "      <td>0.0</td>\n",
              "      <td>2.359378</td>\n",
              "    </tr>\n",
              "  </tbody>\n",
              "</table>\n",
              "</div>"
            ],
            "text/plain": [
              "          building_id  meter  hour  ...  country  is_holiday  log_meter_reading\n",
              "11990877          774      1     8  ...        3         0.0           3.614396\n",
              "15256244          206      0    14  ...        3         0.0           4.209454\n",
              "18401495         1269      0    10  ...        3         0.0           2.241073\n",
              "15573710          951      0     4  ...        3         1.0           3.529892\n",
              "6515439           656      0    21  ...        2         0.0           2.359378\n",
              "\n",
              "[5 rows x 21 columns]"
            ]
          },
          "metadata": {
            "tags": []
          },
          "execution_count": 16
        }
      ]
    },
    {
      "cell_type": "code",
      "metadata": {
        "id": "dqEp7LD-ZJbw"
      },
      "source": [
        "categorical_vars = ['building_id' , 'meter', 'hour', 'dayofweek' ,\n",
        "                    'month_group', 'site_id' , 'primary_use', \n",
        "                    'city', 'country', 'is_holiday']\n",
        "                    \n",
        "numerical_vars = ['square_feet', 'cloud_coverage', 'dew_temperature',\n",
        "                  'precip_depth_1_hr', 'sea_level_pressure', 'wind_speed', \n",
        "                  'relative_humidity' , 'feels_like']\n",
        "\n",
        "target_var = 'log_meter_reading'\n",
        "\n",
        "co_vars = categorical_vars + numerical_vars"
      ],
      "execution_count": 17,
      "outputs": []
    },
    {
      "cell_type": "code",
      "metadata": {
        "id": "O2rvdRt3UjAC"
      },
      "source": [
        "y = train[target_var].values\n",
        "y = y.reshape(len(y))\n",
        "\n",
        "train = train.drop( [target_var] , axis = 1)"
      ],
      "execution_count": null,
      "outputs": []
    },
    {
      "cell_type": "code",
      "metadata": {
        "colab": {
          "base_uri": "https://localhost:8080/"
        },
        "id": "_H0vCKqhXkGi",
        "outputId": "9f6490f2-3daf-46e6-cb1c-961f17c084f6"
      },
      "source": [
        "step_size = 500000\n",
        "nrows = train.shape[0]\n",
        "num_steps = nrows//step_size\n",
        "print('nombre d\\'iterations' , num_steps)\n",
        "new_data = []\n",
        "\n",
        "for j in range(num_steps+1):\n",
        "    start_idx = j*step_size\n",
        "    end_idx = (j+1)*step_size\n",
        "    if j == num_steps : \n",
        "        start_idx = j*step_size\n",
        "        end_idx = nrows\n",
        "      \n",
        "    train_tmp = train.iloc[start_idx:end_idx]\n",
        "\n",
        "    train_tmp = train_tmp[co_vars].values\n",
        "    train_tmp = [ train_tmp[:,i].flatten() for i in range(len(train_tmp[0,:])) ]\n",
        "    \n",
        "    new_vectors = transfered_model.predict(train_tmp)\n",
        "    new_data.append(new_vectors)\n",
        "    if j%10==0:\n",
        "        print('iteration' , j)"
      ],
      "execution_count": null,
      "outputs": [
        {
          "output_type": "stream",
          "text": [
            "nombre d'iterations 40\n",
            "iteration 0\n",
            "iteration 10\n",
            "iteration 20\n",
            "iteration 30\n",
            "iteration 40\n"
          ],
          "name": "stdout"
        }
      ]
    },
    {
      "cell_type": "code",
      "metadata": {
        "id": "U0WT5c3Ha9q1"
      },
      "source": [
        "new_data = np.concatenate(new_data , axis=0)\n",
        "new_data = pd.DataFrame(new_data, columns = ['V1','V2','V3'])\n",
        "new_data['log_meter_reading'] = y"
      ],
      "execution_count": null,
      "outputs": []
    },
    {
      "cell_type": "code",
      "metadata": {
        "colab": {
          "base_uri": "https://localhost:8080/",
          "height": 197
        },
        "id": "dUYogWFukbBR",
        "outputId": "2e0a08be-0bc0-4021-b36d-35d0cb5ff74b"
      },
      "source": [
        "new_data.head()"
      ],
      "execution_count": null,
      "outputs": [
        {
          "output_type": "execute_result",
          "data": {
            "text/html": [
              "<div>\n",
              "<style scoped>\n",
              "    .dataframe tbody tr th:only-of-type {\n",
              "        vertical-align: middle;\n",
              "    }\n",
              "\n",
              "    .dataframe tbody tr th {\n",
              "        vertical-align: top;\n",
              "    }\n",
              "\n",
              "    .dataframe thead th {\n",
              "        text-align: right;\n",
              "    }\n",
              "</style>\n",
              "<table border=\"1\" class=\"dataframe\">\n",
              "  <thead>\n",
              "    <tr style=\"text-align: right;\">\n",
              "      <th></th>\n",
              "      <th>V1</th>\n",
              "      <th>V2</th>\n",
              "      <th>V3</th>\n",
              "      <th>log_meter_reading</th>\n",
              "    </tr>\n",
              "  </thead>\n",
              "  <tbody>\n",
              "    <tr>\n",
              "      <th>0</th>\n",
              "      <td>0.594672</td>\n",
              "      <td>72.893372</td>\n",
              "      <td>-0.348518</td>\n",
              "      <td>3.614396</td>\n",
              "    </tr>\n",
              "    <tr>\n",
              "      <th>1</th>\n",
              "      <td>0.966942</td>\n",
              "      <td>76.739189</td>\n",
              "      <td>0.069707</td>\n",
              "      <td>4.209454</td>\n",
              "    </tr>\n",
              "    <tr>\n",
              "      <th>2</th>\n",
              "      <td>0.011428</td>\n",
              "      <td>44.236275</td>\n",
              "      <td>-0.205336</td>\n",
              "      <td>2.241073</td>\n",
              "    </tr>\n",
              "    <tr>\n",
              "      <th>3</th>\n",
              "      <td>0.679970</td>\n",
              "      <td>56.646912</td>\n",
              "      <td>-0.182595</td>\n",
              "      <td>3.529892</td>\n",
              "    </tr>\n",
              "    <tr>\n",
              "      <th>4</th>\n",
              "      <td>0.271904</td>\n",
              "      <td>11.262715</td>\n",
              "      <td>0.063951</td>\n",
              "      <td>2.359378</td>\n",
              "    </tr>\n",
              "  </tbody>\n",
              "</table>\n",
              "</div>"
            ],
            "text/plain": [
              "         V1         V2        V3  log_meter_reading\n",
              "0  0.594672  72.893372 -0.348518           3.614396\n",
              "1  0.966942  76.739189  0.069707           4.209454\n",
              "2  0.011428  44.236275 -0.205336           2.241073\n",
              "3  0.679970  56.646912 -0.182595           3.529892\n",
              "4  0.271904  11.262715  0.063951           2.359378"
            ]
          },
          "metadata": {
            "tags": []
          },
          "execution_count": 35
        }
      ]
    },
    {
      "cell_type": "code",
      "metadata": {
        "id": "2QLFe5udjsXX"
      },
      "source": [
        "new_data.to_csv('new_data.csv' , index=False)"
      ],
      "execution_count": null,
      "outputs": []
    },
    {
      "cell_type": "code",
      "metadata": {
        "id": "AUJGo4fkE0UM"
      },
      "source": [
        "del new_data\n",
        "gc.collect()"
      ],
      "execution_count": null,
      "outputs": []
    },
    {
      "cell_type": "code",
      "metadata": {
        "colab": {
          "base_uri": "https://localhost:8080/"
        },
        "id": "1gJEQfKljxlI",
        "outputId": "bafc9bed-581a-4838-cf8b-8d04066b6dfd"
      },
      "source": [
        "del train, train_tmp\n",
        "gc.collect()"
      ],
      "execution_count": null,
      "outputs": [
        {
          "output_type": "execute_result",
          "data": {
            "text/plain": [
              "4577"
            ]
          },
          "metadata": {
            "tags": []
          },
          "execution_count": 36
        }
      ]
    },
    {
      "cell_type": "code",
      "metadata": {
        "id": "B4cfJ8Q9-mrY"
      },
      "source": [
        "!cp /content/drive/MyDrive/new_data.csv /content/new_data.csv"
      ],
      "execution_count": 19,
      "outputs": []
    },
    {
      "cell_type": "code",
      "metadata": {
        "id": "PCjd2OSjm-a2"
      },
      "source": [
        "new_data = pd.read_csv('/content/new_data.csv')\n",
        "new_data = reduce_mem_usage(new_data)"
      ],
      "execution_count": 22,
      "outputs": []
    },
    {
      "cell_type": "code",
      "metadata": {
        "colab": {
          "base_uri": "https://localhost:8080/",
          "height": 281
        },
        "id": "NKJR_o5ynUA4",
        "outputId": "1486488a-6aa8-4036-fac0-4f639223f13e"
      },
      "source": [
        "new_columns = ['V1' , 'V2' , 'V3']\n",
        "fig, axes = plt.subplots(1, 3 , figsize = (10,4))\n",
        "for i in range(len(new_columns)):\n",
        "    axes[i].hist(new_data[new_columns[i]], bins=10)\n",
        "    axes[i].set_title(new_columns[i])\n",
        "plt.show()"
      ],
      "execution_count": 23,
      "outputs": [
        {
          "output_type": "display_data",
          "data": {
            "image/png": "[encoded data removed]",
            "text/plain": [
              "<Figure size 720x288 with 3 Axes>"
            ]
          },
          "metadata": {
            "tags": []
          }
        }
      ]
    },
    {
      "cell_type": "code",
      "metadata": {
        "colab": {
          "base_uri": "https://localhost:8080/",
          "height": 419
        },
        "id": "mIsFCZPKDRzY",
        "outputId": "e8ddb3cb-5675-49bb-9684-36901c4a2f20"
      },
      "source": [
        "plt.rcParams[\"font.weight\"] = \"bold\"\n",
        "plt.rcParams[\"axes.labelweight\"] = \"bold\"\n",
        "\n",
        "plt.figure(figsize = (5 , 5))\n",
        "sns.heatmap(new_data.corr(), annot=True)\n",
        "plt.show()"
      ],
      "execution_count": 24,
      "outputs": [
        {
          "output_type": "display_data",
          "data": {
            "image/png": "[encoded data removed]",
            "text/plain": [
              "<Figure size 360x360 with 2 Axes>"
            ]
          },
          "metadata": {
            "tags": []
          }
        }
      ]
    },
    {
      "cell_type": "markdown",
      "metadata": {
        "id": "QQRit7U-EEiE"
      },
      "source": [
        "* il y a une correlation entre V1 et V2 , on supprime une variable, et garder une. on garde V2 parc qu'elle a une correlation plus grande avec la variable à predire."
      ]
    },
    {
      "cell_type": "code",
      "metadata": {
        "colab": {
          "base_uri": "https://localhost:8080/",
          "height": 320
        },
        "id": "vZWkaw1ZnA-l",
        "outputId": "ed0ad410-6166-4263-e616-f427eeaa6b3c"
      },
      "source": [
        "plt.rcParams[\"font.weight\"] = \"bold\"\n",
        "plt.rcParams[\"axes.labelweight\"] = \"bold\"\n",
        "\n",
        "plt.figure(figsize = (5 , 5))\n",
        "plt.scatter(new_data.V2.values, new_data.log_meter_reading.values)\n",
        "plt.show()"
      ],
      "execution_count": null,
      "outputs": [
        {
          "output_type": "display_data",
          "data": {
            "image/png": "[encoded data removed]",
            "text/plain": [
              "<Figure size 360x360 with 1 Axes>"
            ]
          },
          "metadata": {
            "tags": []
          }
        }
      ]
    },
    {
      "cell_type": "code",
      "metadata": {
        "colab": {
          "base_uri": "https://localhost:8080/"
        },
        "id": "OkoQ1x7nEyRc",
        "outputId": "0117ddf3-2852-4fa2-ab52-911f4c9a8394"
      },
      "source": [
        "new_data = pd.read_csv('/content/new_data.csv')\n",
        "new_data = reduce_mem_usage(new_data)\n",
        "new_data = new_data.drop(['V1'] , axis = 1)\n",
        "\n",
        "y = new_data.log_meter_reading.values\n",
        "X = new_data.drop(['log_meter_reading'] , axis = 1)\n",
        "\n",
        "del new_data\n",
        "gc.collect()"
      ],
      "execution_count": 18,
      "outputs": [
        {
          "output_type": "execute_result",
          "data": {
            "text/plain": [
              "0"
            ]
          },
          "metadata": {
            "tags": []
          },
          "execution_count": 18
        }
      ]
    },
    {
      "cell_type": "code",
      "metadata": {
        "id": "iL4nlkmeGjck",
        "colab": {
          "base_uri": "https://localhost:8080/"
        },
        "outputId": "1f005664-88d2-4d2a-b61e-760ebb329e88"
      },
      "source": [
        "\n",
        "GBR =  GradientBoostingRegressor(n_estimators = 100 ,verbose = 1)\n",
        "\n",
        "GBR.fit(X , y)"
      ],
      "execution_count": 19,
      "outputs": [
        {
          "output_type": "stream",
          "text": [
            "      Iter       Train Loss   Remaining Time \n",
            "         1           3.8643           59.31m\n",
            "         2           3.1957           60.13m\n",
            "         3           2.6487           59.04m\n",
            "         4           2.2052           58.46m\n",
            "         5           1.8415           57.54m\n",
            "         6           1.5476           56.52m\n",
            "         7           1.3060           56.12m\n",
            "         8           1.1100           54.98m\n",
            "         9           0.9508           53.97m\n",
            "        10           0.8192           53.43m\n",
            "        20           0.3138           46.91m\n",
            "        30           0.2449           40.68m\n",
            "        40           0.2349           34.60m\n",
            "        50           0.2333           28.77m\n",
            "        60           0.2331           22.92m\n",
            "        70           0.2330           17.18m\n",
            "        80           0.2329           11.45m\n",
            "        90           0.2329            5.71m\n",
            "       100           0.2329            0.00s\n"
          ],
          "name": "stdout"
        },
        {
          "output_type": "execute_result",
          "data": {
            "text/plain": [
              "GradientBoostingRegressor(alpha=0.9, ccp_alpha=0.0, criterion='friedman_mse',\n",
              "                          init=None, learning_rate=0.1, loss='ls', max_depth=3,\n",
              "                          max_features=None, max_leaf_nodes=None,\n",
              "                          min_impurity_decrease=0.0, min_impurity_split=None,\n",
              "                          min_samples_leaf=1, min_samples_split=2,\n",
              "                          min_weight_fraction_leaf=0.0, n_estimators=100,\n",
              "                          n_iter_no_change=None, presort='deprecated',\n",
              "                          random_state=None, subsample=1.0, tol=0.0001,\n",
              "                          validation_fraction=0.1, verbose=1, warm_start=False)"
            ]
          },
          "metadata": {
            "tags": []
          },
          "execution_count": 19
        }
      ]
    },
    {
      "cell_type": "code",
      "metadata": {
        "colab": {
          "base_uri": "https://localhost:8080/"
        },
        "id": "lm2G2ytSFc4F",
        "outputId": "2af23241-6716-4d40-f177-38e05254e5b3"
      },
      "source": [
        "del X,y\n",
        "gc.collect()"
      ],
      "execution_count": 45,
      "outputs": [
        {
          "output_type": "execute_result",
          "data": {
            "text/plain": [
              "330"
            ]
          },
          "metadata": {
            "tags": []
          },
          "execution_count": 45
        }
      ]
    },
    {
      "cell_type": "code",
      "metadata": {
        "id": "ilDi9FtKsGwk"
      },
      "source": [
        "test = pd.read_csv('/content/test.csv')\n",
        "weather_test = pd.read_csv('/content/weather_test.csv')\n",
        "building = pd.read_csv('/content/building_metadata.csv')\n",
        "\n",
        "\n",
        "weather_test = prepare_weather_data(weather_test)\n",
        "building = prepare_building_data(building)\n",
        "test = time_features(test)\n",
        "\n",
        "weather_test  = reduce_mem_usage(weather_test)\n",
        "building = reduce_mem_usage(building)\n",
        "test = reduce_mem_usage(test)"
      ],
      "execution_count": 20,
      "outputs": []
    },
    {
      "cell_type": "code",
      "metadata": {
        "colab": {
          "base_uri": "https://localhost:8080/"
        },
        "id": "mPGFtQ0etPtg",
        "outputId": "c8d4b991-c0b9-4f09-aed0-04bdc60f2885"
      },
      "source": [
        "co_vars = categorical_vars + numerical_vars\n",
        "\n",
        "step_size = 500000\n",
        "nrows = test.shape[0]\n",
        "num_steps = nrows//step_size\n",
        "print('nombre d\\'iterations' , num_steps)\n",
        "\n",
        "row_id = np.array([])\n",
        "meter_values = np.array([])\n",
        "y_pred = np.array([])\n",
        "\n",
        "for j in range(num_steps+1):\n",
        "    start_idx = j*step_size\n",
        "    end_idx = (j+1)*step_size\n",
        "    if j == num_steps : \n",
        "        start_idx = j*step_size\n",
        "        end_idx = nrows\n",
        "      \n",
        "    test_tmp = test.iloc[start_idx:end_idx]\n",
        "    \n",
        "    test_tmp = join_data(test_tmp , weather_test , building)\n",
        "    test_tmp = Filler.transform(test_tmp)\n",
        "    test_tmp = ScalerEncoder.transform(test_tmp)\n",
        "    test_tmp['month_group'] = test_tmp['month_group'] - 1\n",
        "    \n",
        "    row_id_tmp = test_tmp['row_id'].values\n",
        "    row_id = np.concatenate((row_id,row_id_tmp))\n",
        "\n",
        "    test_tmp = test_tmp.drop(['row_id'] , axis= 1)\n",
        "\n",
        "    meter_values_tmp = test_tmp['meter'].values\n",
        "    meter_values = np.concatenate((meter_values,meter_values_tmp))\n",
        "\n",
        "    test_tmp = test_tmp[co_vars].values\n",
        "    test_tmp = [ test_tmp[:,i].flatten() for i in range(len(test_tmp[0,:])) ]\n",
        "    \n",
        "    new_test_data = transfered_model.predict(test_tmp)\n",
        "    new_test_data = new_test_data[:,1:3] # on recupere V2 , V3\n",
        "    #new_test_data = poly.transform(new_test_data)\n",
        "    \n",
        "    predictions = GBR.predict(new_test_data)\n",
        "    y_pred = np.concatenate((y_pred,predictions))\n",
        "    \n",
        "    if j%10==0:\n",
        "        print('iteration' , j)"
      ],
      "execution_count": 21,
      "outputs": [
        {
          "output_type": "stream",
          "text": [
            "nombre d'iterations 83\n",
            "iteration 0\n",
            "iteration 10\n",
            "iteration 20\n",
            "iteration 30\n",
            "iteration 40\n",
            "iteration 50\n",
            "iteration 60\n",
            "iteration 70\n",
            "iteration 80\n"
          ],
          "name": "stdout"
        }
      ]
    },
    {
      "cell_type": "code",
      "metadata": {
        "id": "krhmKmJyvVhu",
        "colab": {
          "base_uri": "https://localhost:8080/"
        },
        "outputId": "cf95203d-7ba5-4c59-f341-a4b1ec6c804c"
      },
      "source": [
        "del building, weather_test, test\n",
        "gc.collect()"
      ],
      "execution_count": 46,
      "outputs": [
        {
          "output_type": "execute_result",
          "data": {
            "text/plain": [
              "129"
            ]
          },
          "metadata": {
            "tags": []
          },
          "execution_count": 46
        }
      ]
    },
    {
      "cell_type": "code",
      "metadata": {
        "colab": {
          "base_uri": "https://localhost:8080/"
        },
        "id": "QHKotx7_to2e",
        "outputId": "550e1dd0-7402-42ac-96d0-7097d5956901"
      },
      "source": [
        "pred_final = {'row_id': row_id, 'meter' : meter_values , 'meter_reading': y_pred}\n",
        "pred_final = pd.DataFrame(data = pred_final)\n",
        "pred_final.row_id = pred_final.row_id.astype('int32')\n",
        "pred_final['meter_reading'] = np.exp(pred_final['meter_reading']) - 1\n",
        "\n",
        "KWH_TO_KBTU = 0.2931\n",
        "pred_final.loc[(pred_final.meter == 0),'meter_reading'] = pred_final['meter_reading'] / KWH_TO_KBTU \n",
        "\n",
        "pred_final = pred_final.sort_values(by=['row_id'])\n",
        "pred_final = pred_final.drop(['meter'] , axis = 1)\n",
        "\n",
        "pred_final.loc[pred_final.meter_reading < 0 , 'meter_reading'] = 0\n",
        "\n",
        "pred_final.row_id.unique().shape"
      ],
      "execution_count": 22,
      "outputs": [
        {
          "output_type": "execute_result",
          "data": {
            "text/plain": [
              "(41697600,)"
            ]
          },
          "metadata": {
            "tags": []
          },
          "execution_count": 22
        }
      ]
    },
    {
      "cell_type": "code",
      "metadata": {
        "colab": {
          "base_uri": "https://localhost:8080/",
          "height": 405
        },
        "id": "1OgvQk5N-ofj",
        "outputId": "b2c7bff5-f880-4ac0-beb5-650e6e1aada2"
      },
      "source": [
        "pred_final"
      ],
      "execution_count": 23,
      "outputs": [
        {
          "output_type": "execute_result",
          "data": {
            "text/html": [
              "<div>\n",
              "<style scoped>\n",
              "    .dataframe tbody tr th:only-of-type {\n",
              "        vertical-align: middle;\n",
              "    }\n",
              "\n",
              "    .dataframe tbody tr th {\n",
              "        vertical-align: top;\n",
              "    }\n",
              "\n",
              "    .dataframe thead th {\n",
              "        text-align: right;\n",
              "    }\n",
              "</style>\n",
              "<table border=\"1\" class=\"dataframe\">\n",
              "  <thead>\n",
              "    <tr style=\"text-align: right;\">\n",
              "      <th></th>\n",
              "      <th>row_id</th>\n",
              "      <th>meter_reading</th>\n",
              "    </tr>\n",
              "  </thead>\n",
              "  <tbody>\n",
              "    <tr>\n",
              "      <th>281960</th>\n",
              "      <td>0</td>\n",
              "      <td>0.041510</td>\n",
              "    </tr>\n",
              "    <tr>\n",
              "      <th>413175</th>\n",
              "      <td>1</td>\n",
              "      <td>0.041510</td>\n",
              "    </tr>\n",
              "    <tr>\n",
              "      <th>162930</th>\n",
              "      <td>2</td>\n",
              "      <td>0.034373</td>\n",
              "    </tr>\n",
              "    <tr>\n",
              "      <th>374150</th>\n",
              "      <td>3</td>\n",
              "      <td>0.041510</td>\n",
              "    </tr>\n",
              "    <tr>\n",
              "      <th>431176</th>\n",
              "      <td>4</td>\n",
              "      <td>0.041510</td>\n",
              "    </tr>\n",
              "    <tr>\n",
              "      <th>...</th>\n",
              "      <td>...</td>\n",
              "      <td>...</td>\n",
              "    </tr>\n",
              "    <tr>\n",
              "      <th>41542027</th>\n",
              "      <td>41697595</td>\n",
              "      <td>5.283118</td>\n",
              "    </tr>\n",
              "    <tr>\n",
              "      <th>41640202</th>\n",
              "      <td>41697596</td>\n",
              "      <td>3.462786</td>\n",
              "    </tr>\n",
              "    <tr>\n",
              "      <th>41618431</th>\n",
              "      <td>41697597</td>\n",
              "      <td>7.252460</td>\n",
              "    </tr>\n",
              "    <tr>\n",
              "      <th>41604830</th>\n",
              "      <td>41697598</td>\n",
              "      <td>170.229841</td>\n",
              "    </tr>\n",
              "    <tr>\n",
              "      <th>41580416</th>\n",
              "      <td>41697599</td>\n",
              "      <td>3.092269</td>\n",
              "    </tr>\n",
              "  </tbody>\n",
              "</table>\n",
              "<p>41697600 rows × 2 columns</p>\n",
              "</div>"
            ],
            "text/plain": [
              "            row_id  meter_reading\n",
              "281960           0       0.041510\n",
              "413175           1       0.041510\n",
              "162930           2       0.034373\n",
              "374150           3       0.041510\n",
              "431176           4       0.041510\n",
              "...            ...            ...\n",
              "41542027  41697595       5.283118\n",
              "41640202  41697596       3.462786\n",
              "41618431  41697597       7.252460\n",
              "41604830  41697598     170.229841\n",
              "41580416  41697599       3.092269\n",
              "\n",
              "[41697600 rows x 2 columns]"
            ]
          },
          "metadata": {
            "tags": []
          },
          "execution_count": 23
        }
      ]
    },
    {
      "cell_type": "code",
      "metadata": {
        "id": "LJIwxIHNuFDE"
      },
      "source": [
        "compression_opts = dict(method='zip',archive_name='transfer_learning_out_o.csv')  \n",
        "pred_final.to_csv('transfer_learning_out_o.zip', index=False,compression=compression_opts)\n",
        "\n",
        "!cp transfer_learning_out_o.zip /content/drive/MyDrive/transfer_learning_out_o.zip"
      ],
      "execution_count": 24,
      "outputs": []
    },
    {
      "cell_type": "code",
      "metadata": {
        "id": "YZQM-BtW-qiG"
      },
      "source": [
        ""
      ],
      "execution_count": null,
      "outputs": []
    },
    {
      "cell_type": "code",
      "metadata": {
        "id": "bNEHmFPWJX2C"
      },
      "source": [
        ""
      ],
      "execution_count": null,
      "outputs": []
    }
  ]
}